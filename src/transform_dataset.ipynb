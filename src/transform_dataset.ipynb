{
 "cells": [
  {
   "cell_type": "markdown",
   "metadata": {},
   "source": [
    "# Load / Transform weather stations datasets"
   ]
  },
  {
   "cell_type": "code",
   "execution_count": 156,
   "metadata": {},
   "outputs": [],
   "source": [
    "import pandas as pd\n",
    "\n",
    "from datetime import datetime, timedelta"
   ]
  },
  {
   "cell_type": "markdown",
   "metadata": {},
   "source": [
    "## Loading weather stations"
   ]
  },
  {
   "cell_type": "code",
   "execution_count": 157,
   "metadata": {},
   "outputs": [],
   "source": [
    "header = ['data_hora', 'nivel', 'chuva']\n",
    "\n",
    "weather_stations = {\n",
    "    'alfredo_wagner': pd.read_csv('..\\data\\ceops_v1\\AlfredoVagner.csv', names=header, header=0, parse_dates=['data_hora']),\n",
    "    'apiuna': pd.read_csv('..\\data\\ceops_v1\\Apiuna.csv', names=header, header=0, parse_dates=['data_hora']),\n",
    "    'benedito_novo': pd.read_csv('..\\data\\ceops_v1\\BeneditoNovo.csv', names=header, header=0, parse_dates=['data_hora']),\n",
    "    'blumenau': pd.read_csv('..\\data\\ceops_v1\\Blumenau.csv', names=header, header=0, parse_dates=['data_hora']),\n",
    "    #'botuvera': pd.read_csv('..\\data\\ceops_v1\\Botuvera_itajai_mirim.csv', names=header, header=0, parse_dates=['data_hora']),\n",
    "    #'brusque': pd.read_csv('..\\data\\ceops_v1\\Brusque_itajai_mirim.csv', names=header, header=0, parse_dates=['data_hora']),\n",
    "    'gaspar': pd.read_csv('..\\data\\ceops_v1\\Gaspar.csv', names=header[0:-1], header=0, parse_dates=['data_hora'], usecols=[0, 1]),\n",
    "    'ibirama': pd.read_csv('..\\data\\ceops_v1\\Ibirama.csv', names=header, header=0, parse_dates=['data_hora']),\n",
    "    'indaial': pd.read_csv('..\\data\\ceops_v1\\Indaial.csv', names=header, header=0, parse_dates=['data_hora']),\n",
    "    'ituporanga': pd.read_csv('..\\data\\ceops_v1\\Ituporanga.csv', names=header, header=0, parse_dates=['data_hora']),\n",
    "    'pouso_redondo': pd.read_csv('..\\data\\ceops_v1\\PousoRedondo.csv', names=header, header=0, parse_dates=['data_hora']),\n",
    "    'rio_do_oeste': pd.read_csv('..\\data\\ceops_v1\\RioDoOeste.csv', names=header, header=0, parse_dates=['data_hora']),\n",
    "    'rio_dos_cedros': pd.read_csv('..\\data\\ceops_v1\\RioDosCedros.csv', names=header, header=0, parse_dates=['data_hora']),\n",
    "    'rio_do_sul': pd.read_csv('..\\data\\ceops_v1\\RioDoSul.csv', names=header, header=0, parse_dates=['data_hora']),\n",
    "    'taio': pd.read_csv('..\\data\\ceops_v1\\Taio.csv', names=header, header=0, parse_dates=['data_hora']),\n",
    "    'timbo': pd.read_csv('..\\data\\ceops_v1\\Timbo.csv', names=header, header=0, parse_dates=['data_hora']),\n",
    "    #'vidal_ramos': pd.read_csv('..\\data\\ceops_v1\\VidalRamos_itajai_mirim.csv', names=header, header=0, parse_dates=['data_hora']),\n",
    "}"
   ]
  },
  {
   "cell_type": "markdown",
   "metadata": {},
   "source": [
    "## Analyzing DataSets"
   ]
  },
  {
   "cell_type": "markdown",
   "metadata": {},
   "source": [
    "### Analyzing Alfredo Wagner"
   ]
  },
  {
   "cell_type": "code",
   "execution_count": 4,
   "metadata": {},
   "outputs": [
    {
     "data": {
      "text/html": [
       "<div>\n",
       "<style scoped>\n",
       "    .dataframe tbody tr th:only-of-type {\n",
       "        vertical-align: middle;\n",
       "    }\n",
       "\n",
       "    .dataframe tbody tr th {\n",
       "        vertical-align: top;\n",
       "    }\n",
       "\n",
       "    .dataframe thead th {\n",
       "        text-align: right;\n",
       "    }\n",
       "</style>\n",
       "<table border=\"1\" class=\"dataframe\">\n",
       "  <thead>\n",
       "    <tr style=\"text-align: right;\">\n",
       "      <th></th>\n",
       "      <th>data_hora</th>\n",
       "      <th>nivel</th>\n",
       "      <th>chuva</th>\n",
       "    </tr>\n",
       "  </thead>\n",
       "  <tbody>\n",
       "    <tr>\n",
       "      <th>0</th>\n",
       "      <td>2009-07-24 08:00:00</td>\n",
       "      <td>0.141</td>\n",
       "      <td>0.0</td>\n",
       "    </tr>\n",
       "    <tr>\n",
       "      <th>1</th>\n",
       "      <td>2009-07-24 08:15:00</td>\n",
       "      <td>0.141</td>\n",
       "      <td>0.0</td>\n",
       "    </tr>\n",
       "    <tr>\n",
       "      <th>2</th>\n",
       "      <td>2009-07-24 08:30:00</td>\n",
       "      <td>0.142</td>\n",
       "      <td>0.0</td>\n",
       "    </tr>\n",
       "    <tr>\n",
       "      <th>3</th>\n",
       "      <td>2009-07-24 08:45:00</td>\n",
       "      <td>0.141</td>\n",
       "      <td>0.0</td>\n",
       "    </tr>\n",
       "    <tr>\n",
       "      <th>4</th>\n",
       "      <td>2009-07-24 09:00:00</td>\n",
       "      <td>0.142</td>\n",
       "      <td>0.0</td>\n",
       "    </tr>\n",
       "  </tbody>\n",
       "</table>\n",
       "</div>"
      ],
      "text/plain": [
       "            data_hora  nivel  chuva\n",
       "0 2009-07-24 08:00:00  0.141    0.0\n",
       "1 2009-07-24 08:15:00  0.141    0.0\n",
       "2 2009-07-24 08:30:00  0.142    0.0\n",
       "3 2009-07-24 08:45:00  0.141    0.0\n",
       "4 2009-07-24 09:00:00  0.142    0.0"
      ]
     },
     "execution_count": 4,
     "metadata": {},
     "output_type": "execute_result"
    }
   ],
   "source": [
    "weather_stations['alfredo_wagner'].head()"
   ]
  },
  {
   "cell_type": "code",
   "execution_count": 5,
   "metadata": {},
   "outputs": [
    {
     "name": "stdout",
     "output_type": "stream",
     "text": [
      "<class 'pandas.core.frame.DataFrame'>\n",
      "RangeIndex: 240474 entries, 0 to 240473\n",
      "Data columns (total 3 columns):\n",
      " #   Column     Non-Null Count   Dtype         \n",
      "---  ------     --------------   -----         \n",
      " 0   data_hora  240474 non-null  datetime64[ns]\n",
      " 1   nivel      240474 non-null  float64       \n",
      " 2   chuva      240474 non-null  float64       \n",
      "dtypes: datetime64[ns](1), float64(2)\n",
      "memory usage: 5.5 MB\n"
     ]
    }
   ],
   "source": [
    "weather_stations['alfredo_wagner'].info()"
   ]
  },
  {
   "cell_type": "code",
   "execution_count": 6,
   "metadata": {},
   "outputs": [
    {
     "data": {
      "text/html": [
       "<div>\n",
       "<style scoped>\n",
       "    .dataframe tbody tr th:only-of-type {\n",
       "        vertical-align: middle;\n",
       "    }\n",
       "\n",
       "    .dataframe tbody tr th {\n",
       "        vertical-align: top;\n",
       "    }\n",
       "\n",
       "    .dataframe thead th {\n",
       "        text-align: right;\n",
       "    }\n",
       "</style>\n",
       "<table border=\"1\" class=\"dataframe\">\n",
       "  <thead>\n",
       "    <tr style=\"text-align: right;\">\n",
       "      <th></th>\n",
       "      <th>data_hora</th>\n",
       "      <th>nivel</th>\n",
       "      <th>chuva</th>\n",
       "    </tr>\n",
       "  </thead>\n",
       "  <tbody>\n",
       "    <tr>\n",
       "      <th>4382</th>\n",
       "      <td>2009-09-08 01:00:00</td>\n",
       "      <td>0.261</td>\n",
       "      <td>3.556</td>\n",
       "    </tr>\n",
       "    <tr>\n",
       "      <th>4383</th>\n",
       "      <td>2009-09-08 01:15:00</td>\n",
       "      <td>0.261</td>\n",
       "      <td>8.130</td>\n",
       "    </tr>\n",
       "    <tr>\n",
       "      <th>4384</th>\n",
       "      <td>2009-09-08 01:30:00</td>\n",
       "      <td>0.261</td>\n",
       "      <td>1.524</td>\n",
       "    </tr>\n",
       "    <tr>\n",
       "      <th>4385</th>\n",
       "      <td>2009-09-08 01:45:00</td>\n",
       "      <td>0.261</td>\n",
       "      <td>0.762</td>\n",
       "    </tr>\n",
       "    <tr>\n",
       "      <th>4522</th>\n",
       "      <td>2009-09-09 11:00:00</td>\n",
       "      <td>0.269</td>\n",
       "      <td>0.000</td>\n",
       "    </tr>\n",
       "    <tr>\n",
       "      <th>...</th>\n",
       "      <td>...</td>\n",
       "      <td>...</td>\n",
       "      <td>...</td>\n",
       "    </tr>\n",
       "    <tr>\n",
       "      <th>94434</th>\n",
       "      <td>2012-02-08 23:30:00</td>\n",
       "      <td>0.636</td>\n",
       "      <td>0.000</td>\n",
       "    </tr>\n",
       "    <tr>\n",
       "      <th>94435</th>\n",
       "      <td>2012-02-08 23:45:00</td>\n",
       "      <td>0.653</td>\n",
       "      <td>0.000</td>\n",
       "    </tr>\n",
       "    <tr>\n",
       "      <th>94436</th>\n",
       "      <td>2012-02-09 00:00:00</td>\n",
       "      <td>0.655</td>\n",
       "      <td>0.000</td>\n",
       "    </tr>\n",
       "    <tr>\n",
       "      <th>134770</th>\n",
       "      <td>2013-04-04 10:30:00</td>\n",
       "      <td>0.434</td>\n",
       "      <td>0.000</td>\n",
       "    </tr>\n",
       "    <tr>\n",
       "      <th>186119</th>\n",
       "      <td>2014-10-07 13:30:00</td>\n",
       "      <td>0.398</td>\n",
       "      <td>0.000</td>\n",
       "    </tr>\n",
       "  </tbody>\n",
       "</table>\n",
       "<p>23106 rows × 3 columns</p>\n",
       "</div>"
      ],
      "text/plain": [
       "                 data_hora  nivel  chuva\n",
       "4382   2009-09-08 01:00:00  0.261  3.556\n",
       "4383   2009-09-08 01:15:00  0.261  8.130\n",
       "4384   2009-09-08 01:30:00  0.261  1.524\n",
       "4385   2009-09-08 01:45:00  0.261  0.762\n",
       "4522   2009-09-09 11:00:00  0.269  0.000\n",
       "...                    ...    ...    ...\n",
       "94434  2012-02-08 23:30:00  0.636  0.000\n",
       "94435  2012-02-08 23:45:00  0.653  0.000\n",
       "94436  2012-02-09 00:00:00  0.655  0.000\n",
       "134770 2013-04-04 10:30:00  0.434  0.000\n",
       "186119 2014-10-07 13:30:00  0.398  0.000\n",
       "\n",
       "[23106 rows x 3 columns]"
      ]
     },
     "execution_count": 6,
     "metadata": {},
     "output_type": "execute_result"
    }
   ],
   "source": [
    "weather_stations['alfredo_wagner'][weather_stations['alfredo_wagner'].duplicated()]"
   ]
  },
  {
   "cell_type": "code",
   "execution_count": 7,
   "metadata": {},
   "outputs": [
    {
     "name": "stdout",
     "output_type": "stream",
     "text": [
      "Empty DataFrame\n",
      "Columns: [data_hora, nivel, chuva]\n",
      "Index: []\n",
      "Empty DataFrame\n",
      "Columns: [data_hora, nivel, chuva]\n",
      "Index: []\n",
      "Empty DataFrame\n",
      "Columns: [data_hora, nivel, chuva]\n",
      "Index: []\n"
     ]
    }
   ],
   "source": [
    "print(weather_stations['alfredo_wagner'][weather_stations['alfredo_wagner'].data_hora.isna()])\n",
    "print(weather_stations['alfredo_wagner'][weather_stations['alfredo_wagner'].nivel.isna()])\n",
    "print(weather_stations['alfredo_wagner'][weather_stations['alfredo_wagner'].chuva.isna()])"
   ]
  },
  {
   "cell_type": "code",
   "execution_count": 8,
   "metadata": {},
   "outputs": [
    {
     "name": "stdout",
     "output_type": "stream",
     "text": [
      "                 data_hora  nivel  chuva\n",
      "7347   2009-10-14 09:15:00 -2.380  0.000\n",
      "38246  2011-02-27 10:30:00 -2.620  0.508\n",
      "38247  2011-02-27 10:45:00 -2.605  0.000\n",
      "38248  2011-02-27 11:00:00 -2.545  0.000\n",
      "38249  2011-02-27 11:15:00 -2.532  0.000\n",
      "...                    ...    ...    ...\n",
      "141794 2013-06-16 14:30:00 -0.006  0.000\n",
      "141795 2013-06-16 14:45:00 -0.006  0.000\n",
      "141796 2013-06-16 15:00:00 -0.006  0.000\n",
      "141797 2013-06-16 15:15:00 -0.006  0.000\n",
      "141799 2013-06-16 15:45:00 -0.004  0.000\n",
      "\n",
      "[11477 rows x 3 columns]\n",
      "Empty DataFrame\n",
      "Columns: [data_hora, nivel, chuva]\n",
      "Index: []\n"
     ]
    }
   ],
   "source": [
    "print(weather_stations['alfredo_wagner'][weather_stations['alfredo_wagner'].nivel < 0])\n",
    "print(weather_stations['alfredo_wagner'][weather_stations['alfredo_wagner'].chuva < 0])"
   ]
  },
  {
   "cell_type": "markdown",
   "metadata": {},
   "source": [
    "### Analyzing Apiuna"
   ]
  },
  {
   "cell_type": "code",
   "execution_count": 9,
   "metadata": {},
   "outputs": [
    {
     "data": {
      "text/html": [
       "<div>\n",
       "<style scoped>\n",
       "    .dataframe tbody tr th:only-of-type {\n",
       "        vertical-align: middle;\n",
       "    }\n",
       "\n",
       "    .dataframe tbody tr th {\n",
       "        vertical-align: top;\n",
       "    }\n",
       "\n",
       "    .dataframe thead th {\n",
       "        text-align: right;\n",
       "    }\n",
       "</style>\n",
       "<table border=\"1\" class=\"dataframe\">\n",
       "  <thead>\n",
       "    <tr style=\"text-align: right;\">\n",
       "      <th></th>\n",
       "      <th>data_hora</th>\n",
       "      <th>nivel</th>\n",
       "      <th>chuva</th>\n",
       "    </tr>\n",
       "  </thead>\n",
       "  <tbody>\n",
       "    <tr>\n",
       "      <th>0</th>\n",
       "      <td>2008-12-28 10:15:00</td>\n",
       "      <td>0.562</td>\n",
       "      <td>0.0</td>\n",
       "    </tr>\n",
       "    <tr>\n",
       "      <th>1</th>\n",
       "      <td>2008-12-28 14:30:00</td>\n",
       "      <td>0.559</td>\n",
       "      <td>0.0</td>\n",
       "    </tr>\n",
       "    <tr>\n",
       "      <th>2</th>\n",
       "      <td>2008-12-28 14:45:00</td>\n",
       "      <td>1.198</td>\n",
       "      <td>3.9</td>\n",
       "    </tr>\n",
       "    <tr>\n",
       "      <th>3</th>\n",
       "      <td>2008-12-28 15:00:00</td>\n",
       "      <td>1.196</td>\n",
       "      <td>0.0</td>\n",
       "    </tr>\n",
       "    <tr>\n",
       "      <th>4</th>\n",
       "      <td>2008-12-28 15:15:00</td>\n",
       "      <td>1.193</td>\n",
       "      <td>0.0</td>\n",
       "    </tr>\n",
       "  </tbody>\n",
       "</table>\n",
       "</div>"
      ],
      "text/plain": [
       "            data_hora  nivel  chuva\n",
       "0 2008-12-28 10:15:00  0.562    0.0\n",
       "1 2008-12-28 14:30:00  0.559    0.0\n",
       "2 2008-12-28 14:45:00  1.198    3.9\n",
       "3 2008-12-28 15:00:00  1.196    0.0\n",
       "4 2008-12-28 15:15:00  1.193    0.0"
      ]
     },
     "execution_count": 9,
     "metadata": {},
     "output_type": "execute_result"
    }
   ],
   "source": [
    "weather_stations['apiuna'].head()"
   ]
  },
  {
   "cell_type": "code",
   "execution_count": 10,
   "metadata": {},
   "outputs": [
    {
     "name": "stdout",
     "output_type": "stream",
     "text": [
      "<class 'pandas.core.frame.DataFrame'>\n",
      "RangeIndex: 379588 entries, 0 to 379587\n",
      "Data columns (total 3 columns):\n",
      " #   Column     Non-Null Count   Dtype         \n",
      "---  ------     --------------   -----         \n",
      " 0   data_hora  379588 non-null  datetime64[ns]\n",
      " 1   nivel      379588 non-null  float64       \n",
      " 2   chuva      379588 non-null  float64       \n",
      "dtypes: datetime64[ns](1), float64(2)\n",
      "memory usage: 8.7 MB\n"
     ]
    }
   ],
   "source": [
    "weather_stations['apiuna'].info()"
   ]
  },
  {
   "cell_type": "code",
   "execution_count": 11,
   "metadata": {},
   "outputs": [
    {
     "data": {
      "text/html": [
       "<div>\n",
       "<style scoped>\n",
       "    .dataframe tbody tr th:only-of-type {\n",
       "        vertical-align: middle;\n",
       "    }\n",
       "\n",
       "    .dataframe tbody tr th {\n",
       "        vertical-align: top;\n",
       "    }\n",
       "\n",
       "    .dataframe thead th {\n",
       "        text-align: right;\n",
       "    }\n",
       "</style>\n",
       "<table border=\"1\" class=\"dataframe\">\n",
       "  <thead>\n",
       "    <tr style=\"text-align: right;\">\n",
       "      <th></th>\n",
       "      <th>data_hora</th>\n",
       "      <th>nivel</th>\n",
       "      <th>chuva</th>\n",
       "    </tr>\n",
       "  </thead>\n",
       "  <tbody>\n",
       "    <tr>\n",
       "      <th>81282</th>\n",
       "      <td>2011-06-17 11:45:00</td>\n",
       "      <td>1.138</td>\n",
       "      <td>0.0</td>\n",
       "    </tr>\n",
       "    <tr>\n",
       "      <th>81283</th>\n",
       "      <td>2011-06-17 12:00:00</td>\n",
       "      <td>1.134</td>\n",
       "      <td>0.0</td>\n",
       "    </tr>\n",
       "    <tr>\n",
       "      <th>81284</th>\n",
       "      <td>2011-06-17 12:15:00</td>\n",
       "      <td>1.130</td>\n",
       "      <td>0.0</td>\n",
       "    </tr>\n",
       "    <tr>\n",
       "      <th>81285</th>\n",
       "      <td>2011-06-17 12:30:00</td>\n",
       "      <td>1.158</td>\n",
       "      <td>0.0</td>\n",
       "    </tr>\n",
       "    <tr>\n",
       "      <th>81286</th>\n",
       "      <td>2011-06-17 12:45:00</td>\n",
       "      <td>1.146</td>\n",
       "      <td>0.0</td>\n",
       "    </tr>\n",
       "    <tr>\n",
       "      <th>...</th>\n",
       "      <td>...</td>\n",
       "      <td>...</td>\n",
       "      <td>...</td>\n",
       "    </tr>\n",
       "    <tr>\n",
       "      <th>285658</th>\n",
       "      <td>2017-11-02 05:00:00</td>\n",
       "      <td>1.287</td>\n",
       "      <td>0.0</td>\n",
       "    </tr>\n",
       "    <tr>\n",
       "      <th>285659</th>\n",
       "      <td>2017-11-02 05:15:00</td>\n",
       "      <td>1.287</td>\n",
       "      <td>0.0</td>\n",
       "    </tr>\n",
       "    <tr>\n",
       "      <th>285660</th>\n",
       "      <td>2017-11-02 05:30:00</td>\n",
       "      <td>1.289</td>\n",
       "      <td>0.0</td>\n",
       "    </tr>\n",
       "    <tr>\n",
       "      <th>285661</th>\n",
       "      <td>2017-11-02 05:45:00</td>\n",
       "      <td>1.287</td>\n",
       "      <td>0.0</td>\n",
       "    </tr>\n",
       "    <tr>\n",
       "      <th>285662</th>\n",
       "      <td>2017-11-02 06:00:00</td>\n",
       "      <td>1.282</td>\n",
       "      <td>0.0</td>\n",
       "    </tr>\n",
       "  </tbody>\n",
       "</table>\n",
       "<p>3501 rows × 3 columns</p>\n",
       "</div>"
      ],
      "text/plain": [
       "                 data_hora  nivel  chuva\n",
       "81282  2011-06-17 11:45:00  1.138    0.0\n",
       "81283  2011-06-17 12:00:00  1.134    0.0\n",
       "81284  2011-06-17 12:15:00  1.130    0.0\n",
       "81285  2011-06-17 12:30:00  1.158    0.0\n",
       "81286  2011-06-17 12:45:00  1.146    0.0\n",
       "...                    ...    ...    ...\n",
       "285658 2017-11-02 05:00:00  1.287    0.0\n",
       "285659 2017-11-02 05:15:00  1.287    0.0\n",
       "285660 2017-11-02 05:30:00  1.289    0.0\n",
       "285661 2017-11-02 05:45:00  1.287    0.0\n",
       "285662 2017-11-02 06:00:00  1.282    0.0\n",
       "\n",
       "[3501 rows x 3 columns]"
      ]
     },
     "execution_count": 11,
     "metadata": {},
     "output_type": "execute_result"
    }
   ],
   "source": [
    "weather_stations['apiuna'][weather_stations['apiuna'].duplicated()]"
   ]
  },
  {
   "cell_type": "code",
   "execution_count": 12,
   "metadata": {},
   "outputs": [
    {
     "name": "stdout",
     "output_type": "stream",
     "text": [
      "Empty DataFrame\n",
      "Columns: [data_hora, nivel, chuva]\n",
      "Index: []\n",
      "Empty DataFrame\n",
      "Columns: [data_hora, nivel, chuva]\n",
      "Index: []\n",
      "Empty DataFrame\n",
      "Columns: [data_hora, nivel, chuva]\n",
      "Index: []\n"
     ]
    }
   ],
   "source": [
    "print(weather_stations['apiuna'][weather_stations['apiuna'].data_hora.isna()])\n",
    "print(weather_stations['apiuna'][weather_stations['apiuna'].nivel.isna()])\n",
    "print(weather_stations['apiuna'][weather_stations['apiuna'].chuva.isna()])"
   ]
  },
  {
   "cell_type": "code",
   "execution_count": 13,
   "metadata": {},
   "outputs": [
    {
     "name": "stdout",
     "output_type": "stream",
     "text": [
      "                data_hora  nivel  chuva\n",
      "4844  2009-04-02 12:00:00 -2.500  0.000\n",
      "4845  2009-04-02 12:15:00 -2.500  0.000\n",
      "4846  2009-04-02 12:30:00 -2.500  1.524\n",
      "4847  2009-04-02 12:45:00 -2.500  0.000\n",
      "4848  2009-04-02 13:00:00 -2.500  0.000\n",
      "...                   ...    ...    ...\n",
      "58464 2010-10-28 06:00:00 -2.945  0.000\n",
      "58465 2010-10-28 06:15:00 -2.947  0.000\n",
      "58466 2010-10-28 06:30:00 -2.950  0.000\n",
      "58467 2010-10-28 06:45:00 -2.952  0.000\n",
      "58468 2010-10-28 07:00:00 -2.956  0.000\n",
      "\n",
      "[1744 rows x 3 columns]\n",
      "Empty DataFrame\n",
      "Columns: [data_hora, nivel, chuva]\n",
      "Index: []\n"
     ]
    }
   ],
   "source": [
    "print(weather_stations['apiuna'][weather_stations['apiuna'].nivel < 0])\n",
    "print(weather_stations['apiuna'][weather_stations['apiuna'].chuva < 0])"
   ]
  },
  {
   "cell_type": "markdown",
   "metadata": {},
   "source": [
    "### Analyzing Benedito Novo"
   ]
  },
  {
   "cell_type": "code",
   "execution_count": 14,
   "metadata": {},
   "outputs": [
    {
     "data": {
      "text/html": [
       "<div>\n",
       "<style scoped>\n",
       "    .dataframe tbody tr th:only-of-type {\n",
       "        vertical-align: middle;\n",
       "    }\n",
       "\n",
       "    .dataframe tbody tr th {\n",
       "        vertical-align: top;\n",
       "    }\n",
       "\n",
       "    .dataframe thead th {\n",
       "        text-align: right;\n",
       "    }\n",
       "</style>\n",
       "<table border=\"1\" class=\"dataframe\">\n",
       "  <thead>\n",
       "    <tr style=\"text-align: right;\">\n",
       "      <th></th>\n",
       "      <th>data_hora</th>\n",
       "      <th>nivel</th>\n",
       "      <th>chuva</th>\n",
       "    </tr>\n",
       "  </thead>\n",
       "  <tbody>\n",
       "    <tr>\n",
       "      <th>0</th>\n",
       "      <td>2012-11-05 09:30:00</td>\n",
       "      <td>-4.263</td>\n",
       "      <td>0.0</td>\n",
       "    </tr>\n",
       "    <tr>\n",
       "      <th>1</th>\n",
       "      <td>2012-11-05 09:45:00</td>\n",
       "      <td>-4.251</td>\n",
       "      <td>0.0</td>\n",
       "    </tr>\n",
       "    <tr>\n",
       "      <th>2</th>\n",
       "      <td>2012-11-07 12:30:00</td>\n",
       "      <td>0.399</td>\n",
       "      <td>0.0</td>\n",
       "    </tr>\n",
       "    <tr>\n",
       "      <th>3</th>\n",
       "      <td>2012-11-07 12:45:00</td>\n",
       "      <td>0.412</td>\n",
       "      <td>0.0</td>\n",
       "    </tr>\n",
       "    <tr>\n",
       "      <th>4</th>\n",
       "      <td>2012-11-07 13:00:00</td>\n",
       "      <td>0.399</td>\n",
       "      <td>0.0</td>\n",
       "    </tr>\n",
       "  </tbody>\n",
       "</table>\n",
       "</div>"
      ],
      "text/plain": [
       "            data_hora  nivel  chuva\n",
       "0 2012-11-05 09:30:00 -4.263    0.0\n",
       "1 2012-11-05 09:45:00 -4.251    0.0\n",
       "2 2012-11-07 12:30:00  0.399    0.0\n",
       "3 2012-11-07 12:45:00  0.412    0.0\n",
       "4 2012-11-07 13:00:00  0.399    0.0"
      ]
     },
     "execution_count": 14,
     "metadata": {},
     "output_type": "execute_result"
    }
   ],
   "source": [
    "weather_stations['benedito_novo'].head()"
   ]
  },
  {
   "cell_type": "code",
   "execution_count": 15,
   "metadata": {},
   "outputs": [
    {
     "name": "stdout",
     "output_type": "stream",
     "text": [
      "<class 'pandas.core.frame.DataFrame'>\n",
      "RangeIndex: 254260 entries, 0 to 254259\n",
      "Data columns (total 3 columns):\n",
      " #   Column     Non-Null Count   Dtype         \n",
      "---  ------     --------------   -----         \n",
      " 0   data_hora  254260 non-null  datetime64[ns]\n",
      " 1   nivel      254260 non-null  float64       \n",
      " 2   chuva      254260 non-null  float64       \n",
      "dtypes: datetime64[ns](1), float64(2)\n",
      "memory usage: 5.8 MB\n"
     ]
    }
   ],
   "source": [
    "weather_stations['benedito_novo'].info()"
   ]
  },
  {
   "cell_type": "code",
   "execution_count": 16,
   "metadata": {},
   "outputs": [
    {
     "data": {
      "text/html": [
       "<div>\n",
       "<style scoped>\n",
       "    .dataframe tbody tr th:only-of-type {\n",
       "        vertical-align: middle;\n",
       "    }\n",
       "\n",
       "    .dataframe tbody tr th {\n",
       "        vertical-align: top;\n",
       "    }\n",
       "\n",
       "    .dataframe thead th {\n",
       "        text-align: right;\n",
       "    }\n",
       "</style>\n",
       "<table border=\"1\" class=\"dataframe\">\n",
       "  <thead>\n",
       "    <tr style=\"text-align: right;\">\n",
       "      <th></th>\n",
       "      <th>data_hora</th>\n",
       "      <th>nivel</th>\n",
       "      <th>chuva</th>\n",
       "    </tr>\n",
       "  </thead>\n",
       "  <tbody>\n",
       "    <tr>\n",
       "      <th>74671</th>\n",
       "      <td>2015-01-07 15:15:00</td>\n",
       "      <td>0.548</td>\n",
       "      <td>0.0</td>\n",
       "    </tr>\n",
       "    <tr>\n",
       "      <th>74672</th>\n",
       "      <td>2015-01-07 15:30:00</td>\n",
       "      <td>0.545</td>\n",
       "      <td>0.0</td>\n",
       "    </tr>\n",
       "    <tr>\n",
       "      <th>74673</th>\n",
       "      <td>2015-01-07 15:45:00</td>\n",
       "      <td>0.539</td>\n",
       "      <td>0.0</td>\n",
       "    </tr>\n",
       "    <tr>\n",
       "      <th>74674</th>\n",
       "      <td>2015-01-07 16:00:00</td>\n",
       "      <td>0.541</td>\n",
       "      <td>0.0</td>\n",
       "    </tr>\n",
       "    <tr>\n",
       "      <th>79595</th>\n",
       "      <td>2015-02-27 21:15:00</td>\n",
       "      <td>0.510</td>\n",
       "      <td>0.0</td>\n",
       "    </tr>\n",
       "    <tr>\n",
       "      <th>...</th>\n",
       "      <td>...</td>\n",
       "      <td>...</td>\n",
       "      <td>...</td>\n",
       "    </tr>\n",
       "    <tr>\n",
       "      <th>187403</th>\n",
       "      <td>2018-10-10 19:00:00</td>\n",
       "      <td>-25.020</td>\n",
       "      <td>0.0</td>\n",
       "    </tr>\n",
       "    <tr>\n",
       "      <th>201400</th>\n",
       "      <td>2019-03-06 15:15:00</td>\n",
       "      <td>0.857</td>\n",
       "      <td>0.0</td>\n",
       "    </tr>\n",
       "    <tr>\n",
       "      <th>201401</th>\n",
       "      <td>2019-03-06 15:30:00</td>\n",
       "      <td>0.932</td>\n",
       "      <td>0.0</td>\n",
       "    </tr>\n",
       "    <tr>\n",
       "      <th>201402</th>\n",
       "      <td>2019-03-06 15:45:00</td>\n",
       "      <td>0.974</td>\n",
       "      <td>0.0</td>\n",
       "    </tr>\n",
       "    <tr>\n",
       "      <th>201403</th>\n",
       "      <td>2019-03-06 16:00:00</td>\n",
       "      <td>0.978</td>\n",
       "      <td>0.0</td>\n",
       "    </tr>\n",
       "  </tbody>\n",
       "</table>\n",
       "<p>2501 rows × 3 columns</p>\n",
       "</div>"
      ],
      "text/plain": [
       "                 data_hora   nivel  chuva\n",
       "74671  2015-01-07 15:15:00   0.548    0.0\n",
       "74672  2015-01-07 15:30:00   0.545    0.0\n",
       "74673  2015-01-07 15:45:00   0.539    0.0\n",
       "74674  2015-01-07 16:00:00   0.541    0.0\n",
       "79595  2015-02-27 21:15:00   0.510    0.0\n",
       "...                    ...     ...    ...\n",
       "187403 2018-10-10 19:00:00 -25.020    0.0\n",
       "201400 2019-03-06 15:15:00   0.857    0.0\n",
       "201401 2019-03-06 15:30:00   0.932    0.0\n",
       "201402 2019-03-06 15:45:00   0.974    0.0\n",
       "201403 2019-03-06 16:00:00   0.978    0.0\n",
       "\n",
       "[2501 rows x 3 columns]"
      ]
     },
     "execution_count": 16,
     "metadata": {},
     "output_type": "execute_result"
    }
   ],
   "source": [
    "weather_stations['benedito_novo'][weather_stations['benedito_novo'].duplicated()]"
   ]
  },
  {
   "cell_type": "code",
   "execution_count": 17,
   "metadata": {},
   "outputs": [
    {
     "name": "stdout",
     "output_type": "stream",
     "text": [
      "Empty DataFrame\n",
      "Columns: [data_hora, nivel, chuva]\n",
      "Index: []\n",
      "Empty DataFrame\n",
      "Columns: [data_hora, nivel, chuva]\n",
      "Index: []\n",
      "Empty DataFrame\n",
      "Columns: [data_hora, nivel, chuva]\n",
      "Index: []\n"
     ]
    }
   ],
   "source": [
    "print(weather_stations['benedito_novo'][weather_stations['benedito_novo'].data_hora.isna()])\n",
    "print(weather_stations['benedito_novo'][weather_stations['benedito_novo'].nivel.isna()])\n",
    "print(weather_stations['benedito_novo'][weather_stations['benedito_novo'].chuva.isna()])"
   ]
  },
  {
   "cell_type": "code",
   "execution_count": 18,
   "metadata": {},
   "outputs": [
    {
     "name": "stdout",
     "output_type": "stream",
     "text": [
      "                 data_hora   nivel  chuva\n",
      "0      2012-11-05 09:30:00  -4.263    0.0\n",
      "1      2012-11-05 09:45:00  -4.251    0.0\n",
      "10381  2013-03-03 12:45:00  -0.011    0.0\n",
      "10382  2013-03-03 13:00:00  -0.022    0.0\n",
      "10383  2013-03-03 13:15:00  -0.035    0.0\n",
      "...                    ...     ...    ...\n",
      "187552 2018-10-12 08:15:00 -25.020    0.0\n",
      "187553 2018-10-12 08:30:00 -25.020    0.0\n",
      "187554 2018-10-12 08:45:00 -25.020    0.0\n",
      "187555 2018-10-12 09:00:00 -25.020    0.0\n",
      "187556 2018-10-12 09:15:00 -25.020    0.0\n",
      "\n",
      "[8400 rows x 3 columns]\n",
      "Empty DataFrame\n",
      "Columns: [data_hora, nivel, chuva]\n",
      "Index: []\n"
     ]
    }
   ],
   "source": [
    "print(weather_stations['benedito_novo'][weather_stations['benedito_novo'].nivel < 0])\n",
    "print(weather_stations['benedito_novo'][weather_stations['benedito_novo'].chuva < 0])"
   ]
  },
  {
   "cell_type": "markdown",
   "metadata": {},
   "source": [
    "### Analyzing Blumenau"
   ]
  },
  {
   "cell_type": "code",
   "execution_count": 71,
   "metadata": {},
   "outputs": [
    {
     "data": {
      "text/html": [
       "<div>\n",
       "<style scoped>\n",
       "    .dataframe tbody tr th:only-of-type {\n",
       "        vertical-align: middle;\n",
       "    }\n",
       "\n",
       "    .dataframe tbody tr th {\n",
       "        vertical-align: top;\n",
       "    }\n",
       "\n",
       "    .dataframe thead th {\n",
       "        text-align: right;\n",
       "    }\n",
       "</style>\n",
       "<table border=\"1\" class=\"dataframe\">\n",
       "  <thead>\n",
       "    <tr style=\"text-align: right;\">\n",
       "      <th></th>\n",
       "      <th>data_hora</th>\n",
       "      <th>nivel</th>\n",
       "      <th>chuva</th>\n",
       "    </tr>\n",
       "  </thead>\n",
       "  <tbody>\n",
       "    <tr>\n",
       "      <th>0</th>\n",
       "      <td>2009-01-16 17:30:00</td>\n",
       "      <td>-2.644</td>\n",
       "      <td>0.000</td>\n",
       "    </tr>\n",
       "    <tr>\n",
       "      <th>1</th>\n",
       "      <td>2009-01-16 17:45:00</td>\n",
       "      <td>1.156</td>\n",
       "      <td>0.254</td>\n",
       "    </tr>\n",
       "    <tr>\n",
       "      <th>2</th>\n",
       "      <td>2009-01-16 18:00:00</td>\n",
       "      <td>1.160</td>\n",
       "      <td>0.000</td>\n",
       "    </tr>\n",
       "    <tr>\n",
       "      <th>3</th>\n",
       "      <td>2009-01-16 18:15:00</td>\n",
       "      <td>-4.240</td>\n",
       "      <td>0.000</td>\n",
       "    </tr>\n",
       "    <tr>\n",
       "      <th>4</th>\n",
       "      <td>2009-01-16 18:30:00</td>\n",
       "      <td>-4.240</td>\n",
       "      <td>0.000</td>\n",
       "    </tr>\n",
       "  </tbody>\n",
       "</table>\n",
       "</div>"
      ],
      "text/plain": [
       "            data_hora  nivel  chuva\n",
       "0 2009-01-16 17:30:00 -2.644  0.000\n",
       "1 2009-01-16 17:45:00  1.156  0.254\n",
       "2 2009-01-16 18:00:00  1.160  0.000\n",
       "3 2009-01-16 18:15:00 -4.240  0.000\n",
       "4 2009-01-16 18:30:00 -4.240  0.000"
      ]
     },
     "execution_count": 71,
     "metadata": {},
     "output_type": "execute_result"
    }
   ],
   "source": [
    "weather_stations['blumenau'].head()"
   ]
  },
  {
   "cell_type": "code",
   "execution_count": 72,
   "metadata": {},
   "outputs": [
    {
     "name": "stdout",
     "output_type": "stream",
     "text": [
      "<class 'pandas.core.frame.DataFrame'>\n",
      "RangeIndex: 399799 entries, 0 to 399798\n",
      "Data columns (total 3 columns):\n",
      " #   Column     Non-Null Count   Dtype         \n",
      "---  ------     --------------   -----         \n",
      " 0   data_hora  399799 non-null  datetime64[ns]\n",
      " 1   nivel      399799 non-null  float64       \n",
      " 2   chuva      399799 non-null  float64       \n",
      "dtypes: datetime64[ns](1), float64(2)\n",
      "memory usage: 9.2 MB\n"
     ]
    }
   ],
   "source": [
    "weather_stations['blumenau'].info()"
   ]
  },
  {
   "cell_type": "code",
   "execution_count": 73,
   "metadata": {},
   "outputs": [
    {
     "data": {
      "text/html": [
       "<div>\n",
       "<style scoped>\n",
       "    .dataframe tbody tr th:only-of-type {\n",
       "        vertical-align: middle;\n",
       "    }\n",
       "\n",
       "    .dataframe tbody tr th {\n",
       "        vertical-align: top;\n",
       "    }\n",
       "\n",
       "    .dataframe thead th {\n",
       "        text-align: right;\n",
       "    }\n",
       "</style>\n",
       "<table border=\"1\" class=\"dataframe\">\n",
       "  <thead>\n",
       "    <tr style=\"text-align: right;\">\n",
       "      <th></th>\n",
       "      <th>data_hora</th>\n",
       "      <th>nivel</th>\n",
       "      <th>chuva</th>\n",
       "    </tr>\n",
       "  </thead>\n",
       "  <tbody>\n",
       "    <tr>\n",
       "      <th>3167</th>\n",
       "      <td>2009-02-18 16:15:00</td>\n",
       "      <td>-4.240</td>\n",
       "      <td>0.000</td>\n",
       "    </tr>\n",
       "    <tr>\n",
       "      <th>3168</th>\n",
       "      <td>2009-02-18 16:30:00</td>\n",
       "      <td>-4.240</td>\n",
       "      <td>0.000</td>\n",
       "    </tr>\n",
       "    <tr>\n",
       "      <th>3169</th>\n",
       "      <td>2009-02-18 16:45:00</td>\n",
       "      <td>-4.240</td>\n",
       "      <td>0.000</td>\n",
       "    </tr>\n",
       "    <tr>\n",
       "      <th>7287</th>\n",
       "      <td>2009-01-16 17:30:00</td>\n",
       "      <td>-2.644</td>\n",
       "      <td>0.000</td>\n",
       "    </tr>\n",
       "    <tr>\n",
       "      <th>7288</th>\n",
       "      <td>2009-01-16 17:45:00</td>\n",
       "      <td>1.156</td>\n",
       "      <td>0.254</td>\n",
       "    </tr>\n",
       "    <tr>\n",
       "      <th>...</th>\n",
       "      <td>...</td>\n",
       "      <td>...</td>\n",
       "      <td>...</td>\n",
       "    </tr>\n",
       "    <tr>\n",
       "      <th>386373</th>\n",
       "      <td>2020-04-20 10:45:00</td>\n",
       "      <td>-0.088</td>\n",
       "      <td>0.000</td>\n",
       "    </tr>\n",
       "    <tr>\n",
       "      <th>386374</th>\n",
       "      <td>2020-04-20 11:00:00</td>\n",
       "      <td>-0.090</td>\n",
       "      <td>0.000</td>\n",
       "    </tr>\n",
       "    <tr>\n",
       "      <th>386375</th>\n",
       "      <td>2020-04-20 11:15:00</td>\n",
       "      <td>-0.024</td>\n",
       "      <td>0.000</td>\n",
       "    </tr>\n",
       "    <tr>\n",
       "      <th>386376</th>\n",
       "      <td>2020-04-20 11:30:00</td>\n",
       "      <td>-0.009</td>\n",
       "      <td>0.000</td>\n",
       "    </tr>\n",
       "    <tr>\n",
       "      <th>386377</th>\n",
       "      <td>2020-04-20 11:45:00</td>\n",
       "      <td>0.062</td>\n",
       "      <td>0.000</td>\n",
       "    </tr>\n",
       "  </tbody>\n",
       "</table>\n",
       "<p>14006 rows × 3 columns</p>\n",
       "</div>"
      ],
      "text/plain": [
       "                 data_hora  nivel  chuva\n",
       "3167   2009-02-18 16:15:00 -4.240  0.000\n",
       "3168   2009-02-18 16:30:00 -4.240  0.000\n",
       "3169   2009-02-18 16:45:00 -4.240  0.000\n",
       "7287   2009-01-16 17:30:00 -2.644  0.000\n",
       "7288   2009-01-16 17:45:00  1.156  0.254\n",
       "...                    ...    ...    ...\n",
       "386373 2020-04-20 10:45:00 -0.088  0.000\n",
       "386374 2020-04-20 11:00:00 -0.090  0.000\n",
       "386375 2020-04-20 11:15:00 -0.024  0.000\n",
       "386376 2020-04-20 11:30:00 -0.009  0.000\n",
       "386377 2020-04-20 11:45:00  0.062  0.000\n",
       "\n",
       "[14006 rows x 3 columns]"
      ]
     },
     "execution_count": 73,
     "metadata": {},
     "output_type": "execute_result"
    }
   ],
   "source": [
    "weather_stations['blumenau'][weather_stations['blumenau'].duplicated()]"
   ]
  },
  {
   "cell_type": "code",
   "execution_count": 74,
   "metadata": {},
   "outputs": [
    {
     "name": "stdout",
     "output_type": "stream",
     "text": [
      "Empty DataFrame\n",
      "Columns: [data_hora, nivel, chuva]\n",
      "Index: []\n",
      "Empty DataFrame\n",
      "Columns: [data_hora, nivel, chuva]\n",
      "Index: []\n",
      "Empty DataFrame\n",
      "Columns: [data_hora, nivel, chuva]\n",
      "Index: []\n"
     ]
    }
   ],
   "source": [
    "print(weather_stations['blumenau'][weather_stations['blumenau'].data_hora.isna()])\n",
    "print(weather_stations['blumenau'][weather_stations['blumenau'].nivel.isna()])\n",
    "print(weather_stations['blumenau'][weather_stations['blumenau'].chuva.isna()])"
   ]
  },
  {
   "cell_type": "code",
   "execution_count": 75,
   "metadata": {},
   "outputs": [
    {
     "name": "stdout",
     "output_type": "stream",
     "text": [
      "                 data_hora  nivel  chuva\n",
      "0      2009-01-16 17:30:00 -2.644    0.0\n",
      "3      2009-01-16 18:15:00 -4.240    0.0\n",
      "4      2009-01-16 18:30:00 -4.240    0.0\n",
      "5      2009-01-16 18:45:00 -4.240    0.0\n",
      "7      2009-01-16 19:15:00 -4.240    0.0\n",
      "...                    ...    ...    ...\n",
      "397146 2020-08-10 16:00:00 -0.016    0.0\n",
      "397184 2020-08-11 01:30:00 -0.002    0.0\n",
      "397185 2020-08-11 01:45:00 -0.028    0.0\n",
      "397186 2020-08-11 02:00:00 -0.032    0.0\n",
      "397187 2020-08-11 02:15:00 -0.030    0.0\n",
      "\n",
      "[79700 rows x 3 columns]\n",
      "Empty DataFrame\n",
      "Columns: [data_hora, nivel, chuva]\n",
      "Index: []\n"
     ]
    }
   ],
   "source": [
    "print(weather_stations['blumenau'][weather_stations['blumenau'].nivel < 0])\n",
    "print(weather_stations['blumenau'][weather_stations['blumenau'].chuva < 0])"
   ]
  },
  {
   "cell_type": "markdown",
   "metadata": {},
   "source": [
    "### Analyzing Gaspar"
   ]
  },
  {
   "cell_type": "code",
   "execution_count": null,
   "metadata": {},
   "outputs": [
    {
     "data": {
      "text/html": [
       "<div>\n",
       "<style scoped>\n",
       "    .dataframe tbody tr th:only-of-type {\n",
       "        vertical-align: middle;\n",
       "    }\n",
       "\n",
       "    .dataframe tbody tr th {\n",
       "        vertical-align: top;\n",
       "    }\n",
       "\n",
       "    .dataframe thead th {\n",
       "        text-align: right;\n",
       "    }\n",
       "</style>\n",
       "<table border=\"1\" class=\"dataframe\">\n",
       "  <thead>\n",
       "    <tr style=\"text-align: right;\">\n",
       "      <th></th>\n",
       "      <th>data_hora</th>\n",
       "      <th>nivel</th>\n",
       "    </tr>\n",
       "  </thead>\n",
       "  <tbody>\n",
       "    <tr>\n",
       "      <th>0</th>\n",
       "      <td>2012-03-12 11:15:00</td>\n",
       "      <td>-7.174</td>\n",
       "    </tr>\n",
       "    <tr>\n",
       "      <th>1</th>\n",
       "      <td>2012-03-12 11:30:00</td>\n",
       "      <td>-6.671</td>\n",
       "    </tr>\n",
       "    <tr>\n",
       "      <th>2</th>\n",
       "      <td>2012-03-12 11:45:00</td>\n",
       "      <td>-6.903</td>\n",
       "    </tr>\n",
       "    <tr>\n",
       "      <th>3</th>\n",
       "      <td>2012-03-12 12:00:00</td>\n",
       "      <td>-6.890</td>\n",
       "    </tr>\n",
       "    <tr>\n",
       "      <th>4</th>\n",
       "      <td>2012-03-12 12:15:00</td>\n",
       "      <td>-6.858</td>\n",
       "    </tr>\n",
       "  </tbody>\n",
       "</table>\n",
       "</div>"
      ],
      "text/plain": [
       "            data_hora  nivel\n",
       "0 2012-03-12 11:15:00 -7.174\n",
       "1 2012-03-12 11:30:00 -6.671\n",
       "2 2012-03-12 11:45:00 -6.903\n",
       "3 2012-03-12 12:00:00 -6.890\n",
       "4 2012-03-12 12:15:00 -6.858"
      ]
     },
     "execution_count": 178,
     "metadata": {},
     "output_type": "execute_result"
    }
   ],
   "source": [
    "weather_stations['gaspar'].head()"
   ]
  },
  {
   "cell_type": "code",
   "execution_count": null,
   "metadata": {},
   "outputs": [
    {
     "name": "stdout",
     "output_type": "stream",
     "text": [
      "<class 'pandas.core.frame.DataFrame'>\n",
      "RangeIndex: 156624 entries, 0 to 156623\n",
      "Data columns (total 3 columns):\n",
      " #   Column     Non-Null Count   Dtype         \n",
      "---  ------     --------------   -----         \n",
      " 0   data_hora  156624 non-null  datetime64[ns]\n",
      " 1   nivel      156624 non-null  float64       \n",
      " 2   chuva      156624 non-null  float64       \n",
      "dtypes: datetime64[ns](1), float64(2)\n",
      "memory usage: 3.6 MB\n"
     ]
    }
   ],
   "source": [
    "weather_stations['gaspar'].info()"
   ]
  },
  {
   "cell_type": "code",
   "execution_count": null,
   "metadata": {},
   "outputs": [
    {
     "data": {
      "text/html": [
       "<div>\n",
       "<style scoped>\n",
       "    .dataframe tbody tr th:only-of-type {\n",
       "        vertical-align: middle;\n",
       "    }\n",
       "\n",
       "    .dataframe tbody tr th {\n",
       "        vertical-align: top;\n",
       "    }\n",
       "\n",
       "    .dataframe thead th {\n",
       "        text-align: right;\n",
       "    }\n",
       "</style>\n",
       "<table border=\"1\" class=\"dataframe\">\n",
       "  <thead>\n",
       "    <tr style=\"text-align: right;\">\n",
       "      <th></th>\n",
       "      <th>data_hora</th>\n",
       "      <th>nivel</th>\n",
       "      <th>chuva</th>\n",
       "    </tr>\n",
       "  </thead>\n",
       "  <tbody>\n",
       "    <tr>\n",
       "      <th>97</th>\n",
       "      <td>2012-03-19 15:15:00</td>\n",
       "      <td>0.984</td>\n",
       "      <td>0.0</td>\n",
       "    </tr>\n",
       "    <tr>\n",
       "      <th>98</th>\n",
       "      <td>2012-03-19 15:30:00</td>\n",
       "      <td>0.946</td>\n",
       "      <td>0.0</td>\n",
       "    </tr>\n",
       "    <tr>\n",
       "      <th>99</th>\n",
       "      <td>2012-03-19 15:45:00</td>\n",
       "      <td>0.921</td>\n",
       "      <td>0.0</td>\n",
       "    </tr>\n",
       "    <tr>\n",
       "      <th>100</th>\n",
       "      <td>2012-03-19 16:00:00</td>\n",
       "      <td>0.879</td>\n",
       "      <td>0.0</td>\n",
       "    </tr>\n",
       "    <tr>\n",
       "      <th>101</th>\n",
       "      <td>2012-03-19 16:15:00</td>\n",
       "      <td>0.841</td>\n",
       "      <td>0.0</td>\n",
       "    </tr>\n",
       "    <tr>\n",
       "      <th>102</th>\n",
       "      <td>2012-03-19 16:30:00</td>\n",
       "      <td>0.795</td>\n",
       "      <td>0.0</td>\n",
       "    </tr>\n",
       "    <tr>\n",
       "      <th>103</th>\n",
       "      <td>2012-03-19 16:45:00</td>\n",
       "      <td>0.740</td>\n",
       "      <td>0.0</td>\n",
       "    </tr>\n",
       "    <tr>\n",
       "      <th>104</th>\n",
       "      <td>2012-03-19 17:00:00</td>\n",
       "      <td>0.694</td>\n",
       "      <td>0.0</td>\n",
       "    </tr>\n",
       "    <tr>\n",
       "      <th>105</th>\n",
       "      <td>2012-03-19 17:15:00</td>\n",
       "      <td>0.644</td>\n",
       "      <td>3.6</td>\n",
       "    </tr>\n",
       "    <tr>\n",
       "      <th>106</th>\n",
       "      <td>2012-03-19 17:30:00</td>\n",
       "      <td>0.585</td>\n",
       "      <td>0.0</td>\n",
       "    </tr>\n",
       "    <tr>\n",
       "      <th>107</th>\n",
       "      <td>2012-03-19 17:45:00</td>\n",
       "      <td>0.543</td>\n",
       "      <td>0.0</td>\n",
       "    </tr>\n",
       "    <tr>\n",
       "      <th>108</th>\n",
       "      <td>2012-03-19 18:00:00</td>\n",
       "      <td>0.488</td>\n",
       "      <td>0.0</td>\n",
       "    </tr>\n",
       "    <tr>\n",
       "      <th>109</th>\n",
       "      <td>2012-03-19 18:15:00</td>\n",
       "      <td>0.442</td>\n",
       "      <td>0.0</td>\n",
       "    </tr>\n",
       "    <tr>\n",
       "      <th>110</th>\n",
       "      <td>2012-03-19 18:30:00</td>\n",
       "      <td>0.386</td>\n",
       "      <td>0.0</td>\n",
       "    </tr>\n",
       "    <tr>\n",
       "      <th>111</th>\n",
       "      <td>2012-03-19 18:45:00</td>\n",
       "      <td>0.342</td>\n",
       "      <td>0.0</td>\n",
       "    </tr>\n",
       "    <tr>\n",
       "      <th>112</th>\n",
       "      <td>2012-03-19 19:00:00</td>\n",
       "      <td>0.304</td>\n",
       "      <td>0.0</td>\n",
       "    </tr>\n",
       "    <tr>\n",
       "      <th>113</th>\n",
       "      <td>2012-03-19 19:15:00</td>\n",
       "      <td>0.256</td>\n",
       "      <td>0.0</td>\n",
       "    </tr>\n",
       "    <tr>\n",
       "      <th>114</th>\n",
       "      <td>2012-03-19 19:30:00</td>\n",
       "      <td>0.224</td>\n",
       "      <td>0.0</td>\n",
       "    </tr>\n",
       "    <tr>\n",
       "      <th>115</th>\n",
       "      <td>2012-03-19 19:45:00</td>\n",
       "      <td>0.186</td>\n",
       "      <td>0.0</td>\n",
       "    </tr>\n",
       "    <tr>\n",
       "      <th>116</th>\n",
       "      <td>2012-03-19 20:00:00</td>\n",
       "      <td>0.153</td>\n",
       "      <td>0.0</td>\n",
       "    </tr>\n",
       "    <tr>\n",
       "      <th>43587</th>\n",
       "      <td>2015-01-07 15:15:00</td>\n",
       "      <td>1.266</td>\n",
       "      <td>0.0</td>\n",
       "    </tr>\n",
       "    <tr>\n",
       "      <th>43588</th>\n",
       "      <td>2015-01-07 15:30:00</td>\n",
       "      <td>1.294</td>\n",
       "      <td>0.0</td>\n",
       "    </tr>\n",
       "    <tr>\n",
       "      <th>43589</th>\n",
       "      <td>2015-01-07 15:45:00</td>\n",
       "      <td>1.319</td>\n",
       "      <td>0.0</td>\n",
       "    </tr>\n",
       "    <tr>\n",
       "      <th>43590</th>\n",
       "      <td>2015-01-07 16:00:00</td>\n",
       "      <td>1.386</td>\n",
       "      <td>0.0</td>\n",
       "    </tr>\n",
       "  </tbody>\n",
       "</table>\n",
       "</div>"
      ],
      "text/plain": [
       "                data_hora  nivel  chuva\n",
       "97    2012-03-19 15:15:00  0.984    0.0\n",
       "98    2012-03-19 15:30:00  0.946    0.0\n",
       "99    2012-03-19 15:45:00  0.921    0.0\n",
       "100   2012-03-19 16:00:00  0.879    0.0\n",
       "101   2012-03-19 16:15:00  0.841    0.0\n",
       "102   2012-03-19 16:30:00  0.795    0.0\n",
       "103   2012-03-19 16:45:00  0.740    0.0\n",
       "104   2012-03-19 17:00:00  0.694    0.0\n",
       "105   2012-03-19 17:15:00  0.644    3.6\n",
       "106   2012-03-19 17:30:00  0.585    0.0\n",
       "107   2012-03-19 17:45:00  0.543    0.0\n",
       "108   2012-03-19 18:00:00  0.488    0.0\n",
       "109   2012-03-19 18:15:00  0.442    0.0\n",
       "110   2012-03-19 18:30:00  0.386    0.0\n",
       "111   2012-03-19 18:45:00  0.342    0.0\n",
       "112   2012-03-19 19:00:00  0.304    0.0\n",
       "113   2012-03-19 19:15:00  0.256    0.0\n",
       "114   2012-03-19 19:30:00  0.224    0.0\n",
       "115   2012-03-19 19:45:00  0.186    0.0\n",
       "116   2012-03-19 20:00:00  0.153    0.0\n",
       "43587 2015-01-07 15:15:00  1.266    0.0\n",
       "43588 2015-01-07 15:30:00  1.294    0.0\n",
       "43589 2015-01-07 15:45:00  1.319    0.0\n",
       "43590 2015-01-07 16:00:00  1.386    0.0"
      ]
     },
     "execution_count": 143,
     "metadata": {},
     "output_type": "execute_result"
    }
   ],
   "source": [
    "weather_stations['gaspar'][weather_stations['gaspar'].duplicated()]"
   ]
  },
  {
   "cell_type": "code",
   "execution_count": null,
   "metadata": {},
   "outputs": [
    {
     "name": "stdout",
     "output_type": "stream",
     "text": [
      "Empty DataFrame\n",
      "Columns: [data_hora, nivel, chuva]\n",
      "Index: []\n",
      "Empty DataFrame\n",
      "Columns: [data_hora, nivel, chuva]\n",
      "Index: []\n",
      "Empty DataFrame\n",
      "Columns: [data_hora, nivel, chuva]\n",
      "Index: []\n"
     ]
    }
   ],
   "source": [
    "print(weather_stations['gaspar'][weather_stations['gaspar'].data_hora.isna()])\n",
    "print(weather_stations['gaspar'][weather_stations['gaspar'].nivel.isna()])\n",
    "print(weather_stations['gaspar'][weather_stations['gaspar'].chuva.isna()])"
   ]
  },
  {
   "cell_type": "code",
   "execution_count": null,
   "metadata": {},
   "outputs": [
    {
     "name": "stdout",
     "output_type": "stream",
     "text": [
      "                 data_hora  nivel  chuva\n",
      "0      2012-03-12 11:15:00 -7.174    0.0\n",
      "1      2012-03-12 11:30:00 -6.671    0.0\n",
      "2      2012-03-12 11:45:00 -6.903    0.0\n",
      "3      2012-03-12 12:00:00 -6.890    0.0\n",
      "4      2012-03-12 12:15:00 -6.858    0.0\n",
      "...                    ...    ...    ...\n",
      "156619 2018-08-10 09:00:00 -8.410    0.0\n",
      "156620 2018-08-10 09:15:00 -8.410    0.0\n",
      "156621 2018-08-10 09:30:00 -8.410    0.0\n",
      "156622 2018-08-10 09:45:00 -8.410    0.0\n",
      "156623 2018-08-10 10:00:00 -8.410    0.0\n",
      "\n",
      "[21820 rows x 3 columns]\n",
      "Empty DataFrame\n",
      "Columns: [data_hora, nivel, chuva]\n",
      "Index: []\n"
     ]
    }
   ],
   "source": [
    "print(weather_stations['gaspar'][weather_stations['gaspar'].nivel < 0])\n",
    "print(weather_stations['gaspar'][weather_stations['gaspar'].chuva < 0])"
   ]
  },
  {
   "cell_type": "markdown",
   "metadata": {},
   "source": [
    "### Analyzing Ibirama"
   ]
  },
  {
   "cell_type": "code",
   "execution_count": null,
   "metadata": {},
   "outputs": [
    {
     "data": {
      "text/html": [
       "<div>\n",
       "<style scoped>\n",
       "    .dataframe tbody tr th:only-of-type {\n",
       "        vertical-align: middle;\n",
       "    }\n",
       "\n",
       "    .dataframe tbody tr th {\n",
       "        vertical-align: top;\n",
       "    }\n",
       "\n",
       "    .dataframe thead th {\n",
       "        text-align: right;\n",
       "    }\n",
       "</style>\n",
       "<table border=\"1\" class=\"dataframe\">\n",
       "  <thead>\n",
       "    <tr style=\"text-align: right;\">\n",
       "      <th></th>\n",
       "      <th>data_hora</th>\n",
       "      <th>nivel</th>\n",
       "      <th>chuva</th>\n",
       "    </tr>\n",
       "  </thead>\n",
       "  <tbody>\n",
       "    <tr>\n",
       "      <th>0</th>\n",
       "      <td>2008-12-28 15:00:00</td>\n",
       "      <td>0.940</td>\n",
       "      <td>0.0</td>\n",
       "    </tr>\n",
       "    <tr>\n",
       "      <th>1</th>\n",
       "      <td>2008-12-28 15:15:00</td>\n",
       "      <td>0.940</td>\n",
       "      <td>0.0</td>\n",
       "    </tr>\n",
       "    <tr>\n",
       "      <th>2</th>\n",
       "      <td>2008-12-28 15:30:00</td>\n",
       "      <td>0.942</td>\n",
       "      <td>0.0</td>\n",
       "    </tr>\n",
       "    <tr>\n",
       "      <th>3</th>\n",
       "      <td>2008-12-28 15:45:00</td>\n",
       "      <td>0.940</td>\n",
       "      <td>0.0</td>\n",
       "    </tr>\n",
       "    <tr>\n",
       "      <th>4</th>\n",
       "      <td>2008-12-28 16:00:00</td>\n",
       "      <td>0.937</td>\n",
       "      <td>0.0</td>\n",
       "    </tr>\n",
       "  </tbody>\n",
       "</table>\n",
       "</div>"
      ],
      "text/plain": [
       "            data_hora  nivel  chuva\n",
       "0 2008-12-28 15:00:00  0.940    0.0\n",
       "1 2008-12-28 15:15:00  0.940    0.0\n",
       "2 2008-12-28 15:30:00  0.942    0.0\n",
       "3 2008-12-28 15:45:00  0.940    0.0\n",
       "4 2008-12-28 16:00:00  0.937    0.0"
      ]
     },
     "execution_count": 161,
     "metadata": {},
     "output_type": "execute_result"
    }
   ],
   "source": [
    "weather_stations['ibirama'].head()"
   ]
  },
  {
   "cell_type": "code",
   "execution_count": null,
   "metadata": {},
   "outputs": [
    {
     "name": "stdout",
     "output_type": "stream",
     "text": [
      "<class 'pandas.core.frame.DataFrame'>\n",
      "RangeIndex: 440592 entries, 0 to 440591\n",
      "Data columns (total 3 columns):\n",
      " #   Column     Non-Null Count   Dtype         \n",
      "---  ------     --------------   -----         \n",
      " 0   data_hora  440592 non-null  datetime64[ns]\n",
      " 1   nivel      440592 non-null  float64       \n",
      " 2   chuva      440592 non-null  float64       \n",
      "dtypes: datetime64[ns](1), float64(2)\n",
      "memory usage: 10.1 MB\n"
     ]
    }
   ],
   "source": [
    "weather_stations['ibirama'].info()"
   ]
  },
  {
   "cell_type": "code",
   "execution_count": null,
   "metadata": {},
   "outputs": [
    {
     "data": {
      "text/html": [
       "<div>\n",
       "<style scoped>\n",
       "    .dataframe tbody tr th:only-of-type {\n",
       "        vertical-align: middle;\n",
       "    }\n",
       "\n",
       "    .dataframe tbody tr th {\n",
       "        vertical-align: top;\n",
       "    }\n",
       "\n",
       "    .dataframe thead th {\n",
       "        text-align: right;\n",
       "    }\n",
       "</style>\n",
       "<table border=\"1\" class=\"dataframe\">\n",
       "  <thead>\n",
       "    <tr style=\"text-align: right;\">\n",
       "      <th></th>\n",
       "      <th>data_hora</th>\n",
       "      <th>nivel</th>\n",
       "      <th>chuva</th>\n",
       "    </tr>\n",
       "  </thead>\n",
       "  <tbody>\n",
       "    <tr>\n",
       "      <th>24323</th>\n",
       "      <td>2009-09-08 01:00:00</td>\n",
       "      <td>1.176</td>\n",
       "      <td>0.0</td>\n",
       "    </tr>\n",
       "    <tr>\n",
       "      <th>24324</th>\n",
       "      <td>2009-09-08 01:15:00</td>\n",
       "      <td>1.176</td>\n",
       "      <td>0.0</td>\n",
       "    </tr>\n",
       "    <tr>\n",
       "      <th>24325</th>\n",
       "      <td>2009-09-08 01:30:00</td>\n",
       "      <td>1.175</td>\n",
       "      <td>0.2</td>\n",
       "    </tr>\n",
       "    <tr>\n",
       "      <th>24326</th>\n",
       "      <td>2009-09-08 01:45:00</td>\n",
       "      <td>1.186</td>\n",
       "      <td>3.6</td>\n",
       "    </tr>\n",
       "    <tr>\n",
       "      <th>58663</th>\n",
       "      <td>2010-10-26 13:15:00</td>\n",
       "      <td>1.123</td>\n",
       "      <td>0.0</td>\n",
       "    </tr>\n",
       "    <tr>\n",
       "      <th>...</th>\n",
       "      <td>...</td>\n",
       "      <td>...</td>\n",
       "      <td>...</td>\n",
       "    </tr>\n",
       "    <tr>\n",
       "      <th>435049</th>\n",
       "      <td>2020-07-11 13:30:00</td>\n",
       "      <td>0.859</td>\n",
       "      <td>0.0</td>\n",
       "    </tr>\n",
       "    <tr>\n",
       "      <th>435050</th>\n",
       "      <td>2020-07-11 13:45:00</td>\n",
       "      <td>0.859</td>\n",
       "      <td>0.0</td>\n",
       "    </tr>\n",
       "    <tr>\n",
       "      <th>435051</th>\n",
       "      <td>2020-07-11 14:00:00</td>\n",
       "      <td>0.863</td>\n",
       "      <td>0.2</td>\n",
       "    </tr>\n",
       "    <tr>\n",
       "      <th>435052</th>\n",
       "      <td>2020-07-11 14:15:00</td>\n",
       "      <td>0.863</td>\n",
       "      <td>0.0</td>\n",
       "    </tr>\n",
       "    <tr>\n",
       "      <th>435053</th>\n",
       "      <td>2020-07-11 14:30:00</td>\n",
       "      <td>0.867</td>\n",
       "      <td>0.0</td>\n",
       "    </tr>\n",
       "  </tbody>\n",
       "</table>\n",
       "<p>65125 rows × 3 columns</p>\n",
       "</div>"
      ],
      "text/plain": [
       "                 data_hora  nivel  chuva\n",
       "24323  2009-09-08 01:00:00  1.176    0.0\n",
       "24324  2009-09-08 01:15:00  1.176    0.0\n",
       "24325  2009-09-08 01:30:00  1.175    0.2\n",
       "24326  2009-09-08 01:45:00  1.186    3.6\n",
       "58663  2010-10-26 13:15:00  1.123    0.0\n",
       "...                    ...    ...    ...\n",
       "435049 2020-07-11 13:30:00  0.859    0.0\n",
       "435050 2020-07-11 13:45:00  0.859    0.0\n",
       "435051 2020-07-11 14:00:00  0.863    0.2\n",
       "435052 2020-07-11 14:15:00  0.863    0.0\n",
       "435053 2020-07-11 14:30:00  0.867    0.0\n",
       "\n",
       "[65125 rows x 3 columns]"
      ]
     },
     "execution_count": 163,
     "metadata": {},
     "output_type": "execute_result"
    }
   ],
   "source": [
    "weather_stations['ibirama'][weather_stations['ibirama'].duplicated()]"
   ]
  },
  {
   "cell_type": "code",
   "execution_count": null,
   "metadata": {},
   "outputs": [
    {
     "name": "stdout",
     "output_type": "stream",
     "text": [
      "Empty DataFrame\n",
      "Columns: [data_hora, nivel, chuva]\n",
      "Index: []\n",
      "Empty DataFrame\n",
      "Columns: [data_hora, nivel, chuva]\n",
      "Index: []\n",
      "Empty DataFrame\n",
      "Columns: [data_hora, nivel, chuva]\n",
      "Index: []\n"
     ]
    }
   ],
   "source": [
    "print(weather_stations['ibirama'][weather_stations['ibirama'].data_hora.isna()])\n",
    "print(weather_stations['ibirama'][weather_stations['ibirama'].nivel.isna()])\n",
    "print(weather_stations['ibirama'][weather_stations['ibirama'].chuva.isna()])"
   ]
  },
  {
   "cell_type": "code",
   "execution_count": null,
   "metadata": {},
   "outputs": [
    {
     "name": "stdout",
     "output_type": "stream",
     "text": [
      "                 data_hora   nivel  chuva\n",
      "57038  2010-08-15 14:30:00  -0.890    0.0\n",
      "57039  2010-08-15 14:45:00  -0.890    0.0\n",
      "57040  2010-08-15 15:00:00  -0.890    0.0\n",
      "57041  2010-08-15 15:15:00  -0.890    0.0\n",
      "57042  2010-08-15 15:30:00  -0.890    0.0\n",
      "...                    ...     ...    ...\n",
      "373077 2018-11-11 11:30:00 -15.680    0.0\n",
      "373078 2018-11-11 11:45:00 -15.660    0.0\n",
      "373079 2018-11-11 12:00:00 -15.640    0.0\n",
      "423642 2020-03-17 01:15:00  -0.521    0.0\n",
      "434832 2020-07-09 07:15:00  -0.867    0.0\n",
      "\n",
      "[39769 rows x 3 columns]\n",
      "Empty DataFrame\n",
      "Columns: [data_hora, nivel, chuva]\n",
      "Index: []\n"
     ]
    }
   ],
   "source": [
    "print(weather_stations['ibirama'][weather_stations['ibirama'].nivel < 0])\n",
    "print(weather_stations['ibirama'][weather_stations['ibirama'].chuva < 0])"
   ]
  },
  {
   "cell_type": "markdown",
   "metadata": {},
   "source": [
    "### Analyzing Indaial"
   ]
  },
  {
   "cell_type": "code",
   "execution_count": null,
   "metadata": {},
   "outputs": [
    {
     "data": {
      "text/html": [
       "<div>\n",
       "<style scoped>\n",
       "    .dataframe tbody tr th:only-of-type {\n",
       "        vertical-align: middle;\n",
       "    }\n",
       "\n",
       "    .dataframe tbody tr th {\n",
       "        vertical-align: top;\n",
       "    }\n",
       "\n",
       "    .dataframe thead th {\n",
       "        text-align: right;\n",
       "    }\n",
       "</style>\n",
       "<table border=\"1\" class=\"dataframe\">\n",
       "  <thead>\n",
       "    <tr style=\"text-align: right;\">\n",
       "      <th></th>\n",
       "      <th>data_hora</th>\n",
       "      <th>nivel</th>\n",
       "      <th>chuva</th>\n",
       "    </tr>\n",
       "  </thead>\n",
       "  <tbody>\n",
       "    <tr>\n",
       "      <th>0</th>\n",
       "      <td>2009-01-08 16:45:00</td>\n",
       "      <td>0.727</td>\n",
       "      <td>0.0</td>\n",
       "    </tr>\n",
       "    <tr>\n",
       "      <th>1</th>\n",
       "      <td>2009-01-08 17:00:00</td>\n",
       "      <td>1.759</td>\n",
       "      <td>0.0</td>\n",
       "    </tr>\n",
       "    <tr>\n",
       "      <th>2</th>\n",
       "      <td>2009-01-08 17:15:00</td>\n",
       "      <td>1.759</td>\n",
       "      <td>0.0</td>\n",
       "    </tr>\n",
       "    <tr>\n",
       "      <th>3</th>\n",
       "      <td>2009-01-08 17:30:00</td>\n",
       "      <td>1.758</td>\n",
       "      <td>0.0</td>\n",
       "    </tr>\n",
       "    <tr>\n",
       "      <th>4</th>\n",
       "      <td>2009-01-08 17:45:00</td>\n",
       "      <td>1.759</td>\n",
       "      <td>0.0</td>\n",
       "    </tr>\n",
       "  </tbody>\n",
       "</table>\n",
       "</div>"
      ],
      "text/plain": [
       "            data_hora  nivel  chuva\n",
       "0 2009-01-08 16:45:00  0.727    0.0\n",
       "1 2009-01-08 17:00:00  1.759    0.0\n",
       "2 2009-01-08 17:15:00  1.759    0.0\n",
       "3 2009-01-08 17:30:00  1.758    0.0\n",
       "4 2009-01-08 17:45:00  1.759    0.0"
      ]
     },
     "execution_count": 171,
     "metadata": {},
     "output_type": "execute_result"
    }
   ],
   "source": [
    "weather_stations['indaial'].head()"
   ]
  },
  {
   "cell_type": "code",
   "execution_count": null,
   "metadata": {},
   "outputs": [
    {
     "name": "stdout",
     "output_type": "stream",
     "text": [
      "<class 'pandas.core.frame.DataFrame'>\n",
      "RangeIndex: 318274 entries, 0 to 318273\n",
      "Data columns (total 3 columns):\n",
      " #   Column     Non-Null Count   Dtype         \n",
      "---  ------     --------------   -----         \n",
      " 0   data_hora  318274 non-null  datetime64[ns]\n",
      " 1   nivel      318274 non-null  float64       \n",
      " 2   chuva      318274 non-null  float64       \n",
      "dtypes: datetime64[ns](1), float64(2)\n",
      "memory usage: 7.3 MB\n"
     ]
    }
   ],
   "source": [
    "weather_stations['indaial'].info()"
   ]
  },
  {
   "cell_type": "code",
   "execution_count": null,
   "metadata": {},
   "outputs": [
    {
     "data": {
      "text/html": [
       "<div>\n",
       "<style scoped>\n",
       "    .dataframe tbody tr th:only-of-type {\n",
       "        vertical-align: middle;\n",
       "    }\n",
       "\n",
       "    .dataframe tbody tr th {\n",
       "        vertical-align: top;\n",
       "    }\n",
       "\n",
       "    .dataframe thead th {\n",
       "        text-align: right;\n",
       "    }\n",
       "</style>\n",
       "<table border=\"1\" class=\"dataframe\">\n",
       "  <thead>\n",
       "    <tr style=\"text-align: right;\">\n",
       "      <th></th>\n",
       "      <th>data_hora</th>\n",
       "      <th>nivel</th>\n",
       "      <th>chuva</th>\n",
       "    </tr>\n",
       "  </thead>\n",
       "  <tbody>\n",
       "    <tr>\n",
       "      <th>19604</th>\n",
       "      <td>2009-09-08 01:00:00</td>\n",
       "      <td>1.590</td>\n",
       "      <td>0.0</td>\n",
       "    </tr>\n",
       "    <tr>\n",
       "      <th>19605</th>\n",
       "      <td>2009-09-08 01:15:00</td>\n",
       "      <td>1.595</td>\n",
       "      <td>0.0</td>\n",
       "    </tr>\n",
       "    <tr>\n",
       "      <th>19606</th>\n",
       "      <td>2009-09-08 01:30:00</td>\n",
       "      <td>1.592</td>\n",
       "      <td>0.0</td>\n",
       "    </tr>\n",
       "    <tr>\n",
       "      <th>19607</th>\n",
       "      <td>2009-09-08 01:45:00</td>\n",
       "      <td>1.610</td>\n",
       "      <td>0.0</td>\n",
       "    </tr>\n",
       "    <tr>\n",
       "      <th>19744</th>\n",
       "      <td>2009-09-09 11:15:00</td>\n",
       "      <td>3.167</td>\n",
       "      <td>0.0</td>\n",
       "    </tr>\n",
       "    <tr>\n",
       "      <th>...</th>\n",
       "      <td>...</td>\n",
       "      <td>...</td>\n",
       "      <td>...</td>\n",
       "    </tr>\n",
       "    <tr>\n",
       "      <th>282602</th>\n",
       "      <td>2017-11-02 06:00:00</td>\n",
       "      <td>1.547</td>\n",
       "      <td>0.0</td>\n",
       "    </tr>\n",
       "    <tr>\n",
       "      <th>301550</th>\n",
       "      <td>2018-05-18 15:15:00</td>\n",
       "      <td>1.126</td>\n",
       "      <td>0.0</td>\n",
       "    </tr>\n",
       "    <tr>\n",
       "      <th>301551</th>\n",
       "      <td>2018-05-18 15:30:00</td>\n",
       "      <td>1.115</td>\n",
       "      <td>0.0</td>\n",
       "    </tr>\n",
       "    <tr>\n",
       "      <th>301552</th>\n",
       "      <td>2018-05-18 15:45:00</td>\n",
       "      <td>1.123</td>\n",
       "      <td>0.0</td>\n",
       "    </tr>\n",
       "    <tr>\n",
       "      <th>301553</th>\n",
       "      <td>2018-05-18 16:00:00</td>\n",
       "      <td>1.117</td>\n",
       "      <td>0.0</td>\n",
       "    </tr>\n",
       "  </tbody>\n",
       "</table>\n",
       "<p>18021 rows × 3 columns</p>\n",
       "</div>"
      ],
      "text/plain": [
       "                 data_hora  nivel  chuva\n",
       "19604  2009-09-08 01:00:00  1.590    0.0\n",
       "19605  2009-09-08 01:15:00  1.595    0.0\n",
       "19606  2009-09-08 01:30:00  1.592    0.0\n",
       "19607  2009-09-08 01:45:00  1.610    0.0\n",
       "19744  2009-09-09 11:15:00  3.167    0.0\n",
       "...                    ...    ...    ...\n",
       "282602 2017-11-02 06:00:00  1.547    0.0\n",
       "301550 2018-05-18 15:15:00  1.126    0.0\n",
       "301551 2018-05-18 15:30:00  1.115    0.0\n",
       "301552 2018-05-18 15:45:00  1.123    0.0\n",
       "301553 2018-05-18 16:00:00  1.117    0.0\n",
       "\n",
       "[18021 rows x 3 columns]"
      ]
     },
     "execution_count": 174,
     "metadata": {},
     "output_type": "execute_result"
    }
   ],
   "source": [
    "weather_stations['indaial'][weather_stations['indaial'].duplicated()]"
   ]
  },
  {
   "cell_type": "code",
   "execution_count": null,
   "metadata": {},
   "outputs": [
    {
     "name": "stdout",
     "output_type": "stream",
     "text": [
      "Empty DataFrame\n",
      "Columns: [data_hora, nivel, chuva]\n",
      "Index: []\n",
      "Empty DataFrame\n",
      "Columns: [data_hora, nivel, chuva]\n",
      "Index: []\n",
      "Empty DataFrame\n",
      "Columns: [data_hora, nivel, chuva]\n",
      "Index: []\n"
     ]
    }
   ],
   "source": [
    "print(weather_stations['indaial'][weather_stations['indaial'].data_hora.isna()])\n",
    "print(weather_stations['indaial'][weather_stations['indaial'].nivel.isna()])\n",
    "print(weather_stations['indaial'][weather_stations['indaial'].chuva.isna()])"
   ]
  },
  {
   "cell_type": "code",
   "execution_count": null,
   "metadata": {},
   "outputs": [
    {
     "name": "stdout",
     "output_type": "stream",
     "text": [
      "                 data_hora  nivel  chuva\n",
      "1035   2009-01-19 16:45:00 -0.800  0.000\n",
      "1036   2009-01-19 17:00:00 -0.800  0.000\n",
      "1037   2009-01-19 17:15:00 -0.800  1.270\n",
      "1038   2009-01-19 17:30:00 -0.800  0.254\n",
      "1039   2009-01-19 17:45:00 -0.800  0.762\n",
      "...                    ...    ...    ...\n",
      "189556 2014-12-03 10:00:00 -5.029  0.000\n",
      "189557 2014-12-03 10:15:00 -5.029  0.000\n",
      "189558 2014-12-03 10:30:00 -5.029  0.000\n",
      "189559 2014-12-03 10:45:00 -5.029  0.000\n",
      "189560 2014-12-03 11:00:00 -5.029  0.000\n",
      "\n",
      "[52016 rows x 3 columns]\n",
      "Empty DataFrame\n",
      "Columns: [data_hora, nivel, chuva]\n",
      "Index: []\n"
     ]
    }
   ],
   "source": [
    "print(weather_stations['indaial'][weather_stations['indaial'].nivel < 0])\n",
    "print(weather_stations['indaial'][weather_stations['indaial'].chuva < 0])"
   ]
  },
  {
   "cell_type": "markdown",
   "metadata": {},
   "source": [
    "### Analyzing Ituporanga"
   ]
  },
  {
   "cell_type": "code",
   "execution_count": 150,
   "metadata": {},
   "outputs": [
    {
     "data": {
      "text/html": [
       "<div>\n",
       "<style scoped>\n",
       "    .dataframe tbody tr th:only-of-type {\n",
       "        vertical-align: middle;\n",
       "    }\n",
       "\n",
       "    .dataframe tbody tr th {\n",
       "        vertical-align: top;\n",
       "    }\n",
       "\n",
       "    .dataframe thead th {\n",
       "        text-align: right;\n",
       "    }\n",
       "</style>\n",
       "<table border=\"1\" class=\"dataframe\">\n",
       "  <thead>\n",
       "    <tr style=\"text-align: right;\">\n",
       "      <th></th>\n",
       "      <th>data_hora</th>\n",
       "      <th>nivel</th>\n",
       "      <th>chuva</th>\n",
       "    </tr>\n",
       "  </thead>\n",
       "  <tbody>\n",
       "    <tr>\n",
       "      <th>0</th>\n",
       "      <td>2008-12-30 14:30:00</td>\n",
       "      <td>0.593</td>\n",
       "      <td>0.0</td>\n",
       "    </tr>\n",
       "    <tr>\n",
       "      <th>1</th>\n",
       "      <td>2008-12-30 14:45:00</td>\n",
       "      <td>0.589</td>\n",
       "      <td>0.0</td>\n",
       "    </tr>\n",
       "    <tr>\n",
       "      <th>2</th>\n",
       "      <td>2008-12-30 19:00:00</td>\n",
       "      <td>0.595</td>\n",
       "      <td>0.0</td>\n",
       "    </tr>\n",
       "    <tr>\n",
       "      <th>3</th>\n",
       "      <td>2008-12-30 19:15:00</td>\n",
       "      <td>0.596</td>\n",
       "      <td>0.0</td>\n",
       "    </tr>\n",
       "    <tr>\n",
       "      <th>4</th>\n",
       "      <td>2008-12-30 19:30:00</td>\n",
       "      <td>0.595</td>\n",
       "      <td>0.0</td>\n",
       "    </tr>\n",
       "  </tbody>\n",
       "</table>\n",
       "</div>"
      ],
      "text/plain": [
       "            data_hora  nivel  chuva\n",
       "0 2008-12-30 14:30:00  0.593    0.0\n",
       "1 2008-12-30 14:45:00  0.589    0.0\n",
       "2 2008-12-30 19:00:00  0.595    0.0\n",
       "3 2008-12-30 19:15:00  0.596    0.0\n",
       "4 2008-12-30 19:30:00  0.595    0.0"
      ]
     },
     "execution_count": 150,
     "metadata": {},
     "output_type": "execute_result"
    }
   ],
   "source": [
    "weather_stations['ituporanga'].head()"
   ]
  },
  {
   "cell_type": "code",
   "execution_count": 151,
   "metadata": {},
   "outputs": [
    {
     "name": "stdout",
     "output_type": "stream",
     "text": [
      "<class 'pandas.core.frame.DataFrame'>\n",
      "RangeIndex: 382244 entries, 0 to 382243\n",
      "Data columns (total 3 columns):\n",
      " #   Column     Non-Null Count   Dtype         \n",
      "---  ------     --------------   -----         \n",
      " 0   data_hora  382244 non-null  datetime64[ns]\n",
      " 1   nivel      382244 non-null  float64       \n",
      " 2   chuva      382244 non-null  float64       \n",
      "dtypes: datetime64[ns](1), float64(2)\n",
      "memory usage: 8.7 MB\n"
     ]
    }
   ],
   "source": [
    "weather_stations['ituporanga'].info()"
   ]
  },
  {
   "cell_type": "code",
   "execution_count": 152,
   "metadata": {},
   "outputs": [
    {
     "data": {
      "text/html": [
       "<div>\n",
       "<style scoped>\n",
       "    .dataframe tbody tr th:only-of-type {\n",
       "        vertical-align: middle;\n",
       "    }\n",
       "\n",
       "    .dataframe tbody tr th {\n",
       "        vertical-align: top;\n",
       "    }\n",
       "\n",
       "    .dataframe thead th {\n",
       "        text-align: right;\n",
       "    }\n",
       "</style>\n",
       "<table border=\"1\" class=\"dataframe\">\n",
       "  <thead>\n",
       "    <tr style=\"text-align: right;\">\n",
       "      <th></th>\n",
       "      <th>data_hora</th>\n",
       "      <th>nivel</th>\n",
       "      <th>chuva</th>\n",
       "    </tr>\n",
       "  </thead>\n",
       "  <tbody>\n",
       "    <tr>\n",
       "      <th>19137</th>\n",
       "      <td>2009-09-08 01:00:00</td>\n",
       "      <td>0.620</td>\n",
       "      <td>0.254</td>\n",
       "    </tr>\n",
       "    <tr>\n",
       "      <th>19138</th>\n",
       "      <td>2009-09-08 01:15:00</td>\n",
       "      <td>0.619</td>\n",
       "      <td>2.286</td>\n",
       "    </tr>\n",
       "    <tr>\n",
       "      <th>19139</th>\n",
       "      <td>2009-09-08 01:30:00</td>\n",
       "      <td>0.676</td>\n",
       "      <td>5.588</td>\n",
       "    </tr>\n",
       "    <tr>\n",
       "      <th>19140</th>\n",
       "      <td>2009-09-08 01:45:00</td>\n",
       "      <td>0.694</td>\n",
       "      <td>4.572</td>\n",
       "    </tr>\n",
       "    <tr>\n",
       "      <th>19277</th>\n",
       "      <td>2009-09-09 11:00:00</td>\n",
       "      <td>0.721</td>\n",
       "      <td>0.254</td>\n",
       "    </tr>\n",
       "    <tr>\n",
       "      <th>...</th>\n",
       "      <td>...</td>\n",
       "      <td>...</td>\n",
       "      <td>...</td>\n",
       "    </tr>\n",
       "    <tr>\n",
       "      <th>377284</th>\n",
       "      <td>2020-07-11 09:15:00</td>\n",
       "      <td>0.435</td>\n",
       "      <td>0.000</td>\n",
       "    </tr>\n",
       "    <tr>\n",
       "      <th>377285</th>\n",
       "      <td>2020-07-11 09:30:00</td>\n",
       "      <td>0.430</td>\n",
       "      <td>0.000</td>\n",
       "    </tr>\n",
       "    <tr>\n",
       "      <th>377286</th>\n",
       "      <td>2020-07-11 09:45:00</td>\n",
       "      <td>0.429</td>\n",
       "      <td>0.000</td>\n",
       "    </tr>\n",
       "    <tr>\n",
       "      <th>377287</th>\n",
       "      <td>2020-07-11 10:00:00</td>\n",
       "      <td>0.427</td>\n",
       "      <td>0.000</td>\n",
       "    </tr>\n",
       "    <tr>\n",
       "      <th>377288</th>\n",
       "      <td>2020-07-11 10:15:00</td>\n",
       "      <td>0.425</td>\n",
       "      <td>0.000</td>\n",
       "    </tr>\n",
       "  </tbody>\n",
       "</table>\n",
       "<p>14354 rows × 3 columns</p>\n",
       "</div>"
      ],
      "text/plain": [
       "                 data_hora  nivel  chuva\n",
       "19137  2009-09-08 01:00:00  0.620  0.254\n",
       "19138  2009-09-08 01:15:00  0.619  2.286\n",
       "19139  2009-09-08 01:30:00  0.676  5.588\n",
       "19140  2009-09-08 01:45:00  0.694  4.572\n",
       "19277  2009-09-09 11:00:00  0.721  0.254\n",
       "...                    ...    ...    ...\n",
       "377284 2020-07-11 09:15:00  0.435  0.000\n",
       "377285 2020-07-11 09:30:00  0.430  0.000\n",
       "377286 2020-07-11 09:45:00  0.429  0.000\n",
       "377287 2020-07-11 10:00:00  0.427  0.000\n",
       "377288 2020-07-11 10:15:00  0.425  0.000\n",
       "\n",
       "[14354 rows x 3 columns]"
      ]
     },
     "execution_count": 152,
     "metadata": {},
     "output_type": "execute_result"
    }
   ],
   "source": [
    "weather_stations['ituporanga'][weather_stations['ituporanga'].duplicated()]"
   ]
  },
  {
   "cell_type": "code",
   "execution_count": 153,
   "metadata": {},
   "outputs": [
    {
     "name": "stdout",
     "output_type": "stream",
     "text": [
      "Empty DataFrame\n",
      "Columns: [data_hora, nivel, chuva]\n",
      "Index: []\n",
      "Empty DataFrame\n",
      "Columns: [data_hora, nivel, chuva]\n",
      "Index: []\n",
      "Empty DataFrame\n",
      "Columns: [data_hora, nivel, chuva]\n",
      "Index: []\n"
     ]
    }
   ],
   "source": [
    "print(weather_stations['ituporanga'][weather_stations['ituporanga'].data_hora.isna()])\n",
    "print(weather_stations['ituporanga'][weather_stations['ituporanga'].nivel.isna()])\n",
    "print(weather_stations['ituporanga'][weather_stations['ituporanga'].chuva.isna()])"
   ]
  },
  {
   "cell_type": "code",
   "execution_count": 154,
   "metadata": {},
   "outputs": [
    {
     "name": "stdout",
     "output_type": "stream",
     "text": [
      "                 data_hora  nivel  chuva\n",
      "1536   2009-01-15 18:30:00 -2.569    0.0\n",
      "1628   2009-01-16 17:30:00 -0.781    0.0\n",
      "1809   2009-01-18 14:45:00 -0.531    0.0\n",
      "1810   2009-01-18 15:00:00 -0.069    0.0\n",
      "1811   2009-01-18 15:15:00 -2.706    0.0\n",
      "...                    ...    ...    ...\n",
      "373681 2020-06-05 23:45:00 -0.026    0.0\n",
      "373682 2020-06-06 00:00:00 -0.025    0.0\n",
      "373683 2020-06-06 00:15:00 -0.017    0.0\n",
      "373684 2020-06-06 00:30:00 -0.021    0.0\n",
      "373685 2020-06-06 00:45:00 -0.007    0.0\n",
      "\n",
      "[82473 rows x 3 columns]\n",
      "Empty DataFrame\n",
      "Columns: [data_hora, nivel, chuva]\n",
      "Index: []\n"
     ]
    }
   ],
   "source": [
    "print(weather_stations['ituporanga'][weather_stations['ituporanga'].nivel < 0])\n",
    "print(weather_stations['ituporanga'][weather_stations['ituporanga'].chuva < 0])"
   ]
  },
  {
   "cell_type": "markdown",
   "metadata": {},
   "source": [
    "### Analyzing Pouso Redondo"
   ]
  },
  {
   "cell_type": "code",
   "execution_count": null,
   "metadata": {},
   "outputs": [],
   "source": [
    "weather_stations['pouso_redondo'].head()"
   ]
  },
  {
   "cell_type": "code",
   "execution_count": 7,
   "metadata": {},
   "outputs": [
    {
     "name": "stdout",
     "output_type": "stream",
     "text": [
      "<class 'pandas.core.frame.DataFrame'>\n",
      "RangeIndex: 238770 entries, 0 to 238769\n",
      "Data columns (total 3 columns):\n",
      " #   Column     Non-Null Count   Dtype         \n",
      "---  ------     --------------   -----         \n",
      " 0   data_hora  238770 non-null  datetime64[ns]\n",
      " 1   nivel      238770 non-null  float64       \n",
      " 2   chuva      238770 non-null  float64       \n",
      "dtypes: datetime64[ns](1), float64(2)\n",
      "memory usage: 5.5 MB\n"
     ]
    }
   ],
   "source": [
    "weather_stations['pouso_redondo'].info()"
   ]
  },
  {
   "cell_type": "code",
   "execution_count": null,
   "metadata": {},
   "outputs": [],
   "source": [
    "weather_stations['pouso_redondo'][weather_stations['pouso_redondo'].duplicated()]"
   ]
  },
  {
   "cell_type": "code",
   "execution_count": 5,
   "metadata": {},
   "outputs": [
    {
     "name": "stdout",
     "output_type": "stream",
     "text": [
      "Empty DataFrame\n",
      "Columns: [data_hora, nivel, chuva]\n",
      "Index: []\n",
      "Empty DataFrame\n",
      "Columns: [data_hora, nivel, chuva]\n",
      "Index: []\n",
      "Empty DataFrame\n",
      "Columns: [data_hora, nivel, chuva]\n",
      "Index: []\n"
     ]
    }
   ],
   "source": [
    "print(weather_stations['pouso_redondo'][weather_stations['pouso_redondo'].data_hora.isna()])\n",
    "print(weather_stations['pouso_redondo'][weather_stations['pouso_redondo'].nivel.isna()])\n",
    "print(weather_stations['pouso_redondo'][weather_stations['pouso_redondo'].chuva.isna()])"
   ]
  },
  {
   "cell_type": "code",
   "execution_count": 6,
   "metadata": {},
   "outputs": [
    {
     "name": "stdout",
     "output_type": "stream",
     "text": [
      "                 data_hora  nivel  chuva\n",
      "0      2009-01-08 11:00:00 -2.261    0.0\n",
      "1      2009-01-08 11:15:00 -1.816    0.8\n",
      "2      2009-01-08 11:30:00 -1.796    0.0\n",
      "3      2009-01-08 11:45:00 -1.760    0.0\n",
      "4      2009-01-08 12:00:00 -1.751    0.0\n",
      "...                    ...    ...    ...\n",
      "238765 2016-07-08 12:00:00 -5.075    0.0\n",
      "238766 2016-07-08 12:15:00 -5.075    0.0\n",
      "238767 2016-07-08 12:30:00 -5.075    0.0\n",
      "238768 2016-07-08 12:45:00 -5.071    0.0\n",
      "238769 2016-07-08 13:00:00 -5.071    0.0\n",
      "\n",
      "[238649 rows x 3 columns]\n",
      "Empty DataFrame\n",
      "Columns: [data_hora, nivel, chuva]\n",
      "Index: []\n"
     ]
    }
   ],
   "source": [
    "print(weather_stations['pouso_redondo'][weather_stations['pouso_redondo'].nivel < 0])\n",
    "print(weather_stations['pouso_redondo'][weather_stations['pouso_redondo'].chuva < 0])"
   ]
  },
  {
   "cell_type": "markdown",
   "metadata": {},
   "source": [
    "### Analyzing Rio do Oeste"
   ]
  },
  {
   "cell_type": "code",
   "execution_count": null,
   "metadata": {},
   "outputs": [
    {
     "data": {
      "text/html": [
       "<div>\n",
       "<style scoped>\n",
       "    .dataframe tbody tr th:only-of-type {\n",
       "        vertical-align: middle;\n",
       "    }\n",
       "\n",
       "    .dataframe tbody tr th {\n",
       "        vertical-align: top;\n",
       "    }\n",
       "\n",
       "    .dataframe thead th {\n",
       "        text-align: right;\n",
       "    }\n",
       "</style>\n",
       "<table border=\"1\" class=\"dataframe\">\n",
       "  <thead>\n",
       "    <tr style=\"text-align: right;\">\n",
       "      <th></th>\n",
       "      <th>data_hora</th>\n",
       "      <th>nivel</th>\n",
       "      <th>chuva</th>\n",
       "    </tr>\n",
       "  </thead>\n",
       "  <tbody>\n",
       "    <tr>\n",
       "      <th>0</th>\n",
       "      <td>2009-01-07 18:00:00</td>\n",
       "      <td>-1.830</td>\n",
       "      <td>0.0</td>\n",
       "    </tr>\n",
       "    <tr>\n",
       "      <th>1</th>\n",
       "      <td>2009-01-07 18:15:00</td>\n",
       "      <td>-1.830</td>\n",
       "      <td>0.0</td>\n",
       "    </tr>\n",
       "    <tr>\n",
       "      <th>2</th>\n",
       "      <td>2009-01-07 18:30:00</td>\n",
       "      <td>-1.830</td>\n",
       "      <td>0.0</td>\n",
       "    </tr>\n",
       "    <tr>\n",
       "      <th>3</th>\n",
       "      <td>2009-01-07 18:45:00</td>\n",
       "      <td>-1.830</td>\n",
       "      <td>0.0</td>\n",
       "    </tr>\n",
       "    <tr>\n",
       "      <th>4</th>\n",
       "      <td>2009-01-07 19:00:00</td>\n",
       "      <td>2.714</td>\n",
       "      <td>0.0</td>\n",
       "    </tr>\n",
       "  </tbody>\n",
       "</table>\n",
       "</div>"
      ],
      "text/plain": [
       "            data_hora  nivel  chuva\n",
       "0 2009-01-07 18:00:00 -1.830    0.0\n",
       "1 2009-01-07 18:15:00 -1.830    0.0\n",
       "2 2009-01-07 18:30:00 -1.830    0.0\n",
       "3 2009-01-07 18:45:00 -1.830    0.0\n",
       "4 2009-01-07 19:00:00  2.714    0.0"
      ]
     },
     "execution_count": 197,
     "metadata": {},
     "output_type": "execute_result"
    }
   ],
   "source": [
    "weather_stations['rio_do_oeste'].head()"
   ]
  },
  {
   "cell_type": "code",
   "execution_count": null,
   "metadata": {},
   "outputs": [
    {
     "name": "stdout",
     "output_type": "stream",
     "text": [
      "<class 'pandas.core.frame.DataFrame'>\n",
      "RangeIndex: 347199 entries, 0 to 347198\n",
      "Data columns (total 3 columns):\n",
      " #   Column     Non-Null Count   Dtype         \n",
      "---  ------     --------------   -----         \n",
      " 0   data_hora  347199 non-null  datetime64[ns]\n",
      " 1   nivel      347199 non-null  float64       \n",
      " 2   chuva      347199 non-null  float64       \n",
      "dtypes: datetime64[ns](1), float64(2)\n",
      "memory usage: 7.9 MB\n"
     ]
    }
   ],
   "source": [
    "weather_stations['rio_do_oeste'].info()"
   ]
  },
  {
   "cell_type": "code",
   "execution_count": null,
   "metadata": {},
   "outputs": [
    {
     "data": {
      "text/html": [
       "<div>\n",
       "<style scoped>\n",
       "    .dataframe tbody tr th:only-of-type {\n",
       "        vertical-align: middle;\n",
       "    }\n",
       "\n",
       "    .dataframe tbody tr th {\n",
       "        vertical-align: top;\n",
       "    }\n",
       "\n",
       "    .dataframe thead th {\n",
       "        text-align: right;\n",
       "    }\n",
       "</style>\n",
       "<table border=\"1\" class=\"dataframe\">\n",
       "  <thead>\n",
       "    <tr style=\"text-align: right;\">\n",
       "      <th></th>\n",
       "      <th>data_hora</th>\n",
       "      <th>nivel</th>\n",
       "      <th>chuva</th>\n",
       "    </tr>\n",
       "  </thead>\n",
       "  <tbody>\n",
       "    <tr>\n",
       "      <th>23359</th>\n",
       "      <td>2009-09-08 01:00:00</td>\n",
       "      <td>0.883</td>\n",
       "      <td>0.000</td>\n",
       "    </tr>\n",
       "    <tr>\n",
       "      <th>23360</th>\n",
       "      <td>2009-09-08 01:15:00</td>\n",
       "      <td>0.879</td>\n",
       "      <td>2.032</td>\n",
       "    </tr>\n",
       "    <tr>\n",
       "      <th>23361</th>\n",
       "      <td>2009-09-08 01:30:00</td>\n",
       "      <td>0.912</td>\n",
       "      <td>13.460</td>\n",
       "    </tr>\n",
       "    <tr>\n",
       "      <th>23362</th>\n",
       "      <td>2009-09-08 01:45:00</td>\n",
       "      <td>0.917</td>\n",
       "      <td>1.778</td>\n",
       "    </tr>\n",
       "    <tr>\n",
       "      <th>23499</th>\n",
       "      <td>2009-09-09 11:00:00</td>\n",
       "      <td>0.858</td>\n",
       "      <td>0.000</td>\n",
       "    </tr>\n",
       "    <tr>\n",
       "      <th>...</th>\n",
       "      <td>...</td>\n",
       "      <td>...</td>\n",
       "      <td>...</td>\n",
       "    </tr>\n",
       "    <tr>\n",
       "      <th>264087</th>\n",
       "      <td>2017-11-02 06:00:00</td>\n",
       "      <td>1.085</td>\n",
       "      <td>0.000</td>\n",
       "    </tr>\n",
       "    <tr>\n",
       "      <th>311065</th>\n",
       "      <td>2019-03-06 15:15:00</td>\n",
       "      <td>1.827</td>\n",
       "      <td>0.000</td>\n",
       "    </tr>\n",
       "    <tr>\n",
       "      <th>311066</th>\n",
       "      <td>2019-03-06 15:30:00</td>\n",
       "      <td>1.867</td>\n",
       "      <td>0.000</td>\n",
       "    </tr>\n",
       "    <tr>\n",
       "      <th>311067</th>\n",
       "      <td>2019-03-06 15:45:00</td>\n",
       "      <td>1.913</td>\n",
       "      <td>0.000</td>\n",
       "    </tr>\n",
       "    <tr>\n",
       "      <th>311068</th>\n",
       "      <td>2019-03-06 16:00:00</td>\n",
       "      <td>1.951</td>\n",
       "      <td>0.000</td>\n",
       "    </tr>\n",
       "  </tbody>\n",
       "</table>\n",
       "<p>8562 rows × 3 columns</p>\n",
       "</div>"
      ],
      "text/plain": [
       "                 data_hora  nivel   chuva\n",
       "23359  2009-09-08 01:00:00  0.883   0.000\n",
       "23360  2009-09-08 01:15:00  0.879   2.032\n",
       "23361  2009-09-08 01:30:00  0.912  13.460\n",
       "23362  2009-09-08 01:45:00  0.917   1.778\n",
       "23499  2009-09-09 11:00:00  0.858   0.000\n",
       "...                    ...    ...     ...\n",
       "264087 2017-11-02 06:00:00  1.085   0.000\n",
       "311065 2019-03-06 15:15:00  1.827   0.000\n",
       "311066 2019-03-06 15:30:00  1.867   0.000\n",
       "311067 2019-03-06 15:45:00  1.913   0.000\n",
       "311068 2019-03-06 16:00:00  1.951   0.000\n",
       "\n",
       "[8562 rows x 3 columns]"
      ]
     },
     "execution_count": 199,
     "metadata": {},
     "output_type": "execute_result"
    }
   ],
   "source": [
    "weather_stations['rio_do_oeste'][weather_stations['rio_do_oeste'].duplicated()]"
   ]
  },
  {
   "cell_type": "code",
   "execution_count": null,
   "metadata": {},
   "outputs": [
    {
     "name": "stdout",
     "output_type": "stream",
     "text": [
      "Empty DataFrame\n",
      "Columns: [data_hora, nivel, chuva]\n",
      "Index: []\n",
      "Empty DataFrame\n",
      "Columns: [data_hora, nivel, chuva]\n",
      "Index: []\n",
      "Empty DataFrame\n",
      "Columns: [data_hora, nivel, chuva]\n",
      "Index: []\n"
     ]
    }
   ],
   "source": [
    "print(weather_stations['rio_do_oeste'][weather_stations['rio_do_oeste'].data_hora.isna()])\n",
    "print(weather_stations['rio_do_oeste'][weather_stations['rio_do_oeste'].nivel.isna()])\n",
    "print(weather_stations['rio_do_oeste'][weather_stations['rio_do_oeste'].chuva.isna()])"
   ]
  },
  {
   "cell_type": "code",
   "execution_count": null,
   "metadata": {},
   "outputs": [
    {
     "name": "stdout",
     "output_type": "stream",
     "text": [
      "                 data_hora  nivel  chuva\n",
      "0      2009-01-07 18:00:00 -1.830  0.000\n",
      "1      2009-01-07 18:15:00 -1.830  0.000\n",
      "2      2009-01-07 18:30:00 -1.830  0.000\n",
      "3      2009-01-07 18:45:00 -1.830  0.000\n",
      "6529   2009-03-16 18:15:00 -0.001  0.000\n",
      "...                    ...    ...    ...\n",
      "303195 2018-12-14 16:15:00 -0.004  0.000\n",
      "303196 2018-12-14 16:30:00 -0.003  0.000\n",
      "303197 2018-12-14 16:45:00 -0.007  0.000\n",
      "303198 2018-12-14 17:00:00 -0.005  0.000\n",
      "303200 2018-12-14 17:30:00 -0.003  0.254\n",
      "\n",
      "[30004 rows x 3 columns]\n",
      "Empty DataFrame\n",
      "Columns: [data_hora, nivel, chuva]\n",
      "Index: []\n"
     ]
    }
   ],
   "source": [
    "print(weather_stations['rio_do_oeste'][weather_stations['rio_do_oeste'].nivel < 0])\n",
    "print(weather_stations['rio_do_oeste'][weather_stations['rio_do_oeste'].chuva < 0])"
   ]
  },
  {
   "cell_type": "markdown",
   "metadata": {},
   "source": [
    "### Analyzing Rio dos Cedros"
   ]
  },
  {
   "cell_type": "code",
   "execution_count": null,
   "metadata": {},
   "outputs": [
    {
     "data": {
      "text/html": [
       "<div>\n",
       "<style scoped>\n",
       "    .dataframe tbody tr th:only-of-type {\n",
       "        vertical-align: middle;\n",
       "    }\n",
       "\n",
       "    .dataframe tbody tr th {\n",
       "        vertical-align: top;\n",
       "    }\n",
       "\n",
       "    .dataframe thead th {\n",
       "        text-align: right;\n",
       "    }\n",
       "</style>\n",
       "<table border=\"1\" class=\"dataframe\">\n",
       "  <thead>\n",
       "    <tr style=\"text-align: right;\">\n",
       "      <th></th>\n",
       "      <th>data_hora</th>\n",
       "      <th>nivel</th>\n",
       "      <th>chuva</th>\n",
       "    </tr>\n",
       "  </thead>\n",
       "  <tbody>\n",
       "    <tr>\n",
       "      <th>0</th>\n",
       "      <td>2012-11-05 10:00:00</td>\n",
       "      <td>-3.288</td>\n",
       "      <td>0.0</td>\n",
       "    </tr>\n",
       "    <tr>\n",
       "      <th>1</th>\n",
       "      <td>2012-11-05 10:15:00</td>\n",
       "      <td>-3.322</td>\n",
       "      <td>0.0</td>\n",
       "    </tr>\n",
       "    <tr>\n",
       "      <th>2</th>\n",
       "      <td>2012-11-05 10:30:00</td>\n",
       "      <td>-3.326</td>\n",
       "      <td>0.0</td>\n",
       "    </tr>\n",
       "    <tr>\n",
       "      <th>3</th>\n",
       "      <td>2012-11-05 10:45:00</td>\n",
       "      <td>-3.345</td>\n",
       "      <td>0.0</td>\n",
       "    </tr>\n",
       "    <tr>\n",
       "      <th>4</th>\n",
       "      <td>2012-11-05 11:00:00</td>\n",
       "      <td>-3.398</td>\n",
       "      <td>0.0</td>\n",
       "    </tr>\n",
       "  </tbody>\n",
       "</table>\n",
       "</div>"
      ],
      "text/plain": [
       "            data_hora  nivel  chuva\n",
       "0 2012-11-05 10:00:00 -3.288    0.0\n",
       "1 2012-11-05 10:15:00 -3.322    0.0\n",
       "2 2012-11-05 10:30:00 -3.326    0.0\n",
       "3 2012-11-05 10:45:00 -3.345    0.0\n",
       "4 2012-11-05 11:00:00 -3.398    0.0"
      ]
     },
     "execution_count": 215,
     "metadata": {},
     "output_type": "execute_result"
    }
   ],
   "source": [
    "weather_stations['rio_dos_cedros'].head()"
   ]
  },
  {
   "cell_type": "code",
   "execution_count": null,
   "metadata": {},
   "outputs": [
    {
     "name": "stdout",
     "output_type": "stream",
     "text": [
      "<class 'pandas.core.frame.DataFrame'>\n",
      "RangeIndex: 214283 entries, 0 to 214282\n",
      "Data columns (total 3 columns):\n",
      " #   Column     Non-Null Count   Dtype         \n",
      "---  ------     --------------   -----         \n",
      " 0   data_hora  214283 non-null  datetime64[ns]\n",
      " 1   nivel      214283 non-null  float64       \n",
      " 2   chuva      214283 non-null  float64       \n",
      "dtypes: datetime64[ns](1), float64(2)\n",
      "memory usage: 4.9 MB\n"
     ]
    }
   ],
   "source": [
    "weather_stations['rio_dos_cedros'].info()"
   ]
  },
  {
   "cell_type": "code",
   "execution_count": null,
   "metadata": {},
   "outputs": [
    {
     "data": {
      "text/html": [
       "<div>\n",
       "<style scoped>\n",
       "    .dataframe tbody tr th:only-of-type {\n",
       "        vertical-align: middle;\n",
       "    }\n",
       "\n",
       "    .dataframe tbody tr th {\n",
       "        vertical-align: top;\n",
       "    }\n",
       "\n",
       "    .dataframe thead th {\n",
       "        text-align: right;\n",
       "    }\n",
       "</style>\n",
       "<table border=\"1\" class=\"dataframe\">\n",
       "  <thead>\n",
       "    <tr style=\"text-align: right;\">\n",
       "      <th></th>\n",
       "      <th>data_hora</th>\n",
       "      <th>nivel</th>\n",
       "      <th>chuva</th>\n",
       "    </tr>\n",
       "  </thead>\n",
       "  <tbody>\n",
       "    <tr>\n",
       "      <th>32267</th>\n",
       "      <td>2014-02-19 15:15:00</td>\n",
       "      <td>1.011</td>\n",
       "      <td>0.0</td>\n",
       "    </tr>\n",
       "    <tr>\n",
       "      <th>62425</th>\n",
       "      <td>2015-01-07 15:15:00</td>\n",
       "      <td>1.091</td>\n",
       "      <td>0.0</td>\n",
       "    </tr>\n",
       "    <tr>\n",
       "      <th>62426</th>\n",
       "      <td>2015-01-07 15:30:00</td>\n",
       "      <td>1.095</td>\n",
       "      <td>0.0</td>\n",
       "    </tr>\n",
       "    <tr>\n",
       "      <th>62427</th>\n",
       "      <td>2015-01-07 15:45:00</td>\n",
       "      <td>1.097</td>\n",
       "      <td>0.0</td>\n",
       "    </tr>\n",
       "    <tr>\n",
       "      <th>62428</th>\n",
       "      <td>2015-01-07 16:00:00</td>\n",
       "      <td>1.098</td>\n",
       "      <td>0.0</td>\n",
       "    </tr>\n",
       "    <tr>\n",
       "      <th>...</th>\n",
       "      <td>...</td>\n",
       "      <td>...</td>\n",
       "      <td>...</td>\n",
       "    </tr>\n",
       "    <tr>\n",
       "      <th>167305</th>\n",
       "      <td>2017-11-02 06:00:00</td>\n",
       "      <td>0.666</td>\n",
       "      <td>0.0</td>\n",
       "    </tr>\n",
       "    <tr>\n",
       "      <th>208255</th>\n",
       "      <td>2019-03-06 15:15:00</td>\n",
       "      <td>1.073</td>\n",
       "      <td>0.2</td>\n",
       "    </tr>\n",
       "    <tr>\n",
       "      <th>208256</th>\n",
       "      <td>2019-03-06 15:30:00</td>\n",
       "      <td>1.086</td>\n",
       "      <td>0.0</td>\n",
       "    </tr>\n",
       "    <tr>\n",
       "      <th>208257</th>\n",
       "      <td>2019-03-06 15:45:00</td>\n",
       "      <td>1.094</td>\n",
       "      <td>0.2</td>\n",
       "    </tr>\n",
       "    <tr>\n",
       "      <th>208258</th>\n",
       "      <td>2019-03-06 16:00:00</td>\n",
       "      <td>1.105</td>\n",
       "      <td>0.0</td>\n",
       "    </tr>\n",
       "  </tbody>\n",
       "</table>\n",
       "<p>7492 rows × 3 columns</p>\n",
       "</div>"
      ],
      "text/plain": [
       "                 data_hora  nivel  chuva\n",
       "32267  2014-02-19 15:15:00  1.011    0.0\n",
       "62425  2015-01-07 15:15:00  1.091    0.0\n",
       "62426  2015-01-07 15:30:00  1.095    0.0\n",
       "62427  2015-01-07 15:45:00  1.097    0.0\n",
       "62428  2015-01-07 16:00:00  1.098    0.0\n",
       "...                    ...    ...    ...\n",
       "167305 2017-11-02 06:00:00  0.666    0.0\n",
       "208255 2019-03-06 15:15:00  1.073    0.2\n",
       "208256 2019-03-06 15:30:00  1.086    0.0\n",
       "208257 2019-03-06 15:45:00  1.094    0.2\n",
       "208258 2019-03-06 16:00:00  1.105    0.0\n",
       "\n",
       "[7492 rows x 3 columns]"
      ]
     },
     "execution_count": 217,
     "metadata": {},
     "output_type": "execute_result"
    }
   ],
   "source": [
    "weather_stations['rio_dos_cedros'][weather_stations['rio_dos_cedros'].duplicated()]"
   ]
  },
  {
   "cell_type": "code",
   "execution_count": null,
   "metadata": {},
   "outputs": [
    {
     "name": "stdout",
     "output_type": "stream",
     "text": [
      "Empty DataFrame\n",
      "Columns: [data_hora, nivel, chuva]\n",
      "Index: []\n",
      "Empty DataFrame\n",
      "Columns: [data_hora, nivel, chuva]\n",
      "Index: []\n",
      "Empty DataFrame\n",
      "Columns: [data_hora, nivel, chuva]\n",
      "Index: []\n"
     ]
    }
   ],
   "source": [
    "print(weather_stations['rio_dos_cedros'][weather_stations['rio_dos_cedros'].data_hora.isna()])\n",
    "print(weather_stations['rio_dos_cedros'][weather_stations['rio_dos_cedros'].nivel.isna()])\n",
    "print(weather_stations['rio_dos_cedros'][weather_stations['rio_dos_cedros'].chuva.isna()])"
   ]
  },
  {
   "cell_type": "code",
   "execution_count": null,
   "metadata": {},
   "outputs": [
    {
     "name": "stdout",
     "output_type": "stream",
     "text": [
      "                 data_hora   nivel  chuva\n",
      "0      2012-11-05 10:00:00  -3.288    0.0\n",
      "1      2012-11-05 10:15:00  -3.322    0.0\n",
      "2      2012-11-05 10:30:00  -3.326    0.0\n",
      "3      2012-11-05 10:45:00  -3.345    0.0\n",
      "4      2012-11-05 11:00:00  -3.398    0.0\n",
      "...                    ...     ...    ...\n",
      "194418 2018-08-11 16:45:00 -24.160    1.8\n",
      "194419 2018-08-11 17:00:00 -24.180    2.6\n",
      "194420 2018-08-11 17:15:00 -24.200    7.4\n",
      "194421 2018-08-11 17:30:00 -24.220    2.6\n",
      "194422 2018-08-11 17:45:00 -24.250    1.8\n",
      "\n",
      "[2900 rows x 3 columns]\n",
      "Empty DataFrame\n",
      "Columns: [data_hora, nivel, chuva]\n",
      "Index: []\n"
     ]
    }
   ],
   "source": [
    "print(weather_stations['rio_dos_cedros'][weather_stations['rio_dos_cedros'].nivel < 0])\n",
    "print(weather_stations['rio_dos_cedros'][weather_stations['rio_dos_cedros'].chuva < 0])"
   ]
  },
  {
   "cell_type": "markdown",
   "metadata": {},
   "source": [
    "### Analyzing Rio do Sul"
   ]
  },
  {
   "cell_type": "code",
   "execution_count": null,
   "metadata": {},
   "outputs": [
    {
     "data": {
      "text/html": [
       "<div>\n",
       "<style scoped>\n",
       "    .dataframe tbody tr th:only-of-type {\n",
       "        vertical-align: middle;\n",
       "    }\n",
       "\n",
       "    .dataframe tbody tr th {\n",
       "        vertical-align: top;\n",
       "    }\n",
       "\n",
       "    .dataframe thead th {\n",
       "        text-align: right;\n",
       "    }\n",
       "</style>\n",
       "<table border=\"1\" class=\"dataframe\">\n",
       "  <thead>\n",
       "    <tr style=\"text-align: right;\">\n",
       "      <th></th>\n",
       "      <th>data_hora</th>\n",
       "      <th>nivel</th>\n",
       "      <th>chuva</th>\n",
       "    </tr>\n",
       "  </thead>\n",
       "  <tbody>\n",
       "    <tr>\n",
       "      <th>0</th>\n",
       "      <td>2009-04-09 18:45:00</td>\n",
       "      <td>1.219</td>\n",
       "      <td>0.0</td>\n",
       "    </tr>\n",
       "    <tr>\n",
       "      <th>1</th>\n",
       "      <td>2009-04-09 19:00:00</td>\n",
       "      <td>1.219</td>\n",
       "      <td>0.0</td>\n",
       "    </tr>\n",
       "    <tr>\n",
       "      <th>2</th>\n",
       "      <td>2009-04-09 19:15:00</td>\n",
       "      <td>1.219</td>\n",
       "      <td>0.0</td>\n",
       "    </tr>\n",
       "    <tr>\n",
       "      <th>3</th>\n",
       "      <td>2009-04-09 19:30:00</td>\n",
       "      <td>1.219</td>\n",
       "      <td>0.0</td>\n",
       "    </tr>\n",
       "    <tr>\n",
       "      <th>4</th>\n",
       "      <td>2009-04-09 19:45:00</td>\n",
       "      <td>1.222</td>\n",
       "      <td>0.0</td>\n",
       "    </tr>\n",
       "  </tbody>\n",
       "</table>\n",
       "</div>"
      ],
      "text/plain": [
       "            data_hora  nivel  chuva\n",
       "0 2009-04-09 18:45:00  1.219    0.0\n",
       "1 2009-04-09 19:00:00  1.219    0.0\n",
       "2 2009-04-09 19:15:00  1.219    0.0\n",
       "3 2009-04-09 19:30:00  1.219    0.0\n",
       "4 2009-04-09 19:45:00  1.222    0.0"
      ]
     },
     "execution_count": 224,
     "metadata": {},
     "output_type": "execute_result"
    }
   ],
   "source": [
    "weather_stations['rio_do_sul'].head()"
   ]
  },
  {
   "cell_type": "code",
   "execution_count": null,
   "metadata": {},
   "outputs": [
    {
     "name": "stdout",
     "output_type": "stream",
     "text": [
      "<class 'pandas.core.frame.DataFrame'>\n",
      "RangeIndex: 279879 entries, 0 to 279878\n",
      "Data columns (total 3 columns):\n",
      " #   Column     Non-Null Count   Dtype         \n",
      "---  ------     --------------   -----         \n",
      " 0   data_hora  279879 non-null  datetime64[ns]\n",
      " 1   nivel      279879 non-null  float64       \n",
      " 2   chuva      279879 non-null  float64       \n",
      "dtypes: datetime64[ns](1), float64(2)\n",
      "memory usage: 6.4 MB\n"
     ]
    }
   ],
   "source": [
    "weather_stations['rio_do_sul'].info()"
   ]
  },
  {
   "cell_type": "code",
   "execution_count": null,
   "metadata": {},
   "outputs": [
    {
     "data": {
      "text/html": [
       "<div>\n",
       "<style scoped>\n",
       "    .dataframe tbody tr th:only-of-type {\n",
       "        vertical-align: middle;\n",
       "    }\n",
       "\n",
       "    .dataframe tbody tr th {\n",
       "        vertical-align: top;\n",
       "    }\n",
       "\n",
       "    .dataframe thead th {\n",
       "        text-align: right;\n",
       "    }\n",
       "</style>\n",
       "<table border=\"1\" class=\"dataframe\">\n",
       "  <thead>\n",
       "    <tr style=\"text-align: right;\">\n",
       "      <th></th>\n",
       "      <th>data_hora</th>\n",
       "      <th>nivel</th>\n",
       "      <th>chuva</th>\n",
       "    </tr>\n",
       "  </thead>\n",
       "  <tbody>\n",
       "    <tr>\n",
       "      <th>14512</th>\n",
       "      <td>2009-09-08 01:00:00</td>\n",
       "      <td>2.831</td>\n",
       "      <td>0.000</td>\n",
       "    </tr>\n",
       "    <tr>\n",
       "      <th>14513</th>\n",
       "      <td>2009-09-08 01:15:00</td>\n",
       "      <td>2.810</td>\n",
       "      <td>0.000</td>\n",
       "    </tr>\n",
       "    <tr>\n",
       "      <th>14514</th>\n",
       "      <td>2009-09-08 01:30:00</td>\n",
       "      <td>2.802</td>\n",
       "      <td>7.112</td>\n",
       "    </tr>\n",
       "    <tr>\n",
       "      <th>14515</th>\n",
       "      <td>2009-09-08 01:45:00</td>\n",
       "      <td>2.861</td>\n",
       "      <td>7.366</td>\n",
       "    </tr>\n",
       "    <tr>\n",
       "      <th>14652</th>\n",
       "      <td>2009-09-09 11:15:00</td>\n",
       "      <td>4.027</td>\n",
       "      <td>0.000</td>\n",
       "    </tr>\n",
       "    <tr>\n",
       "      <th>...</th>\n",
       "      <td>...</td>\n",
       "      <td>...</td>\n",
       "      <td>...</td>\n",
       "    </tr>\n",
       "    <tr>\n",
       "      <th>257541</th>\n",
       "      <td>2016-10-12 03:00:00</td>\n",
       "      <td>2.619</td>\n",
       "      <td>0.000</td>\n",
       "    </tr>\n",
       "    <tr>\n",
       "      <th>266142</th>\n",
       "      <td>2017-01-09 17:15:00</td>\n",
       "      <td>-4.839</td>\n",
       "      <td>0.000</td>\n",
       "    </tr>\n",
       "    <tr>\n",
       "      <th>266143</th>\n",
       "      <td>2017-01-09 17:30:00</td>\n",
       "      <td>-4.860</td>\n",
       "      <td>0.000</td>\n",
       "    </tr>\n",
       "    <tr>\n",
       "      <th>266144</th>\n",
       "      <td>2017-01-09 17:45:00</td>\n",
       "      <td>-4.874</td>\n",
       "      <td>0.000</td>\n",
       "    </tr>\n",
       "    <tr>\n",
       "      <th>266145</th>\n",
       "      <td>2017-01-09 18:00:00</td>\n",
       "      <td>-4.874</td>\n",
       "      <td>0.508</td>\n",
       "    </tr>\n",
       "  </tbody>\n",
       "</table>\n",
       "<p>84 rows × 3 columns</p>\n",
       "</div>"
      ],
      "text/plain": [
       "                 data_hora  nivel  chuva\n",
       "14512  2009-09-08 01:00:00  2.831  0.000\n",
       "14513  2009-09-08 01:15:00  2.810  0.000\n",
       "14514  2009-09-08 01:30:00  2.802  7.112\n",
       "14515  2009-09-08 01:45:00  2.861  7.366\n",
       "14652  2009-09-09 11:15:00  4.027  0.000\n",
       "...                    ...    ...    ...\n",
       "257541 2016-10-12 03:00:00  2.619  0.000\n",
       "266142 2017-01-09 17:15:00 -4.839  0.000\n",
       "266143 2017-01-09 17:30:00 -4.860  0.000\n",
       "266144 2017-01-09 17:45:00 -4.874  0.000\n",
       "266145 2017-01-09 18:00:00 -4.874  0.508\n",
       "\n",
       "[84 rows x 3 columns]"
      ]
     },
     "execution_count": 229,
     "metadata": {},
     "output_type": "execute_result"
    }
   ],
   "source": [
    "weather_stations['rio_do_sul'][weather_stations['rio_do_sul'].duplicated()]"
   ]
  },
  {
   "cell_type": "code",
   "execution_count": null,
   "metadata": {},
   "outputs": [
    {
     "name": "stdout",
     "output_type": "stream",
     "text": [
      "Empty DataFrame\n",
      "Columns: [data_hora, nivel, chuva]\n",
      "Index: []\n",
      "Empty DataFrame\n",
      "Columns: [data_hora, nivel, chuva]\n",
      "Index: []\n",
      "Empty DataFrame\n",
      "Columns: [data_hora, nivel, chuva]\n",
      "Index: []\n"
     ]
    }
   ],
   "source": [
    "print(weather_stations['rio_do_sul'][weather_stations['rio_do_sul'].data_hora.isna()])\n",
    "print(weather_stations['rio_do_sul'][weather_stations['rio_do_sul'].nivel.isna()])\n",
    "print(weather_stations['rio_do_sul'][weather_stations['rio_do_sul'].chuva.isna()])"
   ]
  },
  {
   "cell_type": "code",
   "execution_count": null,
   "metadata": {},
   "outputs": [
    {
     "name": "stdout",
     "output_type": "stream",
     "text": [
      "                 data_hora  nivel  chuva\n",
      "10830  2009-07-31 15:45:00 -0.800  0.000\n",
      "10831  2009-07-31 16:00:00 -0.800  0.254\n",
      "10832  2009-07-31 16:15:00 -0.800  0.762\n",
      "10833  2009-07-31 16:30:00 -0.800  0.762\n",
      "10834  2009-07-31 16:45:00 -0.800  0.254\n",
      "...                    ...    ...    ...\n",
      "279874 2017-06-04 09:00:00 -5.053  0.000\n",
      "279875 2017-06-04 09:15:00 -5.053  0.000\n",
      "279876 2017-06-04 09:30:00 -5.053  0.000\n",
      "279877 2017-06-04 09:45:00 -5.055  0.762\n",
      "279878 2017-06-04 10:00:00 -5.053  0.000\n",
      "\n",
      "[24577 rows x 3 columns]\n",
      "Empty DataFrame\n",
      "Columns: [data_hora, nivel, chuva]\n",
      "Index: []\n"
     ]
    }
   ],
   "source": [
    "print(weather_stations['rio_do_sul'][weather_stations['rio_do_sul'].nivel < 0])\n",
    "print(weather_stations['rio_do_sul'][weather_stations['rio_do_sul'].chuva < 0])"
   ]
  },
  {
   "cell_type": "markdown",
   "metadata": {},
   "source": [
    "### Analyzing Taio"
   ]
  },
  {
   "cell_type": "code",
   "execution_count": null,
   "metadata": {},
   "outputs": [
    {
     "data": {
      "text/html": [
       "<div>\n",
       "<style scoped>\n",
       "    .dataframe tbody tr th:only-of-type {\n",
       "        vertical-align: middle;\n",
       "    }\n",
       "\n",
       "    .dataframe tbody tr th {\n",
       "        vertical-align: top;\n",
       "    }\n",
       "\n",
       "    .dataframe thead th {\n",
       "        text-align: right;\n",
       "    }\n",
       "</style>\n",
       "<table border=\"1\" class=\"dataframe\">\n",
       "  <thead>\n",
       "    <tr style=\"text-align: right;\">\n",
       "      <th></th>\n",
       "      <th>data_hora</th>\n",
       "      <th>nivel</th>\n",
       "      <th>chuva</th>\n",
       "    </tr>\n",
       "  </thead>\n",
       "  <tbody>\n",
       "    <tr>\n",
       "      <th>0</th>\n",
       "      <td>2008-12-29 15:00:00</td>\n",
       "      <td>-2.5</td>\n",
       "      <td>0.0</td>\n",
       "    </tr>\n",
       "    <tr>\n",
       "      <th>1</th>\n",
       "      <td>2008-12-29 15:15:00</td>\n",
       "      <td>-2.5</td>\n",
       "      <td>0.0</td>\n",
       "    </tr>\n",
       "    <tr>\n",
       "      <th>2</th>\n",
       "      <td>2008-12-29 15:30:00</td>\n",
       "      <td>-2.5</td>\n",
       "      <td>0.0</td>\n",
       "    </tr>\n",
       "    <tr>\n",
       "      <th>3</th>\n",
       "      <td>2008-12-29 15:45:00</td>\n",
       "      <td>-2.5</td>\n",
       "      <td>0.0</td>\n",
       "    </tr>\n",
       "    <tr>\n",
       "      <th>4</th>\n",
       "      <td>2008-12-29 16:00:00</td>\n",
       "      <td>-2.5</td>\n",
       "      <td>0.0</td>\n",
       "    </tr>\n",
       "  </tbody>\n",
       "</table>\n",
       "</div>"
      ],
      "text/plain": [
       "            data_hora  nivel  chuva\n",
       "0 2008-12-29 15:00:00   -2.5    0.0\n",
       "1 2008-12-29 15:15:00   -2.5    0.0\n",
       "2 2008-12-29 15:30:00   -2.5    0.0\n",
       "3 2008-12-29 15:45:00   -2.5    0.0\n",
       "4 2008-12-29 16:00:00   -2.5    0.0"
      ]
     },
     "execution_count": 240,
     "metadata": {},
     "output_type": "execute_result"
    }
   ],
   "source": [
    "weather_stations['taio'].head()"
   ]
  },
  {
   "cell_type": "code",
   "execution_count": null,
   "metadata": {},
   "outputs": [
    {
     "name": "stdout",
     "output_type": "stream",
     "text": [
      "<class 'pandas.core.frame.DataFrame'>\n",
      "RangeIndex: 412547 entries, 0 to 412546\n",
      "Data columns (total 3 columns):\n",
      " #   Column     Non-Null Count   Dtype         \n",
      "---  ------     --------------   -----         \n",
      " 0   data_hora  412547 non-null  datetime64[ns]\n",
      " 1   nivel      412547 non-null  float64       \n",
      " 2   chuva      412547 non-null  float64       \n",
      "dtypes: datetime64[ns](1), float64(2)\n",
      "memory usage: 9.4 MB\n"
     ]
    }
   ],
   "source": [
    "weather_stations['taio'].info()"
   ]
  },
  {
   "cell_type": "code",
   "execution_count": null,
   "metadata": {},
   "outputs": [
    {
     "data": {
      "text/html": [
       "<div>\n",
       "<style scoped>\n",
       "    .dataframe tbody tr th:only-of-type {\n",
       "        vertical-align: middle;\n",
       "    }\n",
       "\n",
       "    .dataframe tbody tr th {\n",
       "        vertical-align: top;\n",
       "    }\n",
       "\n",
       "    .dataframe thead th {\n",
       "        text-align: right;\n",
       "    }\n",
       "</style>\n",
       "<table border=\"1\" class=\"dataframe\">\n",
       "  <thead>\n",
       "    <tr style=\"text-align: right;\">\n",
       "      <th></th>\n",
       "      <th>data_hora</th>\n",
       "      <th>nivel</th>\n",
       "      <th>chuva</th>\n",
       "    </tr>\n",
       "  </thead>\n",
       "  <tbody>\n",
       "    <tr>\n",
       "      <th>4141</th>\n",
       "      <td>2009-02-10 17:15:00</td>\n",
       "      <td>-2.500</td>\n",
       "      <td>0.0</td>\n",
       "    </tr>\n",
       "    <tr>\n",
       "      <th>4142</th>\n",
       "      <td>2009-02-10 17:30:00</td>\n",
       "      <td>-2.500</td>\n",
       "      <td>0.0</td>\n",
       "    </tr>\n",
       "    <tr>\n",
       "      <th>4143</th>\n",
       "      <td>2009-02-10 17:45:00</td>\n",
       "      <td>-2.500</td>\n",
       "      <td>0.0</td>\n",
       "    </tr>\n",
       "    <tr>\n",
       "      <th>4144</th>\n",
       "      <td>2009-02-10 18:00:00</td>\n",
       "      <td>-2.500</td>\n",
       "      <td>0.0</td>\n",
       "    </tr>\n",
       "    <tr>\n",
       "      <th>24208</th>\n",
       "      <td>2009-09-08 01:00:00</td>\n",
       "      <td>1.722</td>\n",
       "      <td>0.0</td>\n",
       "    </tr>\n",
       "    <tr>\n",
       "      <th>...</th>\n",
       "      <td>...</td>\n",
       "      <td>...</td>\n",
       "      <td>...</td>\n",
       "    </tr>\n",
       "    <tr>\n",
       "      <th>406977</th>\n",
       "      <td>2020-07-11 06:45:00</td>\n",
       "      <td>-35.000</td>\n",
       "      <td>0.0</td>\n",
       "    </tr>\n",
       "    <tr>\n",
       "      <th>406978</th>\n",
       "      <td>2020-07-11 07:00:00</td>\n",
       "      <td>-35.000</td>\n",
       "      <td>0.0</td>\n",
       "    </tr>\n",
       "    <tr>\n",
       "      <th>406979</th>\n",
       "      <td>2020-07-11 07:15:00</td>\n",
       "      <td>-35.000</td>\n",
       "      <td>0.0</td>\n",
       "    </tr>\n",
       "    <tr>\n",
       "      <th>406980</th>\n",
       "      <td>2020-07-11 07:30:00</td>\n",
       "      <td>-35.000</td>\n",
       "      <td>0.0</td>\n",
       "    </tr>\n",
       "    <tr>\n",
       "      <th>406981</th>\n",
       "      <td>2020-07-11 07:45:00</td>\n",
       "      <td>-35.000</td>\n",
       "      <td>0.0</td>\n",
       "    </tr>\n",
       "  </tbody>\n",
       "</table>\n",
       "<p>17792 rows × 3 columns</p>\n",
       "</div>"
      ],
      "text/plain": [
       "                 data_hora   nivel  chuva\n",
       "4141   2009-02-10 17:15:00  -2.500    0.0\n",
       "4142   2009-02-10 17:30:00  -2.500    0.0\n",
       "4143   2009-02-10 17:45:00  -2.500    0.0\n",
       "4144   2009-02-10 18:00:00  -2.500    0.0\n",
       "24208  2009-09-08 01:00:00   1.722    0.0\n",
       "...                    ...     ...    ...\n",
       "406977 2020-07-11 06:45:00 -35.000    0.0\n",
       "406978 2020-07-11 07:00:00 -35.000    0.0\n",
       "406979 2020-07-11 07:15:00 -35.000    0.0\n",
       "406980 2020-07-11 07:30:00 -35.000    0.0\n",
       "406981 2020-07-11 07:45:00 -35.000    0.0\n",
       "\n",
       "[17792 rows x 3 columns]"
      ]
     },
     "execution_count": 242,
     "metadata": {},
     "output_type": "execute_result"
    }
   ],
   "source": [
    "weather_stations['taio'][weather_stations['taio'].duplicated()]"
   ]
  },
  {
   "cell_type": "code",
   "execution_count": 25,
   "metadata": {},
   "outputs": [
    {
     "name": "stdout",
     "output_type": "stream",
     "text": [
      "Empty DataFrame\n",
      "Columns: [data_hora, nivel, chuva]\n",
      "Index: []\n",
      "Empty DataFrame\n",
      "Columns: [data_hora, nivel, chuva]\n",
      "Index: []\n",
      "Empty DataFrame\n",
      "Columns: [data_hora, nivel, chuva]\n",
      "Index: []\n"
     ]
    }
   ],
   "source": [
    "print(weather_stations['taio'][weather_stations['taio'].data_hora.isna()])\n",
    "print(weather_stations['taio'][weather_stations['taio'].nivel.isna()])\n",
    "print(weather_stations['taio'][weather_stations['taio'].chuva.isna()])"
   ]
  },
  {
   "cell_type": "code",
   "execution_count": 244,
   "metadata": {},
   "outputs": [
    {
     "name": "stdout",
     "output_type": "stream",
     "text": [
      "                 data_hora  nivel  chuva\n",
      "0      2008-12-29 15:00:00   -2.5    0.0\n",
      "1      2008-12-29 15:15:00   -2.5    0.0\n",
      "2      2008-12-29 15:30:00   -2.5    0.0\n",
      "3      2008-12-29 15:45:00   -2.5    0.0\n",
      "4      2008-12-29 16:00:00   -2.5    0.0\n",
      "...                    ...    ...    ...\n",
      "412542 2020-09-07 06:00:00  -35.0    0.0\n",
      "412543 2020-09-07 06:15:00  -35.0    0.0\n",
      "412544 2020-09-07 06:30:00  -35.0    0.0\n",
      "412545 2020-09-07 06:45:00  -35.0    0.0\n",
      "412546 2020-09-07 07:00:00  -35.0    0.0\n",
      "\n",
      "[44813 rows x 3 columns]\n",
      "                 data_hora  nivel   chuva\n",
      "298492 2017-06-10 20:15:00 -12.05 -7475.0\n"
     ]
    }
   ],
   "source": [
    "print(weather_stations['taio'][weather_stations['taio'].nivel < 0])\n",
    "print(weather_stations['taio'][weather_stations['taio'].chuva < 0])"
   ]
  },
  {
   "cell_type": "markdown",
   "metadata": {},
   "source": [
    "### Analyzing Timbo"
   ]
  },
  {
   "cell_type": "code",
   "execution_count": 263,
   "metadata": {},
   "outputs": [
    {
     "data": {
      "text/html": [
       "<div>\n",
       "<style scoped>\n",
       "    .dataframe tbody tr th:only-of-type {\n",
       "        vertical-align: middle;\n",
       "    }\n",
       "\n",
       "    .dataframe tbody tr th {\n",
       "        vertical-align: top;\n",
       "    }\n",
       "\n",
       "    .dataframe thead th {\n",
       "        text-align: right;\n",
       "    }\n",
       "</style>\n",
       "<table border=\"1\" class=\"dataframe\">\n",
       "  <thead>\n",
       "    <tr style=\"text-align: right;\">\n",
       "      <th></th>\n",
       "      <th>data_hora</th>\n",
       "      <th>nivel</th>\n",
       "      <th>chuva</th>\n",
       "    </tr>\n",
       "  </thead>\n",
       "  <tbody>\n",
       "    <tr>\n",
       "      <th>0</th>\n",
       "      <td>2009-04-12 18:00:00</td>\n",
       "      <td>0.675</td>\n",
       "      <td>0.0</td>\n",
       "    </tr>\n",
       "    <tr>\n",
       "      <th>1</th>\n",
       "      <td>2009-04-12 18:15:00</td>\n",
       "      <td>0.674</td>\n",
       "      <td>0.0</td>\n",
       "    </tr>\n",
       "    <tr>\n",
       "      <th>2</th>\n",
       "      <td>2009-04-12 18:30:00</td>\n",
       "      <td>0.674</td>\n",
       "      <td>0.0</td>\n",
       "    </tr>\n",
       "    <tr>\n",
       "      <th>3</th>\n",
       "      <td>2009-04-12 18:45:00</td>\n",
       "      <td>0.674</td>\n",
       "      <td>0.0</td>\n",
       "    </tr>\n",
       "    <tr>\n",
       "      <th>4</th>\n",
       "      <td>2009-04-12 19:00:00</td>\n",
       "      <td>0.674</td>\n",
       "      <td>0.0</td>\n",
       "    </tr>\n",
       "  </tbody>\n",
       "</table>\n",
       "</div>"
      ],
      "text/plain": [
       "            data_hora  nivel  chuva\n",
       "0 2009-04-12 18:00:00  0.675    0.0\n",
       "1 2009-04-12 18:15:00  0.674    0.0\n",
       "2 2009-04-12 18:30:00  0.674    0.0\n",
       "3 2009-04-12 18:45:00  0.674    0.0\n",
       "4 2009-04-12 19:00:00  0.674    0.0"
      ]
     },
     "execution_count": 263,
     "metadata": {},
     "output_type": "execute_result"
    }
   ],
   "source": [
    "weather_stations['timbo'].head()"
   ]
  },
  {
   "cell_type": "code",
   "execution_count": 264,
   "metadata": {},
   "outputs": [
    {
     "name": "stdout",
     "output_type": "stream",
     "text": [
      "<class 'pandas.core.frame.DataFrame'>\n",
      "RangeIndex: 385145 entries, 0 to 385144\n",
      "Data columns (total 3 columns):\n",
      " #   Column     Non-Null Count   Dtype         \n",
      "---  ------     --------------   -----         \n",
      " 0   data_hora  385145 non-null  datetime64[ns]\n",
      " 1   nivel      385145 non-null  float64       \n",
      " 2   chuva      385145 non-null  float64       \n",
      "dtypes: datetime64[ns](1), float64(2)\n",
      "memory usage: 8.8 MB\n"
     ]
    }
   ],
   "source": [
    "weather_stations['timbo'].info()"
   ]
  },
  {
   "cell_type": "code",
   "execution_count": 265,
   "metadata": {},
   "outputs": [
    {
     "data": {
      "text/html": [
       "<div>\n",
       "<style scoped>\n",
       "    .dataframe tbody tr th:only-of-type {\n",
       "        vertical-align: middle;\n",
       "    }\n",
       "\n",
       "    .dataframe tbody tr th {\n",
       "        vertical-align: top;\n",
       "    }\n",
       "\n",
       "    .dataframe thead th {\n",
       "        text-align: right;\n",
       "    }\n",
       "</style>\n",
       "<table border=\"1\" class=\"dataframe\">\n",
       "  <thead>\n",
       "    <tr style=\"text-align: right;\">\n",
       "      <th></th>\n",
       "      <th>data_hora</th>\n",
       "      <th>nivel</th>\n",
       "      <th>chuva</th>\n",
       "    </tr>\n",
       "  </thead>\n",
       "  <tbody>\n",
       "    <tr>\n",
       "      <th>14227</th>\n",
       "      <td>2009-09-08 01:00:00</td>\n",
       "      <td>0.812</td>\n",
       "      <td>0.0</td>\n",
       "    </tr>\n",
       "    <tr>\n",
       "      <th>14228</th>\n",
       "      <td>2009-09-08 01:15:00</td>\n",
       "      <td>0.810</td>\n",
       "      <td>0.0</td>\n",
       "    </tr>\n",
       "    <tr>\n",
       "      <th>14229</th>\n",
       "      <td>2009-09-08 01:30:00</td>\n",
       "      <td>0.808</td>\n",
       "      <td>0.0</td>\n",
       "    </tr>\n",
       "    <tr>\n",
       "      <th>14230</th>\n",
       "      <td>2009-09-08 01:45:00</td>\n",
       "      <td>0.805</td>\n",
       "      <td>0.0</td>\n",
       "    </tr>\n",
       "    <tr>\n",
       "      <th>59743</th>\n",
       "      <td>2011-02-22 11:00:00</td>\n",
       "      <td>-2.021</td>\n",
       "      <td>0.0</td>\n",
       "    </tr>\n",
       "    <tr>\n",
       "      <th>...</th>\n",
       "      <td>...</td>\n",
       "      <td>...</td>\n",
       "      <td>...</td>\n",
       "    </tr>\n",
       "    <tr>\n",
       "      <th>312016</th>\n",
       "      <td>2018-05-18 16:00:00</td>\n",
       "      <td>0.441</td>\n",
       "      <td>0.0</td>\n",
       "    </tr>\n",
       "    <tr>\n",
       "      <th>337918</th>\n",
       "      <td>2019-03-06 15:15:00</td>\n",
       "      <td>1.308</td>\n",
       "      <td>0.0</td>\n",
       "    </tr>\n",
       "    <tr>\n",
       "      <th>337919</th>\n",
       "      <td>2019-03-06 15:30:00</td>\n",
       "      <td>1.308</td>\n",
       "      <td>0.0</td>\n",
       "    </tr>\n",
       "    <tr>\n",
       "      <th>337920</th>\n",
       "      <td>2019-03-06 15:45:00</td>\n",
       "      <td>1.277</td>\n",
       "      <td>0.0</td>\n",
       "    </tr>\n",
       "    <tr>\n",
       "      <th>337921</th>\n",
       "      <td>2019-03-06 16:00:00</td>\n",
       "      <td>1.260</td>\n",
       "      <td>0.0</td>\n",
       "    </tr>\n",
       "  </tbody>\n",
       "</table>\n",
       "<p>28571 rows × 3 columns</p>\n",
       "</div>"
      ],
      "text/plain": [
       "                 data_hora  nivel  chuva\n",
       "14227  2009-09-08 01:00:00  0.812    0.0\n",
       "14228  2009-09-08 01:15:00  0.810    0.0\n",
       "14229  2009-09-08 01:30:00  0.808    0.0\n",
       "14230  2009-09-08 01:45:00  0.805    0.0\n",
       "59743  2011-02-22 11:00:00 -2.021    0.0\n",
       "...                    ...    ...    ...\n",
       "312016 2018-05-18 16:00:00  0.441    0.0\n",
       "337918 2019-03-06 15:15:00  1.308    0.0\n",
       "337919 2019-03-06 15:30:00  1.308    0.0\n",
       "337920 2019-03-06 15:45:00  1.277    0.0\n",
       "337921 2019-03-06 16:00:00  1.260    0.0\n",
       "\n",
       "[28571 rows x 3 columns]"
      ]
     },
     "execution_count": 265,
     "metadata": {},
     "output_type": "execute_result"
    }
   ],
   "source": [
    "weather_stations['timbo'][weather_stations['timbo'].duplicated()]"
   ]
  },
  {
   "cell_type": "code",
   "execution_count": 266,
   "metadata": {},
   "outputs": [
    {
     "name": "stdout",
     "output_type": "stream",
     "text": [
      "Empty DataFrame\n",
      "Columns: [data_hora, nivel, chuva]\n",
      "Index: []\n",
      "Empty DataFrame\n",
      "Columns: [data_hora, nivel, chuva]\n",
      "Index: []\n",
      "Empty DataFrame\n",
      "Columns: [data_hora, nivel, chuva]\n",
      "Index: []\n"
     ]
    }
   ],
   "source": [
    "print(weather_stations['timbo'][weather_stations['timbo'].data_hora.isna()])\n",
    "print(weather_stations['timbo'][weather_stations['timbo'].nivel.isna()])\n",
    "print(weather_stations['timbo'][weather_stations['timbo'].chuva.isna()])"
   ]
  },
  {
   "cell_type": "code",
   "execution_count": 267,
   "metadata": {},
   "outputs": [
    {
     "name": "stdout",
     "output_type": "stream",
     "text": [
      "                 data_hora  nivel  chuva\n",
      "46712  2010-08-12 14:45:00 -2.120    0.0\n",
      "46713  2010-08-12 15:00:00 -2.120    0.0\n",
      "46714  2010-08-12 15:15:00 -2.120    0.0\n",
      "46715  2010-08-12 15:30:00 -2.120    0.0\n",
      "46716  2010-08-12 15:45:00 -2.120    0.0\n",
      "...                    ...    ...    ...\n",
      "297425 2017-12-17 15:15:00 -0.036    0.0\n",
      "297426 2017-12-17 15:30:00 -0.021    0.0\n",
      "297427 2017-12-17 15:45:00 -0.036    0.0\n",
      "297428 2017-12-17 16:00:00 -0.021    0.0\n",
      "297429 2017-12-17 16:15:00 -0.002    0.0\n",
      "\n",
      "[26349 rows x 3 columns]\n",
      "Empty DataFrame\n",
      "Columns: [data_hora, nivel, chuva]\n",
      "Index: []\n"
     ]
    }
   ],
   "source": [
    "print(weather_stations['timbo'][weather_stations['timbo'].nivel < 0])\n",
    "print(weather_stations['timbo'][weather_stations['timbo'].chuva < 0])"
   ]
  },
  {
   "cell_type": "markdown",
   "metadata": {},
   "source": [
    "Linhas com valores de nível do rio negativo indicam problemas no momento da coleta e consequênte inexistência do dado naquela momento;\n",
    "Os dados de cada estação possuem valores duplicados que devem ser posteriormente removidos para evitar redundância de dados;"
   ]
  },
  {
   "cell_type": "markdown",
   "metadata": {},
   "source": [
    "### Analyzing min/max dates from all stations"
   ]
  },
  {
   "cell_type": "code",
   "execution_count": 158,
   "metadata": {},
   "outputs": [
    {
     "data": {
      "text/plain": [
       "14"
      ]
     },
     "execution_count": 158,
     "metadata": {},
     "output_type": "execute_result"
    }
   ],
   "source": [
    "len(weather_stations)"
   ]
  },
  {
   "cell_type": "code",
   "execution_count": 159,
   "metadata": {},
   "outputs": [
    {
     "name": "stdout",
     "output_type": "stream",
     "text": [
      "Estação alfredo_wagner: \n",
      "Inicio: 2009-07-24 08:00:00\n",
      "Fim: 2016-10-29 08:00:00\n",
      "\n",
      "Estação apiuna: \n",
      "Inicio: 2008-12-28 10:15:00\n",
      "Fim: 2020-09-07 07:00:00\n",
      "\n",
      "Estação benedito_novo: \n",
      "Inicio: 2012-11-05 09:30:00\n",
      "Fim: 2020-09-07 07:00:00\n",
      "\n",
      "Estação blumenau: \n",
      "Inicio: 2009-01-16 17:30:00\n",
      "Fim: 2020-09-07 07:00:00\n",
      "\n",
      "Estação gaspar: \n",
      "Inicio: 2012-03-12 11:15:00\n",
      "Fim: 2018-08-10 10:00:00\n",
      "\n",
      "Estação ibirama: \n",
      "Inicio: 2008-12-28 15:00:00\n",
      "Fim: 2020-09-07 07:00:00\n",
      "\n",
      "Estação indaial: \n",
      "Inicio: 2009-01-08 16:45:00\n",
      "Fim: 2018-11-10 05:00:00\n",
      "\n"
     ]
    }
   ],
   "source": [
    "for weather_station_name in list(weather_stations.keys())[0:-7]:\n",
    "    min_date_time = weather_stations[weather_station_name].data_hora.min()\n",
    "    max_date_time = weather_stations[weather_station_name].data_hora.max()\n",
    "    print(f\"Estação {weather_station_name}: \\nInicio: {min_date_time}\\nFim: {max_date_time}\\n\")"
   ]
  },
  {
   "cell_type": "code",
   "execution_count": 160,
   "metadata": {},
   "outputs": [
    {
     "name": "stdout",
     "output_type": "stream",
     "text": [
      "Estação ituporanga: \n",
      "Inicio: 2008-12-30 14:30:00\n",
      "Fim: 2020-09-01 01:00:00\n",
      "\n",
      "Estação pouso_redondo: \n",
      "Inicio: 2009-01-08 11:00:00\n",
      "Fim: 2016-07-08 13:00:00\n",
      "\n",
      "Estação rio_do_oeste: \n",
      "Inicio: 2009-01-07 18:00:00\n",
      "Fim: 2020-03-17 01:00:00\n",
      "\n",
      "Estação rio_dos_cedros: \n",
      "Inicio: 2012-11-05 10:00:00\n",
      "Fim: 2019-05-08 10:00:00\n",
      "\n",
      "Estação rio_do_sul: \n",
      "Inicio: 2009-04-09 18:45:00\n",
      "Fim: 2017-06-04 10:00:00\n",
      "\n",
      "Estação taio: \n",
      "Inicio: 2008-12-29 15:00:00\n",
      "Fim: 2020-09-07 07:00:00\n",
      "\n",
      "Estação timbo: \n",
      "Inicio: 2009-04-12 18:00:00\n",
      "Fim: 2020-07-10 16:00:00\n",
      "\n"
     ]
    }
   ],
   "source": [
    "for weather_station_name in list(weather_stations.keys())[-7:]:\n",
    "    min_date_time = weather_stations[weather_station_name].data_hora.min()\n",
    "    max_date_time = weather_stations[weather_station_name].data_hora.max()\n",
    "    print(f\"Estação {weather_station_name}: \\nInicio: {min_date_time}\\nFim: {max_date_time}\\n\")"
   ]
  },
  {
   "cell_type": "code",
   "execution_count": 161,
   "metadata": {},
   "outputs": [],
   "source": [
    "# Com base no registro do ultimo caso de enchente acima de 8 metros em Blumenau em junho de 2017 e como algumas estações não possuem dados apos esse periodo, os dados serão trucando ate a data de 11/06/2017\n",
    "for weather_station in weather_stations:\n",
    "    weather_stations[weather_station] = weather_stations[weather_station][weather_stations[weather_station].data_hora < datetime(2017, 6, 12)]"
   ]
  },
  {
   "cell_type": "markdown",
   "metadata": {},
   "source": [
    "## Transform datasets"
   ]
  },
  {
   "cell_type": "markdown",
   "metadata": {},
   "source": [
    "### Removing duplicated rows"
   ]
  },
  {
   "cell_type": "code",
   "execution_count": 162,
   "metadata": {},
   "outputs": [],
   "source": [
    "for weather_station in weather_stations:\n",
    "    weather_stations[weather_station] = weather_stations[weather_station].drop_duplicates()"
   ]
  },
  {
   "cell_type": "code",
   "execution_count": 163,
   "metadata": {},
   "outputs": [
    {
     "name": "stdout",
     "output_type": "stream",
     "text": [
      "alfredo_wagner\n",
      "                 data_hora  nivel  chuva\n",
      "167324 2014-03-09 13:30:00  0.440    0.0\n",
      "167325 2014-03-09 13:45:00  0.437    0.0\n",
      "167326 2014-03-09 14:00:00  0.431    0.0\n",
      "167327 2014-03-09 14:15:00  0.429    0.0\n",
      "apiuna\n",
      "                 data_hora  nivel  chuva\n",
      "69693  2011-02-22 13:30:00  3.426    0.0\n",
      "69694  2011-02-22 13:45:00  3.425    0.0\n",
      "69695  2011-02-22 14:00:00  3.425    0.0\n",
      "69696  2011-02-22 14:15:00  3.423    0.0\n",
      "105591 2012-03-02 14:45:00  1.656    0.0\n",
      "105592 2012-03-02 15:00:00  1.656    0.0\n",
      "105593 2012-03-02 15:15:00  1.656    0.0\n",
      "162433 2014-02-19 14:45:00  0.965    0.0\n",
      "162434 2014-02-19 15:00:00  0.963    0.0\n",
      "162435 2014-02-19 15:15:00  0.963    0.0\n",
      "162436 2014-02-19 15:30:00  0.963    0.0\n",
      "benedito_novo\n",
      "                data_hora  nivel  chuva\n",
      "44268 2014-02-19 14:45:00  0.328    0.0\n",
      "44269 2014-02-19 15:00:00  0.328    0.0\n",
      "44270 2014-02-19 15:15:00  0.336    0.0\n",
      "44271 2014-02-19 15:30:00  0.333    0.0\n",
      "blumenau\n",
      "                 data_hora  nivel  chuva\n",
      "3166   2009-02-18 16:00:00  1.766   0.00\n",
      "60616  2010-08-14 09:15:00 -5.195   3.81\n",
      "79034  2011-02-22 10:30:00  3.316   0.00\n",
      "79035  2011-02-22 10:45:00  3.299   0.00\n",
      "79036  2011-02-22 11:00:00  3.270   0.00\n",
      "79037  2011-02-22 11:15:00  3.262   0.00\n",
      "168276 2014-02-19 14:45:00  0.510   0.00\n",
      "168277 2014-02-19 15:00:00  0.524   0.00\n",
      "168278 2014-02-19 15:15:00  0.539   0.00\n",
      "168279 2014-02-19 15:30:00  0.554   0.00\n",
      "gaspar\n",
      "Empty DataFrame\n",
      "Columns: [data_hora, nivel]\n",
      "Index: []\n",
      "ibirama\n",
      "                 data_hora  nivel  chuva\n",
      "5001   2009-02-18 16:15:00  1.625    0.0\n",
      "5002   2009-02-18 16:30:00  1.617    0.0\n",
      "5003   2009-02-18 16:45:00  1.651    0.0\n",
      "5004   2009-02-18 17:00:00  1.638    0.0\n",
      "105420 2011-06-28 09:00:00  1.439    0.0\n",
      "105421 2011-06-28 09:15:00  1.441    0.0\n",
      "105422 2011-06-28 09:30:00  1.439    0.0\n",
      "105423 2011-06-28 09:45:00  1.434    0.0\n",
      "167336 2012-03-02 15:30:00  1.318    0.0\n",
      "167337 2012-03-02 15:45:00  1.320    0.0\n",
      "167338 2012-03-02 16:00:00  1.323    0.0\n",
      "167339 2012-03-02 16:15:00  1.320    0.0\n",
      "235768 2014-02-19 15:00:00  0.969    0.0\n",
      "235769 2014-02-19 15:15:00  0.970    0.0\n",
      "235770 2014-02-19 15:30:00  0.978    0.0\n",
      "indaial\n",
      "                 data_hora  nivel  chuva\n",
      "122139 2012-03-02 15:00:00  1.792    0.0\n",
      "122140 2012-03-02 15:15:00  1.792    0.0\n",
      "122141 2012-03-02 15:30:00  1.792    0.0\n",
      "143591 2012-11-04 14:30:00  1.487    0.0\n",
      "143592 2012-11-04 14:00:00  1.487    0.0\n",
      "...                    ...    ...    ...\n",
      "143660 2012-11-05 06:45:00  1.667    0.0\n",
      "143661 2012-11-05 07:00:00  1.658    0.0\n",
      "143662 2012-11-05 07:15:00  1.658    0.0\n",
      "143663 2012-11-05 07:30:00  1.650    0.0\n",
      "189554 2014-12-03 09:30:00 -5.029    0.0\n",
      "\n",
      "[75 rows x 3 columns]\n",
      "ituporanga\n",
      "                 data_hora  nivel  chuva\n",
      "155833 2014-02-19 14:45:00  0.409    0.0\n",
      "155834 2014-02-19 15:00:00  0.396    0.0\n",
      "155835 2014-02-19 15:15:00  0.392    0.0\n",
      "155836 2014-02-19 15:30:00  0.392    0.0\n",
      "175824 2014-10-07 11:30:00 -5.228    0.0\n",
      "pouso_redondo\n",
      "                 data_hora  nivel  chuva\n",
      "74160  2011-02-22 13:30:00 -2.299    0.0\n",
      "74161  2011-02-22 13:45:00 -2.309    0.0\n",
      "74162  2011-02-22 14:00:00 -2.309    0.0\n",
      "74163  2011-02-22 14:15:00 -2.309    0.0\n",
      "182836 2014-02-19 14:45:00 -2.554    0.0\n",
      "182837 2014-02-19 15:00:00 -2.558    0.0\n",
      "182838 2014-02-19 15:15:00 -2.555    0.0\n",
      "182839 2014-02-19 15:30:00 -2.553    0.0\n",
      "rio_do_oeste\n",
      "                 data_hora  nivel  chuva\n",
      "8897   2009-04-10 10:00:00  0.402  0.508\n",
      "126780 2014-02-19 14:45:00  0.610  0.000\n",
      "126781 2014-02-19 15:00:00  0.617  0.000\n",
      "126782 2014-02-19 15:15:00  0.608  0.000\n",
      "126783 2014-02-19 15:30:00  0.614  0.000\n",
      "rio_dos_cedros\n",
      "                 data_hora  nivel  chuva\n",
      "32266  2014-02-19 15:00:00  1.009    0.0\n",
      "32268  2014-02-19 15:30:00  1.007    0.0\n",
      "56853  2014-11-10 15:15:00  0.960    0.0\n",
      "56854  2014-11-10 15:30:00  0.965    0.0\n",
      "110907 2016-05-26 14:30:00  1.151    0.0\n",
      "rio_do_sul\n",
      "                 data_hora  nivel  chuva\n",
      "60064  2011-02-22 10:30:00  4.070  0.000\n",
      "60065  2011-02-22 10:45:00  4.066  0.000\n",
      "60066  2011-02-22 11:00:00  4.072  0.000\n",
      "60067  2011-02-22 11:15:00  4.078  0.000\n",
      "95995  2012-03-02 15:00:00  1.949  0.000\n",
      "95996  2012-03-02 15:15:00  1.940  0.000\n",
      "95998  2012-03-02 15:45:00  1.940  0.000\n",
      "165080 2014-02-20 09:45:00  1.351  0.000\n",
      "165081 2014-02-20 10:00:00  1.349  0.000\n",
      "165082 2014-02-20 10:15:00  1.349  0.000\n",
      "165083 2014-02-20 10:30:00  1.342  0.000\n",
      "187046 2014-10-07 10:30:00  4.883  0.254\n",
      "taio\n",
      "                 data_hora  nivel  chuva\n",
      "58457  2010-10-24 13:15:00  1.738  0.000\n",
      "184274 2014-02-19 15:00:00  0.177  0.000\n",
      "184275 2014-02-19 15:15:00  0.153  0.000\n",
      "184276 2014-02-19 15:30:00  0.164  0.000\n",
      "184277 2014-02-19 15:45:00  0.170  0.000\n",
      "191420 2014-05-22 13:30:00  1.852  0.762\n",
      "timbo\n",
      "                data_hora  nivel  chuva\n",
      "59741 2011-02-22 10:30:00 -2.019    0.0\n",
      "59742 2011-02-22 10:45:00 -2.019    0.0\n",
      "59744 2011-02-22 11:15:00 -2.019    0.0\n"
     ]
    }
   ],
   "source": [
    "for weather_station in weather_stations:\n",
    "    print(weather_station)\n",
    "    print(weather_stations[weather_station][weather_stations[weather_station].data_hora.duplicated()])"
   ]
  },
  {
   "cell_type": "code",
   "execution_count": 164,
   "metadata": {},
   "outputs": [],
   "source": [
    "for weather_station in weather_stations:\n",
    "    weather_stations[weather_station] = weather_stations[weather_station].drop_duplicates(subset='data_hora')"
   ]
  },
  {
   "cell_type": "code",
   "execution_count": 165,
   "metadata": {},
   "outputs": [
    {
     "name": "stdout",
     "output_type": "stream",
     "text": [
      "alfredo_wagner\n",
      "Empty DataFrame\n",
      "Columns: [data_hora, nivel, chuva]\n",
      "Index: []\n",
      "apiuna\n",
      "Empty DataFrame\n",
      "Columns: [data_hora, nivel, chuva]\n",
      "Index: []\n",
      "benedito_novo\n",
      "Empty DataFrame\n",
      "Columns: [data_hora, nivel, chuva]\n",
      "Index: []\n",
      "blumenau\n",
      "Empty DataFrame\n",
      "Columns: [data_hora, nivel, chuva]\n",
      "Index: []\n",
      "gaspar\n",
      "Empty DataFrame\n",
      "Columns: [data_hora, nivel]\n",
      "Index: []\n",
      "ibirama\n",
      "Empty DataFrame\n",
      "Columns: [data_hora, nivel, chuva]\n",
      "Index: []\n",
      "indaial\n",
      "Empty DataFrame\n",
      "Columns: [data_hora, nivel, chuva]\n",
      "Index: []\n",
      "ituporanga\n",
      "Empty DataFrame\n",
      "Columns: [data_hora, nivel, chuva]\n",
      "Index: []\n",
      "pouso_redondo\n",
      "Empty DataFrame\n",
      "Columns: [data_hora, nivel, chuva]\n",
      "Index: []\n",
      "rio_do_oeste\n",
      "Empty DataFrame\n",
      "Columns: [data_hora, nivel, chuva]\n",
      "Index: []\n",
      "rio_dos_cedros\n",
      "Empty DataFrame\n",
      "Columns: [data_hora, nivel, chuva]\n",
      "Index: []\n",
      "rio_do_sul\n",
      "Empty DataFrame\n",
      "Columns: [data_hora, nivel, chuva]\n",
      "Index: []\n",
      "taio\n",
      "Empty DataFrame\n",
      "Columns: [data_hora, nivel, chuva]\n",
      "Index: []\n",
      "timbo\n",
      "Empty DataFrame\n",
      "Columns: [data_hora, nivel, chuva]\n",
      "Index: []\n"
     ]
    }
   ],
   "source": [
    "for weather_station in weather_stations:\n",
    "    print(weather_station)\n",
    "    print(weather_stations[weather_station][weather_stations[weather_station].data_hora.duplicated()])"
   ]
  },
  {
   "cell_type": "markdown",
   "metadata": {},
   "source": [
    "### Fill negative river level by linear interpolation"
   ]
  },
  {
   "cell_type": "code",
   "execution_count": 166,
   "metadata": {},
   "outputs": [],
   "source": [
    "# Change negative river level by NaN to interpolation\n",
    "for weather_station in weather_stations:\n",
    "    weather_stations[weather_station].nivel = weather_stations[weather_station].nivel.mask(weather_stations[weather_station].nivel < 0)"
   ]
  },
  {
   "cell_type": "code",
   "execution_count": 167,
   "metadata": {},
   "outputs": [],
   "source": [
    "missing_blumenau_registers = []\n",
    "blumenau_date_time = weather_stations['blumenau'].data_hora.iloc[0]\n",
    "interval_between_consecutive_registers = timedelta(minutes=15)\n",
    "default_river_niver = None\n",
    "default_precipitation = 0\n",
    "\n",
    "def save_missing_registers(new_date_time):\n",
    "    global blumenau_date_time\n",
    "    register_interval = new_date_time - blumenau_date_time\n",
    "    interval_ratio = int(register_interval / interval_between_consecutive_registers)\n",
    "\n",
    "    for i in range(1, interval_ratio):\n",
    "        missing_date_time = blumenau_date_time + interval_between_consecutive_registers * i\n",
    "        missing_blumenau_registers.append([missing_date_time, default_river_niver, default_precipitation])\n",
    "\n",
    "    blumenau_date_time = new_date_time\n"
   ]
  },
  {
   "cell_type": "code",
   "execution_count": 168,
   "metadata": {},
   "outputs": [
    {
     "name": "stdout",
     "output_type": "stream",
     "text": [
      "Quantidade de registros faltantes gerados: 19177\n"
     ]
    }
   ],
   "source": [
    "_ = [save_missing_registers(date_time) for date_time in weather_stations['blumenau'].data_hora.iloc[1:]]\n",
    "print(f\"Quantidade de registros faltantes gerados: {len(missing_blumenau_registers)}\")"
   ]
  },
  {
   "cell_type": "code",
   "execution_count": 169,
   "metadata": {},
   "outputs": [],
   "source": [
    "df_blumenau_missing = pd.DataFrame(missing_blumenau_registers, columns=list(weather_stations['blumenau'].columns))"
   ]
  },
  {
   "cell_type": "code",
   "execution_count": 170,
   "metadata": {},
   "outputs": [
    {
     "data": {
      "text/html": [
       "<div>\n",
       "<style scoped>\n",
       "    .dataframe tbody tr th:only-of-type {\n",
       "        vertical-align: middle;\n",
       "    }\n",
       "\n",
       "    .dataframe tbody tr th {\n",
       "        vertical-align: top;\n",
       "    }\n",
       "\n",
       "    .dataframe thead th {\n",
       "        text-align: right;\n",
       "    }\n",
       "</style>\n",
       "<table border=\"1\" class=\"dataframe\">\n",
       "  <thead>\n",
       "    <tr style=\"text-align: right;\">\n",
       "      <th></th>\n",
       "      <th>data_hora</th>\n",
       "      <th>nivel</th>\n",
       "      <th>chuva</th>\n",
       "    </tr>\n",
       "  </thead>\n",
       "  <tbody>\n",
       "    <tr>\n",
       "      <th>0</th>\n",
       "      <td>2009-04-02 07:15:00</td>\n",
       "      <td>None</td>\n",
       "      <td>0</td>\n",
       "    </tr>\n",
       "    <tr>\n",
       "      <th>1</th>\n",
       "      <td>2009-04-02 07:30:00</td>\n",
       "      <td>None</td>\n",
       "      <td>0</td>\n",
       "    </tr>\n",
       "    <tr>\n",
       "      <th>2</th>\n",
       "      <td>2009-04-02 07:45:00</td>\n",
       "      <td>None</td>\n",
       "      <td>0</td>\n",
       "    </tr>\n",
       "    <tr>\n",
       "      <th>3</th>\n",
       "      <td>2009-04-02 08:00:00</td>\n",
       "      <td>None</td>\n",
       "      <td>0</td>\n",
       "    </tr>\n",
       "    <tr>\n",
       "      <th>4</th>\n",
       "      <td>2009-04-02 08:15:00</td>\n",
       "      <td>None</td>\n",
       "      <td>0</td>\n",
       "    </tr>\n",
       "  </tbody>\n",
       "</table>\n",
       "</div>"
      ],
      "text/plain": [
       "            data_hora nivel  chuva\n",
       "0 2009-04-02 07:15:00  None      0\n",
       "1 2009-04-02 07:30:00  None      0\n",
       "2 2009-04-02 07:45:00  None      0\n",
       "3 2009-04-02 08:00:00  None      0\n",
       "4 2009-04-02 08:15:00  None      0"
      ]
     },
     "execution_count": 170,
     "metadata": {},
     "output_type": "execute_result"
    }
   ],
   "source": [
    "df_blumenau_missing.head()"
   ]
  },
  {
   "cell_type": "code",
   "execution_count": 171,
   "metadata": {},
   "outputs": [],
   "source": [
    "weather_stations['blumenau'] = weather_stations['blumenau'].append(df_blumenau_missing, ignore_index=True).sort_values('data_hora')"
   ]
  },
  {
   "cell_type": "code",
   "execution_count": 172,
   "metadata": {},
   "outputs": [],
   "source": [
    "# Sort datasets by datetime to interpolation\n",
    "for weather_station in weather_stations:\n",
    "    weather_stations[weather_station] = weather_stations[weather_station].sort_values('data_hora')"
   ]
  },
  {
   "cell_type": "code",
   "execution_count": 173,
   "metadata": {},
   "outputs": [],
   "source": [
    "# Interpolação linear para valores faltantes por periodos de ate 5 horas\n",
    "for weather_station in weather_stations:\n",
    "    weather_stations[weather_station].nivel = weather_stations[weather_station].nivel.interpolate(limit=5*4)"
   ]
  },
  {
   "cell_type": "code",
   "execution_count": 174,
   "metadata": {},
   "outputs": [
    {
     "data": {
      "text/html": [
       "<div>\n",
       "<style scoped>\n",
       "    .dataframe tbody tr th:only-of-type {\n",
       "        vertical-align: middle;\n",
       "    }\n",
       "\n",
       "    .dataframe tbody tr th {\n",
       "        vertical-align: top;\n",
       "    }\n",
       "\n",
       "    .dataframe thead th {\n",
       "        text-align: right;\n",
       "    }\n",
       "</style>\n",
       "<table border=\"1\" class=\"dataframe\">\n",
       "  <thead>\n",
       "    <tr style=\"text-align: right;\">\n",
       "      <th></th>\n",
       "      <th>data_hora</th>\n",
       "      <th>nivel</th>\n",
       "      <th>chuva</th>\n",
       "    </tr>\n",
       "  </thead>\n",
       "  <tbody>\n",
       "    <tr>\n",
       "      <th>0</th>\n",
       "      <td>2009-01-16 17:30:00</td>\n",
       "      <td>NaN</td>\n",
       "      <td>0.0</td>\n",
       "    </tr>\n",
       "    <tr>\n",
       "      <th>275397</th>\n",
       "      <td>2009-04-02 12:15:00</td>\n",
       "      <td>NaN</td>\n",
       "      <td>0.0</td>\n",
       "    </tr>\n",
       "    <tr>\n",
       "      <th>275398</th>\n",
       "      <td>2009-04-02 12:30:00</td>\n",
       "      <td>NaN</td>\n",
       "      <td>0.0</td>\n",
       "    </tr>\n",
       "    <tr>\n",
       "      <th>275399</th>\n",
       "      <td>2009-04-02 12:45:00</td>\n",
       "      <td>NaN</td>\n",
       "      <td>0.0</td>\n",
       "    </tr>\n",
       "    <tr>\n",
       "      <th>275400</th>\n",
       "      <td>2009-04-02 13:00:00</td>\n",
       "      <td>NaN</td>\n",
       "      <td>0.0</td>\n",
       "    </tr>\n",
       "    <tr>\n",
       "      <th>...</th>\n",
       "      <td>...</td>\n",
       "      <td>...</td>\n",
       "      <td>...</td>\n",
       "    </tr>\n",
       "    <tr>\n",
       "      <th>294544</th>\n",
       "      <td>2016-07-15 16:00:00</td>\n",
       "      <td>NaN</td>\n",
       "      <td>0.0</td>\n",
       "    </tr>\n",
       "    <tr>\n",
       "      <th>294545</th>\n",
       "      <td>2016-07-15 16:15:00</td>\n",
       "      <td>NaN</td>\n",
       "      <td>0.0</td>\n",
       "    </tr>\n",
       "    <tr>\n",
       "      <th>294546</th>\n",
       "      <td>2016-07-15 16:30:00</td>\n",
       "      <td>NaN</td>\n",
       "      <td>0.0</td>\n",
       "    </tr>\n",
       "    <tr>\n",
       "      <th>294547</th>\n",
       "      <td>2016-07-15 16:45:00</td>\n",
       "      <td>NaN</td>\n",
       "      <td>0.0</td>\n",
       "    </tr>\n",
       "    <tr>\n",
       "      <th>294548</th>\n",
       "      <td>2016-07-15 17:00:00</td>\n",
       "      <td>NaN</td>\n",
       "      <td>0.0</td>\n",
       "    </tr>\n",
       "  </tbody>\n",
       "</table>\n",
       "<p>81193 rows × 3 columns</p>\n",
       "</div>"
      ],
      "text/plain": [
       "                 data_hora  nivel  chuva\n",
       "0      2009-01-16 17:30:00    NaN    0.0\n",
       "275397 2009-04-02 12:15:00    NaN    0.0\n",
       "275398 2009-04-02 12:30:00    NaN    0.0\n",
       "275399 2009-04-02 12:45:00    NaN    0.0\n",
       "275400 2009-04-02 13:00:00    NaN    0.0\n",
       "...                    ...    ...    ...\n",
       "294544 2016-07-15 16:00:00    NaN    0.0\n",
       "294545 2016-07-15 16:15:00    NaN    0.0\n",
       "294546 2016-07-15 16:30:00    NaN    0.0\n",
       "294547 2016-07-15 16:45:00    NaN    0.0\n",
       "294548 2016-07-15 17:00:00    NaN    0.0\n",
       "\n",
       "[81193 rows x 3 columns]"
      ]
     },
     "execution_count": 174,
     "metadata": {},
     "output_type": "execute_result"
    }
   ],
   "source": [
    "weather_stations['blumenau'][weather_stations['blumenau'].nivel.isna()]"
   ]
  },
  {
   "cell_type": "code",
   "execution_count": 175,
   "metadata": {},
   "outputs": [],
   "source": [
    "# Interpolar todos os intervalos de nivel do rio de Blumenau para não ter eventos selecionados com lapsos de medições\n",
    "#weather_stations['blumenau'].nivel = weather_stations['blumenau'].nivel.interpolate()"
   ]
  },
  {
   "cell_type": "code",
   "execution_count": 176,
   "metadata": {},
   "outputs": [],
   "source": [
    "for weather_station in weather_stations:\n",
    "    weather_stations[weather_station] = weather_stations[weather_station].rename(columns = {'nivel':f\"n_{weather_station}\",'chuva':f\"c_{weather_station}\"})"
   ]
  },
  {
   "cell_type": "code",
   "execution_count": 177,
   "metadata": {},
   "outputs": [],
   "source": [
    "#weather_stations['blumenau'] = weather_stations['blumenau'].dropna()"
   ]
  },
  {
   "cell_type": "code",
   "execution_count": 178,
   "metadata": {},
   "outputs": [],
   "source": [
    "df_weather_stations = weather_stations['blumenau']\n",
    "for weather_station in weather_stations:\n",
    "    if weather_station == 'blumenau':\n",
    "        continue\n",
    "    df_weather_stations = pd.merge(df_weather_stations, weather_stations[weather_station], on='data_hora', how='left')"
   ]
  },
  {
   "cell_type": "code",
   "execution_count": 179,
   "metadata": {},
   "outputs": [
    {
     "data": {
      "text/html": [
       "<div>\n",
       "<style scoped>\n",
       "    .dataframe tbody tr th:only-of-type {\n",
       "        vertical-align: middle;\n",
       "    }\n",
       "\n",
       "    .dataframe tbody tr th {\n",
       "        vertical-align: top;\n",
       "    }\n",
       "\n",
       "    .dataframe thead th {\n",
       "        text-align: right;\n",
       "    }\n",
       "</style>\n",
       "<table border=\"1\" class=\"dataframe\">\n",
       "  <thead>\n",
       "    <tr style=\"text-align: right;\">\n",
       "      <th></th>\n",
       "      <th>data_hora</th>\n",
       "      <th>n_blumenau</th>\n",
       "      <th>c_blumenau</th>\n",
       "      <th>n_alfredo_wagner</th>\n",
       "      <th>c_alfredo_wagner</th>\n",
       "      <th>n_apiuna</th>\n",
       "      <th>c_apiuna</th>\n",
       "      <th>n_benedito_novo</th>\n",
       "      <th>c_benedito_novo</th>\n",
       "      <th>n_gaspar</th>\n",
       "      <th>...</th>\n",
       "      <th>n_rio_do_oeste</th>\n",
       "      <th>c_rio_do_oeste</th>\n",
       "      <th>n_rio_dos_cedros</th>\n",
       "      <th>c_rio_dos_cedros</th>\n",
       "      <th>n_rio_do_sul</th>\n",
       "      <th>c_rio_do_sul</th>\n",
       "      <th>n_taio</th>\n",
       "      <th>c_taio</th>\n",
       "      <th>n_timbo</th>\n",
       "      <th>c_timbo</th>\n",
       "    </tr>\n",
       "  </thead>\n",
       "  <tbody>\n",
       "    <tr>\n",
       "      <th>0</th>\n",
       "      <td>2009-01-16 17:30:00</td>\n",
       "      <td>NaN</td>\n",
       "      <td>0.000</td>\n",
       "      <td>NaN</td>\n",
       "      <td>NaN</td>\n",
       "      <td>0.817</td>\n",
       "      <td>0.0</td>\n",
       "      <td>NaN</td>\n",
       "      <td>NaN</td>\n",
       "      <td>NaN</td>\n",
       "      <td>...</td>\n",
       "      <td>1.209</td>\n",
       "      <td>0.0</td>\n",
       "      <td>NaN</td>\n",
       "      <td>NaN</td>\n",
       "      <td>NaN</td>\n",
       "      <td>NaN</td>\n",
       "      <td>NaN</td>\n",
       "      <td>0.0</td>\n",
       "      <td>NaN</td>\n",
       "      <td>NaN</td>\n",
       "    </tr>\n",
       "    <tr>\n",
       "      <th>1</th>\n",
       "      <td>2009-01-16 17:45:00</td>\n",
       "      <td>1.156</td>\n",
       "      <td>0.254</td>\n",
       "      <td>NaN</td>\n",
       "      <td>NaN</td>\n",
       "      <td>0.819</td>\n",
       "      <td>0.0</td>\n",
       "      <td>NaN</td>\n",
       "      <td>NaN</td>\n",
       "      <td>NaN</td>\n",
       "      <td>...</td>\n",
       "      <td>1.202</td>\n",
       "      <td>0.0</td>\n",
       "      <td>NaN</td>\n",
       "      <td>NaN</td>\n",
       "      <td>NaN</td>\n",
       "      <td>NaN</td>\n",
       "      <td>NaN</td>\n",
       "      <td>0.0</td>\n",
       "      <td>NaN</td>\n",
       "      <td>NaN</td>\n",
       "    </tr>\n",
       "    <tr>\n",
       "      <th>2</th>\n",
       "      <td>2009-01-16 18:00:00</td>\n",
       "      <td>1.160</td>\n",
       "      <td>0.000</td>\n",
       "      <td>NaN</td>\n",
       "      <td>NaN</td>\n",
       "      <td>0.821</td>\n",
       "      <td>0.0</td>\n",
       "      <td>NaN</td>\n",
       "      <td>NaN</td>\n",
       "      <td>NaN</td>\n",
       "      <td>...</td>\n",
       "      <td>1.205</td>\n",
       "      <td>0.1</td>\n",
       "      <td>NaN</td>\n",
       "      <td>NaN</td>\n",
       "      <td>NaN</td>\n",
       "      <td>NaN</td>\n",
       "      <td>NaN</td>\n",
       "      <td>0.0</td>\n",
       "      <td>NaN</td>\n",
       "      <td>NaN</td>\n",
       "    </tr>\n",
       "    <tr>\n",
       "      <th>3</th>\n",
       "      <td>2009-01-16 18:15:00</td>\n",
       "      <td>1.157</td>\n",
       "      <td>0.000</td>\n",
       "      <td>NaN</td>\n",
       "      <td>NaN</td>\n",
       "      <td>0.820</td>\n",
       "      <td>0.0</td>\n",
       "      <td>NaN</td>\n",
       "      <td>NaN</td>\n",
       "      <td>NaN</td>\n",
       "      <td>...</td>\n",
       "      <td>1.201</td>\n",
       "      <td>0.0</td>\n",
       "      <td>NaN</td>\n",
       "      <td>NaN</td>\n",
       "      <td>NaN</td>\n",
       "      <td>NaN</td>\n",
       "      <td>NaN</td>\n",
       "      <td>0.0</td>\n",
       "      <td>NaN</td>\n",
       "      <td>NaN</td>\n",
       "    </tr>\n",
       "    <tr>\n",
       "      <th>4</th>\n",
       "      <td>2009-01-16 18:30:00</td>\n",
       "      <td>1.154</td>\n",
       "      <td>0.000</td>\n",
       "      <td>NaN</td>\n",
       "      <td>NaN</td>\n",
       "      <td>0.781</td>\n",
       "      <td>0.0</td>\n",
       "      <td>NaN</td>\n",
       "      <td>NaN</td>\n",
       "      <td>NaN</td>\n",
       "      <td>...</td>\n",
       "      <td>1.201</td>\n",
       "      <td>0.0</td>\n",
       "      <td>NaN</td>\n",
       "      <td>NaN</td>\n",
       "      <td>NaN</td>\n",
       "      <td>NaN</td>\n",
       "      <td>NaN</td>\n",
       "      <td>0.0</td>\n",
       "      <td>NaN</td>\n",
       "      <td>NaN</td>\n",
       "    </tr>\n",
       "  </tbody>\n",
       "</table>\n",
       "<p>5 rows × 28 columns</p>\n",
       "</div>"
      ],
      "text/plain": [
       "            data_hora  n_blumenau  c_blumenau  n_alfredo_wagner  \\\n",
       "0 2009-01-16 17:30:00         NaN       0.000               NaN   \n",
       "1 2009-01-16 17:45:00       1.156       0.254               NaN   \n",
       "2 2009-01-16 18:00:00       1.160       0.000               NaN   \n",
       "3 2009-01-16 18:15:00       1.157       0.000               NaN   \n",
       "4 2009-01-16 18:30:00       1.154       0.000               NaN   \n",
       "\n",
       "   c_alfredo_wagner  n_apiuna  c_apiuna  n_benedito_novo  c_benedito_novo  \\\n",
       "0               NaN     0.817       0.0              NaN              NaN   \n",
       "1               NaN     0.819       0.0              NaN              NaN   \n",
       "2               NaN     0.821       0.0              NaN              NaN   \n",
       "3               NaN     0.820       0.0              NaN              NaN   \n",
       "4               NaN     0.781       0.0              NaN              NaN   \n",
       "\n",
       "   n_gaspar  ...  n_rio_do_oeste  c_rio_do_oeste  n_rio_dos_cedros  \\\n",
       "0       NaN  ...           1.209             0.0               NaN   \n",
       "1       NaN  ...           1.202             0.0               NaN   \n",
       "2       NaN  ...           1.205             0.1               NaN   \n",
       "3       NaN  ...           1.201             0.0               NaN   \n",
       "4       NaN  ...           1.201             0.0               NaN   \n",
       "\n",
       "   c_rio_dos_cedros  n_rio_do_sul  c_rio_do_sul  n_taio  c_taio  n_timbo  \\\n",
       "0               NaN           NaN           NaN     NaN     0.0      NaN   \n",
       "1               NaN           NaN           NaN     NaN     0.0      NaN   \n",
       "2               NaN           NaN           NaN     NaN     0.0      NaN   \n",
       "3               NaN           NaN           NaN     NaN     0.0      NaN   \n",
       "4               NaN           NaN           NaN     NaN     0.0      NaN   \n",
       "\n",
       "   c_timbo  \n",
       "0      NaN  \n",
       "1      NaN  \n",
       "2      NaN  \n",
       "3      NaN  \n",
       "4      NaN  \n",
       "\n",
       "[5 rows x 28 columns]"
      ]
     },
     "execution_count": 179,
     "metadata": {},
     "output_type": "execute_result"
    }
   ],
   "source": [
    "df_weather_stations.head()"
   ]
  },
  {
   "cell_type": "code",
   "execution_count": 180,
   "metadata": {},
   "outputs": [
    {
     "data": {
      "text/plain": [
       "294554"
      ]
     },
     "execution_count": 180,
     "metadata": {},
     "output_type": "execute_result"
    }
   ],
   "source": [
    "len(df_weather_stations)"
   ]
  },
  {
   "cell_type": "markdown",
   "metadata": {},
   "source": [
    "### Create labels to predictions"
   ]
  },
  {
   "cell_type": "code",
   "execution_count": 181,
   "metadata": {},
   "outputs": [],
   "source": [
    "# Atualmente são utilizados medições a cada 15 minutos, sendo 4 medições por hora, \n",
    "# por isso a multiplicação por 4 para ter a quantidade correta de intervalos para a quantidade de horas requerida\n",
    "three_hours_interval = 3 * 4 \n",
    "df_weather_stations['n_blumenau_3'] = df_weather_stations.n_blumenau.shift(-three_hours_interval)\n",
    "\n",
    "six_hours_interval = 6 * 4 \n",
    "df_weather_stations['n_blumenau_6'] = df_weather_stations.n_blumenau.shift(-six_hours_interval)\n",
    "\n",
    "nine_hours_interval = 9 * 4 \n",
    "df_weather_stations['n_blumenau_9'] = df_weather_stations.n_blumenau.shift(-nine_hours_interval)"
   ]
  },
  {
   "cell_type": "code",
   "execution_count": 182,
   "metadata": {},
   "outputs": [
    {
     "data": {
      "text/html": [
       "<div>\n",
       "<style scoped>\n",
       "    .dataframe tbody tr th:only-of-type {\n",
       "        vertical-align: middle;\n",
       "    }\n",
       "\n",
       "    .dataframe tbody tr th {\n",
       "        vertical-align: top;\n",
       "    }\n",
       "\n",
       "    .dataframe thead th {\n",
       "        text-align: right;\n",
       "    }\n",
       "</style>\n",
       "<table border=\"1\" class=\"dataframe\">\n",
       "  <thead>\n",
       "    <tr style=\"text-align: right;\">\n",
       "      <th></th>\n",
       "      <th>data_hora</th>\n",
       "      <th>n_blumenau</th>\n",
       "      <th>c_blumenau</th>\n",
       "      <th>n_alfredo_wagner</th>\n",
       "      <th>c_alfredo_wagner</th>\n",
       "      <th>n_apiuna</th>\n",
       "      <th>c_apiuna</th>\n",
       "      <th>n_benedito_novo</th>\n",
       "      <th>c_benedito_novo</th>\n",
       "      <th>n_gaspar</th>\n",
       "      <th>...</th>\n",
       "      <th>c_rio_dos_cedros</th>\n",
       "      <th>n_rio_do_sul</th>\n",
       "      <th>c_rio_do_sul</th>\n",
       "      <th>n_taio</th>\n",
       "      <th>c_taio</th>\n",
       "      <th>n_timbo</th>\n",
       "      <th>c_timbo</th>\n",
       "      <th>n_blumenau_3</th>\n",
       "      <th>n_blumenau_6</th>\n",
       "      <th>n_blumenau_9</th>\n",
       "    </tr>\n",
       "  </thead>\n",
       "  <tbody>\n",
       "    <tr>\n",
       "      <th>294549</th>\n",
       "      <td>2017-06-11 22:45:00</td>\n",
       "      <td>3.579</td>\n",
       "      <td>0.0</td>\n",
       "      <td>NaN</td>\n",
       "      <td>NaN</td>\n",
       "      <td>3.499</td>\n",
       "      <td>0.0</td>\n",
       "      <td>0.994</td>\n",
       "      <td>0.0</td>\n",
       "      <td>2.602</td>\n",
       "      <td>...</td>\n",
       "      <td>0.0</td>\n",
       "      <td>NaN</td>\n",
       "      <td>NaN</td>\n",
       "      <td>6.530</td>\n",
       "      <td>0.0</td>\n",
       "      <td>1.343</td>\n",
       "      <td>0.0</td>\n",
       "      <td>NaN</td>\n",
       "      <td>NaN</td>\n",
       "      <td>NaN</td>\n",
       "    </tr>\n",
       "    <tr>\n",
       "      <th>294550</th>\n",
       "      <td>2017-06-11 23:00:00</td>\n",
       "      <td>3.568</td>\n",
       "      <td>0.0</td>\n",
       "      <td>NaN</td>\n",
       "      <td>NaN</td>\n",
       "      <td>3.490</td>\n",
       "      <td>0.0</td>\n",
       "      <td>0.996</td>\n",
       "      <td>0.0</td>\n",
       "      <td>2.595</td>\n",
       "      <td>...</td>\n",
       "      <td>0.0</td>\n",
       "      <td>NaN</td>\n",
       "      <td>NaN</td>\n",
       "      <td>6.534</td>\n",
       "      <td>0.0</td>\n",
       "      <td>1.341</td>\n",
       "      <td>0.0</td>\n",
       "      <td>NaN</td>\n",
       "      <td>NaN</td>\n",
       "      <td>NaN</td>\n",
       "    </tr>\n",
       "    <tr>\n",
       "      <th>294551</th>\n",
       "      <td>2017-06-11 23:15:00</td>\n",
       "      <td>3.568</td>\n",
       "      <td>0.0</td>\n",
       "      <td>NaN</td>\n",
       "      <td>NaN</td>\n",
       "      <td>3.497</td>\n",
       "      <td>0.0</td>\n",
       "      <td>0.994</td>\n",
       "      <td>0.0</td>\n",
       "      <td>2.585</td>\n",
       "      <td>...</td>\n",
       "      <td>0.0</td>\n",
       "      <td>NaN</td>\n",
       "      <td>NaN</td>\n",
       "      <td>6.521</td>\n",
       "      <td>0.0</td>\n",
       "      <td>1.341</td>\n",
       "      <td>0.0</td>\n",
       "      <td>NaN</td>\n",
       "      <td>NaN</td>\n",
       "      <td>NaN</td>\n",
       "    </tr>\n",
       "    <tr>\n",
       "      <th>294552</th>\n",
       "      <td>2017-06-11 23:30:00</td>\n",
       "      <td>3.561</td>\n",
       "      <td>0.0</td>\n",
       "      <td>NaN</td>\n",
       "      <td>NaN</td>\n",
       "      <td>3.484</td>\n",
       "      <td>0.2</td>\n",
       "      <td>0.996</td>\n",
       "      <td>0.0</td>\n",
       "      <td>2.583</td>\n",
       "      <td>...</td>\n",
       "      <td>0.0</td>\n",
       "      <td>NaN</td>\n",
       "      <td>NaN</td>\n",
       "      <td>6.499</td>\n",
       "      <td>0.0</td>\n",
       "      <td>1.337</td>\n",
       "      <td>0.0</td>\n",
       "      <td>NaN</td>\n",
       "      <td>NaN</td>\n",
       "      <td>NaN</td>\n",
       "    </tr>\n",
       "    <tr>\n",
       "      <th>294553</th>\n",
       "      <td>2017-06-11 23:45:00</td>\n",
       "      <td>3.548</td>\n",
       "      <td>0.0</td>\n",
       "      <td>NaN</td>\n",
       "      <td>NaN</td>\n",
       "      <td>3.484</td>\n",
       "      <td>0.0</td>\n",
       "      <td>0.996</td>\n",
       "      <td>0.0</td>\n",
       "      <td>2.583</td>\n",
       "      <td>...</td>\n",
       "      <td>0.0</td>\n",
       "      <td>NaN</td>\n",
       "      <td>NaN</td>\n",
       "      <td>6.490</td>\n",
       "      <td>0.0</td>\n",
       "      <td>1.337</td>\n",
       "      <td>0.0</td>\n",
       "      <td>NaN</td>\n",
       "      <td>NaN</td>\n",
       "      <td>NaN</td>\n",
       "    </tr>\n",
       "  </tbody>\n",
       "</table>\n",
       "<p>5 rows × 31 columns</p>\n",
       "</div>"
      ],
      "text/plain": [
       "                 data_hora  n_blumenau  c_blumenau  n_alfredo_wagner  \\\n",
       "294549 2017-06-11 22:45:00       3.579         0.0               NaN   \n",
       "294550 2017-06-11 23:00:00       3.568         0.0               NaN   \n",
       "294551 2017-06-11 23:15:00       3.568         0.0               NaN   \n",
       "294552 2017-06-11 23:30:00       3.561         0.0               NaN   \n",
       "294553 2017-06-11 23:45:00       3.548         0.0               NaN   \n",
       "\n",
       "        c_alfredo_wagner  n_apiuna  c_apiuna  n_benedito_novo  \\\n",
       "294549               NaN     3.499       0.0            0.994   \n",
       "294550               NaN     3.490       0.0            0.996   \n",
       "294551               NaN     3.497       0.0            0.994   \n",
       "294552               NaN     3.484       0.2            0.996   \n",
       "294553               NaN     3.484       0.0            0.996   \n",
       "\n",
       "        c_benedito_novo  n_gaspar  ...  c_rio_dos_cedros  n_rio_do_sul  \\\n",
       "294549              0.0     2.602  ...               0.0           NaN   \n",
       "294550              0.0     2.595  ...               0.0           NaN   \n",
       "294551              0.0     2.585  ...               0.0           NaN   \n",
       "294552              0.0     2.583  ...               0.0           NaN   \n",
       "294553              0.0     2.583  ...               0.0           NaN   \n",
       "\n",
       "        c_rio_do_sul  n_taio  c_taio  n_timbo  c_timbo  n_blumenau_3  \\\n",
       "294549           NaN   6.530     0.0    1.343      0.0           NaN   \n",
       "294550           NaN   6.534     0.0    1.341      0.0           NaN   \n",
       "294551           NaN   6.521     0.0    1.341      0.0           NaN   \n",
       "294552           NaN   6.499     0.0    1.337      0.0           NaN   \n",
       "294553           NaN   6.490     0.0    1.337      0.0           NaN   \n",
       "\n",
       "        n_blumenau_6  n_blumenau_9  \n",
       "294549           NaN           NaN  \n",
       "294550           NaN           NaN  \n",
       "294551           NaN           NaN  \n",
       "294552           NaN           NaN  \n",
       "294553           NaN           NaN  \n",
       "\n",
       "[5 rows x 31 columns]"
      ]
     },
     "execution_count": 182,
     "metadata": {},
     "output_type": "execute_result"
    }
   ],
   "source": [
    "df_weather_stations.tail()"
   ]
  },
  {
   "cell_type": "code",
   "execution_count": 183,
   "metadata": {},
   "outputs": [],
   "source": [
    "# Drop Nan rows to prediction labels\n",
    "df_weather_stations = df_weather_stations.dropna(subset=['n_blumenau', 'n_blumenau_3', 'n_blumenau_6', 'n_blumenau_9'])"
   ]
  },
  {
   "cell_type": "code",
   "execution_count": 184,
   "metadata": {},
   "outputs": [],
   "source": [
    "# Drop last rows to prediction labels\n",
    "#df_weather_stations = df_weather_stations.iloc[:-nine_hours_interval]"
   ]
  },
  {
   "cell_type": "code",
   "execution_count": 185,
   "metadata": {},
   "outputs": [
    {
     "data": {
      "text/html": [
       "<div>\n",
       "<style scoped>\n",
       "    .dataframe tbody tr th:only-of-type {\n",
       "        vertical-align: middle;\n",
       "    }\n",
       "\n",
       "    .dataframe tbody tr th {\n",
       "        vertical-align: top;\n",
       "    }\n",
       "\n",
       "    .dataframe thead th {\n",
       "        text-align: right;\n",
       "    }\n",
       "</style>\n",
       "<table border=\"1\" class=\"dataframe\">\n",
       "  <thead>\n",
       "    <tr style=\"text-align: right;\">\n",
       "      <th></th>\n",
       "      <th>data_hora</th>\n",
       "      <th>n_blumenau</th>\n",
       "      <th>c_blumenau</th>\n",
       "      <th>n_alfredo_wagner</th>\n",
       "      <th>c_alfredo_wagner</th>\n",
       "      <th>n_apiuna</th>\n",
       "      <th>c_apiuna</th>\n",
       "      <th>n_benedito_novo</th>\n",
       "      <th>c_benedito_novo</th>\n",
       "      <th>n_gaspar</th>\n",
       "      <th>...</th>\n",
       "      <th>c_rio_dos_cedros</th>\n",
       "      <th>n_rio_do_sul</th>\n",
       "      <th>c_rio_do_sul</th>\n",
       "      <th>n_taio</th>\n",
       "      <th>c_taio</th>\n",
       "      <th>n_timbo</th>\n",
       "      <th>c_timbo</th>\n",
       "      <th>n_blumenau_3</th>\n",
       "      <th>n_blumenau_6</th>\n",
       "      <th>n_blumenau_9</th>\n",
       "    </tr>\n",
       "  </thead>\n",
       "  <tbody>\n",
       "    <tr>\n",
       "      <th>294513</th>\n",
       "      <td>2017-06-11 13:45:00</td>\n",
       "      <td>3.651</td>\n",
       "      <td>0.0</td>\n",
       "      <td>NaN</td>\n",
       "      <td>NaN</td>\n",
       "      <td>3.619</td>\n",
       "      <td>0.0</td>\n",
       "      <td>1.039</td>\n",
       "      <td>0.0</td>\n",
       "      <td>2.551</td>\n",
       "      <td>...</td>\n",
       "      <td>0.0</td>\n",
       "      <td>NaN</td>\n",
       "      <td>NaN</td>\n",
       "      <td>6.813</td>\n",
       "      <td>0.0</td>\n",
       "      <td>1.385</td>\n",
       "      <td>0.0</td>\n",
       "      <td>3.691</td>\n",
       "      <td>3.697</td>\n",
       "      <td>3.579</td>\n",
       "    </tr>\n",
       "    <tr>\n",
       "      <th>294514</th>\n",
       "      <td>2017-06-11 14:00:00</td>\n",
       "      <td>3.646</td>\n",
       "      <td>0.0</td>\n",
       "      <td>NaN</td>\n",
       "      <td>NaN</td>\n",
       "      <td>3.610</td>\n",
       "      <td>0.0</td>\n",
       "      <td>1.039</td>\n",
       "      <td>0.0</td>\n",
       "      <td>2.558</td>\n",
       "      <td>...</td>\n",
       "      <td>0.0</td>\n",
       "      <td>NaN</td>\n",
       "      <td>NaN</td>\n",
       "      <td>6.804</td>\n",
       "      <td>0.0</td>\n",
       "      <td>1.383</td>\n",
       "      <td>0.0</td>\n",
       "      <td>3.701</td>\n",
       "      <td>3.681</td>\n",
       "      <td>3.568</td>\n",
       "    </tr>\n",
       "    <tr>\n",
       "      <th>294515</th>\n",
       "      <td>2017-06-11 14:15:00</td>\n",
       "      <td>3.642</td>\n",
       "      <td>0.0</td>\n",
       "      <td>NaN</td>\n",
       "      <td>NaN</td>\n",
       "      <td>3.625</td>\n",
       "      <td>0.0</td>\n",
       "      <td>1.029</td>\n",
       "      <td>0.0</td>\n",
       "      <td>2.564</td>\n",
       "      <td>...</td>\n",
       "      <td>0.0</td>\n",
       "      <td>NaN</td>\n",
       "      <td>NaN</td>\n",
       "      <td>6.795</td>\n",
       "      <td>0.0</td>\n",
       "      <td>1.391</td>\n",
       "      <td>0.0</td>\n",
       "      <td>3.702</td>\n",
       "      <td>3.689</td>\n",
       "      <td>3.568</td>\n",
       "    </tr>\n",
       "    <tr>\n",
       "      <th>294516</th>\n",
       "      <td>2017-06-11 14:30:00</td>\n",
       "      <td>3.663</td>\n",
       "      <td>0.0</td>\n",
       "      <td>NaN</td>\n",
       "      <td>NaN</td>\n",
       "      <td>3.615</td>\n",
       "      <td>0.0</td>\n",
       "      <td>1.025</td>\n",
       "      <td>0.0</td>\n",
       "      <td>2.581</td>\n",
       "      <td>...</td>\n",
       "      <td>0.0</td>\n",
       "      <td>NaN</td>\n",
       "      <td>NaN</td>\n",
       "      <td>6.789</td>\n",
       "      <td>0.0</td>\n",
       "      <td>1.380</td>\n",
       "      <td>0.0</td>\n",
       "      <td>3.715</td>\n",
       "      <td>3.670</td>\n",
       "      <td>3.561</td>\n",
       "    </tr>\n",
       "    <tr>\n",
       "      <th>294517</th>\n",
       "      <td>2017-06-11 14:45:00</td>\n",
       "      <td>3.659</td>\n",
       "      <td>0.0</td>\n",
       "      <td>NaN</td>\n",
       "      <td>NaN</td>\n",
       "      <td>3.615</td>\n",
       "      <td>0.0</td>\n",
       "      <td>1.023</td>\n",
       "      <td>0.0</td>\n",
       "      <td>2.602</td>\n",
       "      <td>...</td>\n",
       "      <td>0.0</td>\n",
       "      <td>NaN</td>\n",
       "      <td>NaN</td>\n",
       "      <td>6.787</td>\n",
       "      <td>0.0</td>\n",
       "      <td>1.384</td>\n",
       "      <td>0.0</td>\n",
       "      <td>3.719</td>\n",
       "      <td>3.668</td>\n",
       "      <td>3.548</td>\n",
       "    </tr>\n",
       "  </tbody>\n",
       "</table>\n",
       "<p>5 rows × 31 columns</p>\n",
       "</div>"
      ],
      "text/plain": [
       "                 data_hora  n_blumenau  c_blumenau  n_alfredo_wagner  \\\n",
       "294513 2017-06-11 13:45:00       3.651         0.0               NaN   \n",
       "294514 2017-06-11 14:00:00       3.646         0.0               NaN   \n",
       "294515 2017-06-11 14:15:00       3.642         0.0               NaN   \n",
       "294516 2017-06-11 14:30:00       3.663         0.0               NaN   \n",
       "294517 2017-06-11 14:45:00       3.659         0.0               NaN   \n",
       "\n",
       "        c_alfredo_wagner  n_apiuna  c_apiuna  n_benedito_novo  \\\n",
       "294513               NaN     3.619       0.0            1.039   \n",
       "294514               NaN     3.610       0.0            1.039   \n",
       "294515               NaN     3.625       0.0            1.029   \n",
       "294516               NaN     3.615       0.0            1.025   \n",
       "294517               NaN     3.615       0.0            1.023   \n",
       "\n",
       "        c_benedito_novo  n_gaspar  ...  c_rio_dos_cedros  n_rio_do_sul  \\\n",
       "294513              0.0     2.551  ...               0.0           NaN   \n",
       "294514              0.0     2.558  ...               0.0           NaN   \n",
       "294515              0.0     2.564  ...               0.0           NaN   \n",
       "294516              0.0     2.581  ...               0.0           NaN   \n",
       "294517              0.0     2.602  ...               0.0           NaN   \n",
       "\n",
       "        c_rio_do_sul  n_taio  c_taio  n_timbo  c_timbo  n_blumenau_3  \\\n",
       "294513           NaN   6.813     0.0    1.385      0.0         3.691   \n",
       "294514           NaN   6.804     0.0    1.383      0.0         3.701   \n",
       "294515           NaN   6.795     0.0    1.391      0.0         3.702   \n",
       "294516           NaN   6.789     0.0    1.380      0.0         3.715   \n",
       "294517           NaN   6.787     0.0    1.384      0.0         3.719   \n",
       "\n",
       "        n_blumenau_6  n_blumenau_9  \n",
       "294513         3.697         3.579  \n",
       "294514         3.681         3.568  \n",
       "294515         3.689         3.568  \n",
       "294516         3.670         3.561  \n",
       "294517         3.668         3.548  \n",
       "\n",
       "[5 rows x 31 columns]"
      ]
     },
     "execution_count": 185,
     "metadata": {},
     "output_type": "execute_result"
    }
   ],
   "source": [
    "df_weather_stations.tail()"
   ]
  },
  {
   "cell_type": "code",
   "execution_count": 186,
   "metadata": {},
   "outputs": [],
   "source": [
    "#Depois de remover as linhas com registros sem informações para blumenau, contabilizar os indices dessas posições para depois remover os periodos com registros faltantes\n",
    "still_missing_blumenau_river_level_indexes = []\n",
    "actual_index = df_weather_stations.index[0]\n",
    "\n",
    "def save_missing_registers(new_index):\n",
    "    global actual_index\n",
    "    index_diff = new_index - actual_index\n",
    "    if index_diff > 1:\n",
    "        still_missing_blumenau_river_level_indexes.append((actual_index, new_index))\n",
    "\n",
    "    actual_index = new_index"
   ]
  },
  {
   "cell_type": "code",
   "execution_count": 187,
   "metadata": {},
   "outputs": [
    {
     "name": "stdout",
     "output_type": "stream",
     "text": [
      "Quantidade de registros faltantes gerados: 245\n"
     ]
    }
   ],
   "source": [
    "_ = [save_missing_registers(index) for index in df_weather_stations.index[1:]]\n",
    "print(f\"Quantidade de registros faltantes gerados: {len(still_missing_blumenau_river_level_indexes)}\")"
   ]
  },
  {
   "cell_type": "code",
   "execution_count": 188,
   "metadata": {},
   "outputs": [
    {
     "data": {
      "text/plain": [
       "[(86184, 86267),\n",
       " (86320, 86327),\n",
       " (86332, 86339),\n",
       " (86344, 86351),\n",
       " (86356, 86363),\n",
       " (86701, 86712),\n",
       " (86713, 86724),\n",
       " (86725, 86736),\n",
       " (86737, 86748),\n",
       " (86800, 86807),\n",
       " (86812, 86819),\n",
       " (86824, 86831),\n",
       " (86836, 86843),\n",
       " (87269, 87324),\n",
       " (87842, 87902),\n",
       " (87920, 87993),\n",
       " (92620, 92698),\n",
       " (96430, 109410),\n",
       " (113395, 113397),\n",
       " (113407, 113409)]"
      ]
     },
     "execution_count": 188,
     "metadata": {},
     "output_type": "execute_result"
    }
   ],
   "source": [
    "still_missing_blumenau_river_level_indexes[140:160]"
   ]
  },
  {
   "cell_type": "code",
   "execution_count": 189,
   "metadata": {},
   "outputs": [
    {
     "data": {
      "text/plain": [
       "209327"
      ]
     },
     "execution_count": 189,
     "metadata": {},
     "output_type": "execute_result"
    }
   ],
   "source": [
    "len(df_weather_stations)"
   ]
  },
  {
   "cell_type": "code",
   "execution_count": 190,
   "metadata": {},
   "outputs": [],
   "source": [
    "df_weather_stations.to_csv('..\\data\\ceops_v1\\estacoes_consolidado.csv', float_format='%.3f', index=False)"
   ]
  },
  {
   "cell_type": "code",
   "execution_count": 191,
   "metadata": {},
   "outputs": [],
   "source": [
    "registers_interval_over_flood_events = 24 * 4"
   ]
  },
  {
   "cell_type": "code",
   "execution_count": 192,
   "metadata": {},
   "outputs": [],
   "source": [
    "river_level = 4\n",
    "flood_levels_index = list(df_weather_stations[df_weather_stations.n_blumenau >= river_level].index)"
   ]
  },
  {
   "cell_type": "code",
   "execution_count": 193,
   "metadata": {},
   "outputs": [
    {
     "data": {
      "text/html": [
       "<div>\n",
       "<style scoped>\n",
       "    .dataframe tbody tr th:only-of-type {\n",
       "        vertical-align: middle;\n",
       "    }\n",
       "\n",
       "    .dataframe tbody tr th {\n",
       "        vertical-align: top;\n",
       "    }\n",
       "\n",
       "    .dataframe thead th {\n",
       "        text-align: right;\n",
       "    }\n",
       "</style>\n",
       "<table border=\"1\" class=\"dataframe\">\n",
       "  <thead>\n",
       "    <tr style=\"text-align: right;\">\n",
       "      <th></th>\n",
       "      <th>data_hora</th>\n",
       "      <th>n_blumenau</th>\n",
       "      <th>c_blumenau</th>\n",
       "      <th>n_alfredo_wagner</th>\n",
       "      <th>c_alfredo_wagner</th>\n",
       "      <th>n_apiuna</th>\n",
       "      <th>c_apiuna</th>\n",
       "      <th>n_benedito_novo</th>\n",
       "      <th>c_benedito_novo</th>\n",
       "      <th>n_gaspar</th>\n",
       "      <th>...</th>\n",
       "      <th>c_rio_dos_cedros</th>\n",
       "      <th>n_rio_do_sul</th>\n",
       "      <th>c_rio_do_sul</th>\n",
       "      <th>n_taio</th>\n",
       "      <th>c_taio</th>\n",
       "      <th>n_timbo</th>\n",
       "      <th>c_timbo</th>\n",
       "      <th>n_blumenau_3</th>\n",
       "      <th>n_blumenau_6</th>\n",
       "      <th>n_blumenau_9</th>\n",
       "    </tr>\n",
       "  </thead>\n",
       "  <tbody>\n",
       "    <tr>\n",
       "      <th>92698</th>\n",
       "      <td>2011-09-09 08:00:00</td>\n",
       "      <td>12.6000</td>\n",
       "      <td>0.0</td>\n",
       "      <td>2.949</td>\n",
       "      <td>0.000</td>\n",
       "      <td>10.23</td>\n",
       "      <td>0.0</td>\n",
       "      <td>NaN</td>\n",
       "      <td>NaN</td>\n",
       "      <td>NaN</td>\n",
       "      <td>...</td>\n",
       "      <td>NaN</td>\n",
       "      <td>12.67</td>\n",
       "      <td>0.0</td>\n",
       "      <td>10.58</td>\n",
       "      <td>0.0</td>\n",
       "      <td>9.86</td>\n",
       "      <td>0.0</td>\n",
       "      <td>12.65</td>\n",
       "      <td>12.62</td>\n",
       "      <td>12.43</td>\n",
       "    </tr>\n",
       "    <tr>\n",
       "      <th>92699</th>\n",
       "      <td>2011-09-09 08:15:00</td>\n",
       "      <td>12.6300</td>\n",
       "      <td>0.0</td>\n",
       "      <td>2.886</td>\n",
       "      <td>0.254</td>\n",
       "      <td>10.16</td>\n",
       "      <td>0.0</td>\n",
       "      <td>NaN</td>\n",
       "      <td>NaN</td>\n",
       "      <td>NaN</td>\n",
       "      <td>...</td>\n",
       "      <td>NaN</td>\n",
       "      <td>12.68</td>\n",
       "      <td>0.0</td>\n",
       "      <td>10.60</td>\n",
       "      <td>0.0</td>\n",
       "      <td>9.83</td>\n",
       "      <td>0.0</td>\n",
       "      <td>12.66</td>\n",
       "      <td>12.65</td>\n",
       "      <td>12.38</td>\n",
       "    </tr>\n",
       "    <tr>\n",
       "      <th>92700</th>\n",
       "      <td>2011-09-09 08:30:00</td>\n",
       "      <td>12.6500</td>\n",
       "      <td>0.0</td>\n",
       "      <td>2.888</td>\n",
       "      <td>0.000</td>\n",
       "      <td>10.10</td>\n",
       "      <td>0.0</td>\n",
       "      <td>NaN</td>\n",
       "      <td>NaN</td>\n",
       "      <td>NaN</td>\n",
       "      <td>...</td>\n",
       "      <td>NaN</td>\n",
       "      <td>12.70</td>\n",
       "      <td>0.0</td>\n",
       "      <td>10.62</td>\n",
       "      <td>0.0</td>\n",
       "      <td>9.86</td>\n",
       "      <td>0.0</td>\n",
       "      <td>12.65</td>\n",
       "      <td>12.62</td>\n",
       "      <td>12.35</td>\n",
       "    </tr>\n",
       "    <tr>\n",
       "      <th>92701</th>\n",
       "      <td>2011-09-09 08:45:00</td>\n",
       "      <td>12.6800</td>\n",
       "      <td>0.0</td>\n",
       "      <td>2.849</td>\n",
       "      <td>0.000</td>\n",
       "      <td>10.15</td>\n",
       "      <td>0.0</td>\n",
       "      <td>NaN</td>\n",
       "      <td>NaN</td>\n",
       "      <td>NaN</td>\n",
       "      <td>...</td>\n",
       "      <td>NaN</td>\n",
       "      <td>12.74</td>\n",
       "      <td>0.0</td>\n",
       "      <td>10.65</td>\n",
       "      <td>0.0</td>\n",
       "      <td>9.86</td>\n",
       "      <td>0.0</td>\n",
       "      <td>12.68</td>\n",
       "      <td>12.62</td>\n",
       "      <td>12.33</td>\n",
       "    </tr>\n",
       "    <tr>\n",
       "      <th>92702</th>\n",
       "      <td>2011-09-09 09:00:00</td>\n",
       "      <td>12.6300</td>\n",
       "      <td>0.0</td>\n",
       "      <td>2.828</td>\n",
       "      <td>0.000</td>\n",
       "      <td>10.02</td>\n",
       "      <td>0.0</td>\n",
       "      <td>NaN</td>\n",
       "      <td>NaN</td>\n",
       "      <td>NaN</td>\n",
       "      <td>...</td>\n",
       "      <td>NaN</td>\n",
       "      <td>12.76</td>\n",
       "      <td>0.0</td>\n",
       "      <td>10.67</td>\n",
       "      <td>0.0</td>\n",
       "      <td>9.85</td>\n",
       "      <td>0.0</td>\n",
       "      <td>12.65</td>\n",
       "      <td>12.57</td>\n",
       "      <td>12.29</td>\n",
       "    </tr>\n",
       "    <tr>\n",
       "      <th>...</th>\n",
       "      <td>...</td>\n",
       "      <td>...</td>\n",
       "      <td>...</td>\n",
       "      <td>...</td>\n",
       "      <td>...</td>\n",
       "      <td>...</td>\n",
       "      <td>...</td>\n",
       "      <td>...</td>\n",
       "      <td>...</td>\n",
       "      <td>...</td>\n",
       "      <td>...</td>\n",
       "      <td>...</td>\n",
       "      <td>...</td>\n",
       "      <td>...</td>\n",
       "      <td>...</td>\n",
       "      <td>...</td>\n",
       "      <td>...</td>\n",
       "      <td>...</td>\n",
       "      <td>...</td>\n",
       "      <td>...</td>\n",
       "      <td>...</td>\n",
       "    </tr>\n",
       "    <tr>\n",
       "      <th>92780</th>\n",
       "      <td>2011-09-10 04:30:00</td>\n",
       "      <td>11.1150</td>\n",
       "      <td>0.0</td>\n",
       "      <td>1.703</td>\n",
       "      <td>0.000</td>\n",
       "      <td>NaN</td>\n",
       "      <td>NaN</td>\n",
       "      <td>NaN</td>\n",
       "      <td>NaN</td>\n",
       "      <td>NaN</td>\n",
       "      <td>...</td>\n",
       "      <td>NaN</td>\n",
       "      <td>12.92</td>\n",
       "      <td>0.0</td>\n",
       "      <td>11.32</td>\n",
       "      <td>0.0</td>\n",
       "      <td>NaN</td>\n",
       "      <td>NaN</td>\n",
       "      <td>10.81</td>\n",
       "      <td>10.51</td>\n",
       "      <td>10.14</td>\n",
       "    </tr>\n",
       "    <tr>\n",
       "      <th>92781</th>\n",
       "      <td>2011-09-10 04:45:00</td>\n",
       "      <td>11.0895</td>\n",
       "      <td>0.0</td>\n",
       "      <td>1.701</td>\n",
       "      <td>0.000</td>\n",
       "      <td>NaN</td>\n",
       "      <td>NaN</td>\n",
       "      <td>NaN</td>\n",
       "      <td>NaN</td>\n",
       "      <td>NaN</td>\n",
       "      <td>...</td>\n",
       "      <td>NaN</td>\n",
       "      <td>12.92</td>\n",
       "      <td>0.0</td>\n",
       "      <td>11.32</td>\n",
       "      <td>0.0</td>\n",
       "      <td>NaN</td>\n",
       "      <td>NaN</td>\n",
       "      <td>10.79</td>\n",
       "      <td>10.50</td>\n",
       "      <td>10.12</td>\n",
       "    </tr>\n",
       "    <tr>\n",
       "      <th>92782</th>\n",
       "      <td>2011-09-10 05:00:00</td>\n",
       "      <td>11.0640</td>\n",
       "      <td>0.0</td>\n",
       "      <td>1.699</td>\n",
       "      <td>0.000</td>\n",
       "      <td>NaN</td>\n",
       "      <td>NaN</td>\n",
       "      <td>NaN</td>\n",
       "      <td>NaN</td>\n",
       "      <td>NaN</td>\n",
       "      <td>...</td>\n",
       "      <td>NaN</td>\n",
       "      <td>12.89</td>\n",
       "      <td>0.0</td>\n",
       "      <td>11.31</td>\n",
       "      <td>0.0</td>\n",
       "      <td>NaN</td>\n",
       "      <td>NaN</td>\n",
       "      <td>10.78</td>\n",
       "      <td>10.46</td>\n",
       "      <td>10.13</td>\n",
       "    </tr>\n",
       "    <tr>\n",
       "      <th>92783</th>\n",
       "      <td>2011-09-10 05:15:00</td>\n",
       "      <td>11.0385</td>\n",
       "      <td>0.0</td>\n",
       "      <td>1.693</td>\n",
       "      <td>0.000</td>\n",
       "      <td>NaN</td>\n",
       "      <td>NaN</td>\n",
       "      <td>NaN</td>\n",
       "      <td>NaN</td>\n",
       "      <td>NaN</td>\n",
       "      <td>...</td>\n",
       "      <td>NaN</td>\n",
       "      <td>12.85</td>\n",
       "      <td>0.0</td>\n",
       "      <td>11.31</td>\n",
       "      <td>0.0</td>\n",
       "      <td>NaN</td>\n",
       "      <td>NaN</td>\n",
       "      <td>10.73</td>\n",
       "      <td>10.41</td>\n",
       "      <td>10.09</td>\n",
       "    </tr>\n",
       "    <tr>\n",
       "      <th>92784</th>\n",
       "      <td>2011-09-10 05:30:00</td>\n",
       "      <td>11.0130</td>\n",
       "      <td>0.0</td>\n",
       "      <td>1.692</td>\n",
       "      <td>0.000</td>\n",
       "      <td>NaN</td>\n",
       "      <td>NaN</td>\n",
       "      <td>NaN</td>\n",
       "      <td>NaN</td>\n",
       "      <td>NaN</td>\n",
       "      <td>...</td>\n",
       "      <td>NaN</td>\n",
       "      <td>12.88</td>\n",
       "      <td>0.0</td>\n",
       "      <td>11.30</td>\n",
       "      <td>0.0</td>\n",
       "      <td>NaN</td>\n",
       "      <td>NaN</td>\n",
       "      <td>10.72</td>\n",
       "      <td>10.39</td>\n",
       "      <td>10.07</td>\n",
       "    </tr>\n",
       "  </tbody>\n",
       "</table>\n",
       "<p>87 rows × 31 columns</p>\n",
       "</div>"
      ],
      "text/plain": [
       "                data_hora  n_blumenau  c_blumenau  n_alfredo_wagner  \\\n",
       "92698 2011-09-09 08:00:00     12.6000         0.0             2.949   \n",
       "92699 2011-09-09 08:15:00     12.6300         0.0             2.886   \n",
       "92700 2011-09-09 08:30:00     12.6500         0.0             2.888   \n",
       "92701 2011-09-09 08:45:00     12.6800         0.0             2.849   \n",
       "92702 2011-09-09 09:00:00     12.6300         0.0             2.828   \n",
       "...                   ...         ...         ...               ...   \n",
       "92780 2011-09-10 04:30:00     11.1150         0.0             1.703   \n",
       "92781 2011-09-10 04:45:00     11.0895         0.0             1.701   \n",
       "92782 2011-09-10 05:00:00     11.0640         0.0             1.699   \n",
       "92783 2011-09-10 05:15:00     11.0385         0.0             1.693   \n",
       "92784 2011-09-10 05:30:00     11.0130         0.0             1.692   \n",
       "\n",
       "       c_alfredo_wagner  n_apiuna  c_apiuna  n_benedito_novo  c_benedito_novo  \\\n",
       "92698             0.000     10.23       0.0              NaN              NaN   \n",
       "92699             0.254     10.16       0.0              NaN              NaN   \n",
       "92700             0.000     10.10       0.0              NaN              NaN   \n",
       "92701             0.000     10.15       0.0              NaN              NaN   \n",
       "92702             0.000     10.02       0.0              NaN              NaN   \n",
       "...                 ...       ...       ...              ...              ...   \n",
       "92780             0.000       NaN       NaN              NaN              NaN   \n",
       "92781             0.000       NaN       NaN              NaN              NaN   \n",
       "92782             0.000       NaN       NaN              NaN              NaN   \n",
       "92783             0.000       NaN       NaN              NaN              NaN   \n",
       "92784             0.000       NaN       NaN              NaN              NaN   \n",
       "\n",
       "       n_gaspar  ...  c_rio_dos_cedros  n_rio_do_sul  c_rio_do_sul  n_taio  \\\n",
       "92698       NaN  ...               NaN         12.67           0.0   10.58   \n",
       "92699       NaN  ...               NaN         12.68           0.0   10.60   \n",
       "92700       NaN  ...               NaN         12.70           0.0   10.62   \n",
       "92701       NaN  ...               NaN         12.74           0.0   10.65   \n",
       "92702       NaN  ...               NaN         12.76           0.0   10.67   \n",
       "...         ...  ...               ...           ...           ...     ...   \n",
       "92780       NaN  ...               NaN         12.92           0.0   11.32   \n",
       "92781       NaN  ...               NaN         12.92           0.0   11.32   \n",
       "92782       NaN  ...               NaN         12.89           0.0   11.31   \n",
       "92783       NaN  ...               NaN         12.85           0.0   11.31   \n",
       "92784       NaN  ...               NaN         12.88           0.0   11.30   \n",
       "\n",
       "       c_taio  n_timbo  c_timbo  n_blumenau_3  n_blumenau_6  n_blumenau_9  \n",
       "92698     0.0     9.86      0.0         12.65         12.62         12.43  \n",
       "92699     0.0     9.83      0.0         12.66         12.65         12.38  \n",
       "92700     0.0     9.86      0.0         12.65         12.62         12.35  \n",
       "92701     0.0     9.86      0.0         12.68         12.62         12.33  \n",
       "92702     0.0     9.85      0.0         12.65         12.57         12.29  \n",
       "...       ...      ...      ...           ...           ...           ...  \n",
       "92780     0.0      NaN      NaN         10.81         10.51         10.14  \n",
       "92781     0.0      NaN      NaN         10.79         10.50         10.12  \n",
       "92782     0.0      NaN      NaN         10.78         10.46         10.13  \n",
       "92783     0.0      NaN      NaN         10.73         10.41         10.09  \n",
       "92784     0.0      NaN      NaN         10.72         10.39         10.07  \n",
       "\n",
       "[87 rows x 31 columns]"
      ]
     },
     "execution_count": 193,
     "metadata": {},
     "output_type": "execute_result"
    }
   ],
   "source": [
    "df_weather_stations[df_weather_stations.n_blumenau >= 11]"
   ]
  },
  {
   "cell_type": "code",
   "execution_count": 194,
   "metadata": {},
   "outputs": [
    {
     "data": {
      "text/plain": [
       "12208"
      ]
     },
     "execution_count": 194,
     "metadata": {},
     "output_type": "execute_result"
    }
   ],
   "source": [
    "len(flood_levels_index)"
   ]
  },
  {
   "cell_type": "code",
   "execution_count": 195,
   "metadata": {},
   "outputs": [],
   "source": [
    "flood_levels_range_index = []\n",
    "for flood_level_index in flood_levels_index:\n",
    "    start_range = flood_level_index - registers_interval_over_flood_events\n",
    "    end_range = flood_level_index + registers_interval_over_flood_events\n",
    "\n",
    "    indexs_to_remove = set()\n",
    "    new_start_ranges = []\n",
    "    new_end_ranges = []\n",
    "    for i, flood_level_range_index in enumerate(flood_levels_range_index):\n",
    "        other_start_range = flood_level_range_index[0]\n",
    "        other_end_range = flood_level_range_index[1]\n",
    "        if other_start_range <= start_range <= other_end_range:\n",
    "            indexs_to_remove.add(i)\n",
    "            new_start_ranges.append(other_start_range)\n",
    "\n",
    "        if other_start_range <= end_range <= other_end_range:\n",
    "            indexs_to_remove.add(i)\n",
    "            new_end_ranges.append(other_end_range)\n",
    "\n",
    "    if indexs_to_remove:\n",
    "        for index_to_remove in indexs_to_remove:\n",
    "            del flood_levels_range_index[index_to_remove]\n",
    "        \n",
    "        new_start_range = min(new_start_ranges) if new_start_ranges else start_range\n",
    "        new_end_range = max(new_end_ranges) if new_end_ranges else end_range\n",
    "        flood_levels_range_index.append([new_start_range, new_end_range])\n",
    "    else:\n",
    "        flood_levels_range_index.append([start_range, end_range])"
   ]
  },
  {
   "cell_type": "code",
   "execution_count": 196,
   "metadata": {},
   "outputs": [
    {
     "data": {
      "text/plain": [
       "39"
      ]
     },
     "execution_count": 196,
     "metadata": {},
     "output_type": "execute_result"
    }
   ],
   "source": [
    "len(flood_levels_range_index)"
   ]
  },
  {
   "cell_type": "code",
   "execution_count": 197,
   "metadata": {},
   "outputs": [
    {
     "data": {
      "text/plain": [
       "[[235, 468],\n",
       " [16860, 17090],\n",
       " [18768, 19179],\n",
       " [20578, 20859],\n",
       " [22610, 23183],\n",
       " [24338, 24810],\n",
       " [34656, 34958],\n",
       " [65881, 66136],\n",
       " [71172, 71587],\n",
       " [72412, 73147],\n",
       " [73572, 73803],\n",
       " [75118, 75370],\n",
       " [77052, 77302],\n",
       " [85985, 86389],\n",
       " [88767, 89343],\n",
       " [89626, 90131],\n",
       " [91000, 91295],\n",
       " [91645, 92232],\n",
       " [92338, 93594],\n",
       " [123519, 124328],\n",
       " [155133, 155447],\n",
       " [157955, 158481],\n",
       " [159986, 160216],\n",
       " [161529, 161739],\n",
       " [163861, 164907],\n",
       " [174872, 175221],\n",
       " [180584, 180788],\n",
       " [188815, 189900],\n",
       " [190730, 191555],\n",
       " [199770, 200375],\n",
       " [234619, 235016],\n",
       " [235731, 237948],\n",
       " [238273, 238671],\n",
       " [249802, 250229],\n",
       " [257440, 257698],\n",
       " [262748, 262968],\n",
       " [266086, 266574],\n",
       " [271914, 272196],\n",
       " [293023, 294570]]"
      ]
     },
     "execution_count": 197,
     "metadata": {},
     "output_type": "execute_result"
    }
   ],
   "source": [
    "flood_levels_range_index"
   ]
  },
  {
   "cell_type": "code",
   "execution_count": 198,
   "metadata": {},
   "outputs": [
    {
     "data": {
      "text/html": [
       "<div>\n",
       "<style scoped>\n",
       "    .dataframe tbody tr th:only-of-type {\n",
       "        vertical-align: middle;\n",
       "    }\n",
       "\n",
       "    .dataframe tbody tr th {\n",
       "        vertical-align: top;\n",
       "    }\n",
       "\n",
       "    .dataframe thead th {\n",
       "        text-align: right;\n",
       "    }\n",
       "</style>\n",
       "<table border=\"1\" class=\"dataframe\">\n",
       "  <thead>\n",
       "    <tr style=\"text-align: right;\">\n",
       "      <th></th>\n",
       "      <th>data_hora</th>\n",
       "      <th>n_blumenau</th>\n",
       "      <th>c_blumenau</th>\n",
       "      <th>n_alfredo_wagner</th>\n",
       "      <th>c_alfredo_wagner</th>\n",
       "      <th>n_apiuna</th>\n",
       "      <th>c_apiuna</th>\n",
       "      <th>n_benedito_novo</th>\n",
       "      <th>c_benedito_novo</th>\n",
       "      <th>n_gaspar</th>\n",
       "      <th>...</th>\n",
       "      <th>c_rio_dos_cedros</th>\n",
       "      <th>n_rio_do_sul</th>\n",
       "      <th>c_rio_do_sul</th>\n",
       "      <th>n_taio</th>\n",
       "      <th>c_taio</th>\n",
       "      <th>n_timbo</th>\n",
       "      <th>c_timbo</th>\n",
       "      <th>n_blumenau_3</th>\n",
       "      <th>n_blumenau_6</th>\n",
       "      <th>n_blumenau_9</th>\n",
       "    </tr>\n",
       "  </thead>\n",
       "  <tbody>\n",
       "  </tbody>\n",
       "</table>\n",
       "<p>0 rows × 31 columns</p>\n",
       "</div>"
      ],
      "text/plain": [
       "Empty DataFrame\n",
       "Columns: [data_hora, n_blumenau, c_blumenau, n_alfredo_wagner, c_alfredo_wagner, n_apiuna, c_apiuna, n_benedito_novo, c_benedito_novo, n_gaspar, n_ibirama, c_ibirama, n_indaial, c_indaial, n_ituporanga, c_ituporanga, n_pouso_redondo, c_pouso_redondo, n_rio_do_oeste, c_rio_do_oeste, n_rio_dos_cedros, c_rio_dos_cedros, n_rio_do_sul, c_rio_do_sul, n_taio, c_taio, n_timbo, c_timbo, n_blumenau_3, n_blumenau_6, n_blumenau_9]\n",
       "Index: []\n",
       "\n",
       "[0 rows x 31 columns]"
      ]
     },
     "execution_count": 198,
     "metadata": {},
     "output_type": "execute_result"
    }
   ],
   "source": [
    "df_weather_stations.iloc[262724:262992]"
   ]
  },
  {
   "cell_type": "code",
   "execution_count": 199,
   "metadata": {},
   "outputs": [],
   "source": [
    "for still_missing_blumenau_river_level_index in still_missing_blumenau_river_level_indexes:\n",
    "    start_gap = still_missing_blumenau_river_level_index[0]\n",
    "    end_gap = still_missing_blumenau_river_level_index[1]\n",
    "    for i, flood_level_range_index in enumerate(flood_levels_range_index):\n",
    "        start_flood_range = flood_level_range_index[0]\n",
    "        end_flood_range = flood_level_range_index[1]\n",
    "        if start_flood_range < start_gap < end_flood_range or start_flood_range < end_gap < end_flood_range:\n",
    "            del flood_levels_range_index[i]\n",
    "            break"
   ]
  },
  {
   "cell_type": "code",
   "execution_count": 200,
   "metadata": {},
   "outputs": [
    {
     "data": {
      "text/plain": [
       "32"
      ]
     },
     "execution_count": 200,
     "metadata": {},
     "output_type": "execute_result"
    }
   ],
   "source": [
    "len(flood_levels_range_index)"
   ]
  },
  {
   "cell_type": "code",
   "execution_count": 201,
   "metadata": {},
   "outputs": [
    {
     "data": {
      "text/plain": [
       "[[235, 468],\n",
       " [18768, 19179],\n",
       " [20578, 20859],\n",
       " [22610, 23183],\n",
       " [34656, 34958],\n",
       " [65881, 66136],\n",
       " [71172, 71587],\n",
       " [72412, 73147],\n",
       " [73572, 73803],\n",
       " [75118, 75370],\n",
       " [77052, 77302],\n",
       " [88767, 89343],\n",
       " [89626, 90131],\n",
       " [91000, 91295],\n",
       " [91645, 92232],\n",
       " [155133, 155447],\n",
       " [157955, 158481],\n",
       " [159986, 160216],\n",
       " [161529, 161739],\n",
       " [163861, 164907],\n",
       " [174872, 175221],\n",
       " [180584, 180788],\n",
       " [188815, 189900],\n",
       " [199770, 200375],\n",
       " [234619, 235016],\n",
       " [235731, 237948],\n",
       " [238273, 238671],\n",
       " [249802, 250229],\n",
       " [257440, 257698],\n",
       " [266086, 266574],\n",
       " [271914, 272196],\n",
       " [293023, 294570]]"
      ]
     },
     "execution_count": 201,
     "metadata": {},
     "output_type": "execute_result"
    }
   ],
   "source": [
    "flood_levels_range_index"
   ]
  },
  {
   "cell_type": "code",
   "execution_count": 202,
   "metadata": {},
   "outputs": [],
   "source": [
    "flood_levels_mask = []\n",
    "for i in df_weather_stations.index:\n",
    "    index_with_flood_level = False\n",
    "    for flood_level_range_index in flood_levels_range_index:\n",
    "        start_flood_range = flood_level_range_index[0]\n",
    "        end_flood_range = flood_level_range_index[1]\n",
    "        if start_flood_range <= i <= end_flood_range:\n",
    "            index_with_flood_level = True\n",
    "            break\n",
    "    flood_levels_mask.append(index_with_flood_level)"
   ]
  },
  {
   "cell_type": "code",
   "execution_count": 203,
   "metadata": {},
   "outputs": [
    {
     "data": {
      "text/plain": [
       "81193"
      ]
     },
     "execution_count": 203,
     "metadata": {},
     "output_type": "execute_result"
    }
   ],
   "source": [
    "len(weather_stations['blumenau'][weather_stations['blumenau'].n_blumenau.isna()])"
   ]
  },
  {
   "cell_type": "code",
   "execution_count": 204,
   "metadata": {},
   "outputs": [
    {
     "data": {
      "text/plain": [
       "0"
      ]
     },
     "execution_count": 204,
     "metadata": {},
     "output_type": "execute_result"
    }
   ],
   "source": [
    "len(df_weather_stations[df_weather_stations.n_blumenau.isna()])"
   ]
  },
  {
   "cell_type": "code",
   "execution_count": 205,
   "metadata": {},
   "outputs": [],
   "source": [
    "df_weather_stations_events = df_weather_stations.iloc[flood_levels_mask]"
   ]
  },
  {
   "cell_type": "code",
   "execution_count": 206,
   "metadata": {},
   "outputs": [
    {
     "data": {
      "text/plain": [
       "16463"
      ]
     },
     "execution_count": 206,
     "metadata": {},
     "output_type": "execute_result"
    }
   ],
   "source": [
    "len(df_weather_stations_events)"
   ]
  },
  {
   "cell_type": "code",
   "execution_count": 207,
   "metadata": {},
   "outputs": [],
   "source": [
    "def map_events_by_index(row):\n",
    "    original_index_list = row.numero_evento.values\n",
    "    event_number = []\n",
    "    for original_index in original_index_list:\n",
    "        for i, flood_level_range_index in enumerate(flood_levels_range_index, 1):\n",
    "            start_flood_range = flood_level_range_index[0]\n",
    "            end_flood_range = flood_level_range_index[1]\n",
    "            if (start_flood_range <= original_index) & (original_index <= end_flood_range):\n",
    "                event_number.append(i)\n",
    "                break\n",
    "    return event_number"
   ]
  },
  {
   "cell_type": "code",
   "execution_count": 208,
   "metadata": {},
   "outputs": [],
   "source": [
    "df_weather_stations_events = df_weather_stations_events.assign(numero_evento=df_weather_stations_events.index)\n",
    "df_weather_stations_events = df_weather_stations_events.assign(numero_evento=lambda row: map_events_by_index(row))"
   ]
  },
  {
   "cell_type": "code",
   "execution_count": 209,
   "metadata": {},
   "outputs": [
    {
     "data": {
      "text/html": [
       "<div>\n",
       "<style scoped>\n",
       "    .dataframe tbody tr th:only-of-type {\n",
       "        vertical-align: middle;\n",
       "    }\n",
       "\n",
       "    .dataframe tbody tr th {\n",
       "        vertical-align: top;\n",
       "    }\n",
       "\n",
       "    .dataframe thead th {\n",
       "        text-align: right;\n",
       "    }\n",
       "</style>\n",
       "<table border=\"1\" class=\"dataframe\">\n",
       "  <thead>\n",
       "    <tr style=\"text-align: right;\">\n",
       "      <th></th>\n",
       "      <th>data_hora</th>\n",
       "      <th>n_blumenau</th>\n",
       "      <th>c_blumenau</th>\n",
       "      <th>n_alfredo_wagner</th>\n",
       "      <th>c_alfredo_wagner</th>\n",
       "      <th>n_apiuna</th>\n",
       "      <th>c_apiuna</th>\n",
       "      <th>n_benedito_novo</th>\n",
       "      <th>c_benedito_novo</th>\n",
       "      <th>n_gaspar</th>\n",
       "      <th>...</th>\n",
       "      <th>n_rio_do_sul</th>\n",
       "      <th>c_rio_do_sul</th>\n",
       "      <th>n_taio</th>\n",
       "      <th>c_taio</th>\n",
       "      <th>n_timbo</th>\n",
       "      <th>c_timbo</th>\n",
       "      <th>n_blumenau_3</th>\n",
       "      <th>n_blumenau_6</th>\n",
       "      <th>n_blumenau_9</th>\n",
       "      <th>numero_evento</th>\n",
       "    </tr>\n",
       "  </thead>\n",
       "  <tbody>\n",
       "    <tr>\n",
       "      <th>235</th>\n",
       "      <td>2009-01-19 04:15:00</td>\n",
       "      <td>1.74275</td>\n",
       "      <td>0.0</td>\n",
       "      <td>NaN</td>\n",
       "      <td>NaN</td>\n",
       "      <td>0.829</td>\n",
       "      <td>0.0</td>\n",
       "      <td>NaN</td>\n",
       "      <td>NaN</td>\n",
       "      <td>NaN</td>\n",
       "      <td>...</td>\n",
       "      <td>NaN</td>\n",
       "      <td>NaN</td>\n",
       "      <td>NaN</td>\n",
       "      <td>0.0</td>\n",
       "      <td>NaN</td>\n",
       "      <td>NaN</td>\n",
       "      <td>1.74225</td>\n",
       "      <td>1.896</td>\n",
       "      <td>2.139</td>\n",
       "      <td>1</td>\n",
       "    </tr>\n",
       "    <tr>\n",
       "      <th>236</th>\n",
       "      <td>2009-01-19 04:30:00</td>\n",
       "      <td>1.73950</td>\n",
       "      <td>0.0</td>\n",
       "      <td>NaN</td>\n",
       "      <td>NaN</td>\n",
       "      <td>0.829</td>\n",
       "      <td>0.0</td>\n",
       "      <td>NaN</td>\n",
       "      <td>NaN</td>\n",
       "      <td>NaN</td>\n",
       "      <td>...</td>\n",
       "      <td>NaN</td>\n",
       "      <td>NaN</td>\n",
       "      <td>NaN</td>\n",
       "      <td>0.0</td>\n",
       "      <td>NaN</td>\n",
       "      <td>NaN</td>\n",
       "      <td>1.74650</td>\n",
       "      <td>1.932</td>\n",
       "      <td>2.148</td>\n",
       "      <td>1</td>\n",
       "    </tr>\n",
       "    <tr>\n",
       "      <th>237</th>\n",
       "      <td>2009-01-19 04:45:00</td>\n",
       "      <td>1.73625</td>\n",
       "      <td>0.0</td>\n",
       "      <td>NaN</td>\n",
       "      <td>NaN</td>\n",
       "      <td>0.827</td>\n",
       "      <td>0.0</td>\n",
       "      <td>NaN</td>\n",
       "      <td>NaN</td>\n",
       "      <td>NaN</td>\n",
       "      <td>...</td>\n",
       "      <td>NaN</td>\n",
       "      <td>NaN</td>\n",
       "      <td>NaN</td>\n",
       "      <td>0.0</td>\n",
       "      <td>NaN</td>\n",
       "      <td>NaN</td>\n",
       "      <td>1.75075</td>\n",
       "      <td>1.968</td>\n",
       "      <td>2.157</td>\n",
       "      <td>1</td>\n",
       "    </tr>\n",
       "    <tr>\n",
       "      <th>238</th>\n",
       "      <td>2009-01-19 05:00:00</td>\n",
       "      <td>1.73300</td>\n",
       "      <td>0.0</td>\n",
       "      <td>NaN</td>\n",
       "      <td>NaN</td>\n",
       "      <td>0.830</td>\n",
       "      <td>0.0</td>\n",
       "      <td>NaN</td>\n",
       "      <td>NaN</td>\n",
       "      <td>NaN</td>\n",
       "      <td>...</td>\n",
       "      <td>NaN</td>\n",
       "      <td>NaN</td>\n",
       "      <td>NaN</td>\n",
       "      <td>0.0</td>\n",
       "      <td>NaN</td>\n",
       "      <td>NaN</td>\n",
       "      <td>1.75500</td>\n",
       "      <td>2.004</td>\n",
       "      <td>2.166</td>\n",
       "      <td>1</td>\n",
       "    </tr>\n",
       "    <tr>\n",
       "      <th>239</th>\n",
       "      <td>2009-01-19 05:15:00</td>\n",
       "      <td>1.73525</td>\n",
       "      <td>0.0</td>\n",
       "      <td>NaN</td>\n",
       "      <td>NaN</td>\n",
       "      <td>0.829</td>\n",
       "      <td>0.0</td>\n",
       "      <td>NaN</td>\n",
       "      <td>NaN</td>\n",
       "      <td>NaN</td>\n",
       "      <td>...</td>\n",
       "      <td>NaN</td>\n",
       "      <td>NaN</td>\n",
       "      <td>NaN</td>\n",
       "      <td>0.0</td>\n",
       "      <td>NaN</td>\n",
       "      <td>NaN</td>\n",
       "      <td>1.76675</td>\n",
       "      <td>2.026</td>\n",
       "      <td>2.176</td>\n",
       "      <td>1</td>\n",
       "    </tr>\n",
       "  </tbody>\n",
       "</table>\n",
       "<p>5 rows × 32 columns</p>\n",
       "</div>"
      ],
      "text/plain": [
       "              data_hora  n_blumenau  c_blumenau  n_alfredo_wagner  \\\n",
       "235 2009-01-19 04:15:00     1.74275         0.0               NaN   \n",
       "236 2009-01-19 04:30:00     1.73950         0.0               NaN   \n",
       "237 2009-01-19 04:45:00     1.73625         0.0               NaN   \n",
       "238 2009-01-19 05:00:00     1.73300         0.0               NaN   \n",
       "239 2009-01-19 05:15:00     1.73525         0.0               NaN   \n",
       "\n",
       "     c_alfredo_wagner  n_apiuna  c_apiuna  n_benedito_novo  c_benedito_novo  \\\n",
       "235               NaN     0.829       0.0              NaN              NaN   \n",
       "236               NaN     0.829       0.0              NaN              NaN   \n",
       "237               NaN     0.827       0.0              NaN              NaN   \n",
       "238               NaN     0.830       0.0              NaN              NaN   \n",
       "239               NaN     0.829       0.0              NaN              NaN   \n",
       "\n",
       "     n_gaspar  ...  n_rio_do_sul  c_rio_do_sul  n_taio  c_taio  n_timbo  \\\n",
       "235       NaN  ...           NaN           NaN     NaN     0.0      NaN   \n",
       "236       NaN  ...           NaN           NaN     NaN     0.0      NaN   \n",
       "237       NaN  ...           NaN           NaN     NaN     0.0      NaN   \n",
       "238       NaN  ...           NaN           NaN     NaN     0.0      NaN   \n",
       "239       NaN  ...           NaN           NaN     NaN     0.0      NaN   \n",
       "\n",
       "     c_timbo  n_blumenau_3  n_blumenau_6  n_blumenau_9  numero_evento  \n",
       "235      NaN       1.74225         1.896         2.139              1  \n",
       "236      NaN       1.74650         1.932         2.148              1  \n",
       "237      NaN       1.75075         1.968         2.157              1  \n",
       "238      NaN       1.75500         2.004         2.166              1  \n",
       "239      NaN       1.76675         2.026         2.176              1  \n",
       "\n",
       "[5 rows x 32 columns]"
      ]
     },
     "execution_count": 209,
     "metadata": {},
     "output_type": "execute_result"
    }
   ],
   "source": [
    "df_weather_stations_events.head()"
   ]
  },
  {
   "cell_type": "code",
   "execution_count": 210,
   "metadata": {},
   "outputs": [
    {
     "name": "stdout",
     "output_type": "stream",
     "text": [
      "<class 'pandas.core.frame.DataFrame'>\n",
      "Int64Index: 16463 entries, 235 to 294517\n",
      "Data columns (total 32 columns):\n",
      " #   Column            Non-Null Count  Dtype         \n",
      "---  ------            --------------  -----         \n",
      " 0   data_hora         16463 non-null  datetime64[ns]\n",
      " 1   n_blumenau        16463 non-null  float64       \n",
      " 2   c_blumenau        16463 non-null  float64       \n",
      " 3   n_alfredo_wagner  11233 non-null  float64       \n",
      " 4   c_alfredo_wagner  11737 non-null  float64       \n",
      " 5   n_apiuna          14656 non-null  float64       \n",
      " 6   c_apiuna          14656 non-null  float64       \n",
      " 7   n_benedito_novo   9816 non-null   float64       \n",
      " 8   c_benedito_novo   9816 non-null   float64       \n",
      " 9   n_gaspar          9579 non-null   float64       \n",
      " 10  n_ibirama         13187 non-null  float64       \n",
      " 11  c_ibirama         16202 non-null  float64       \n",
      " 12  n_indaial         11263 non-null  float64       \n",
      " 13  c_indaial         13921 non-null  float64       \n",
      " 14  n_ituporanga      11082 non-null  float64       \n",
      " 15  c_ituporanga      13192 non-null  float64       \n",
      " 16  n_pouso_redondo   0 non-null      float64       \n",
      " 17  c_pouso_redondo   13369 non-null  float64       \n",
      " 18  n_rio_do_oeste    10954 non-null  float64       \n",
      " 19  c_rio_do_oeste    13294 non-null  float64       \n",
      " 20  n_rio_dos_cedros  8670 non-null   float64       \n",
      " 21  c_rio_dos_cedros  8953 non-null   float64       \n",
      " 22  n_rio_do_sul      14397 non-null  float64       \n",
      " 23  c_rio_do_sul      15289 non-null  float64       \n",
      " 24  n_taio            14671 non-null  float64       \n",
      " 25  c_taio            16286 non-null  float64       \n",
      " 26  n_timbo           12610 non-null  float64       \n",
      " 27  c_timbo           14754 non-null  float64       \n",
      " 28  n_blumenau_3      16463 non-null  float64       \n",
      " 29  n_blumenau_6      16463 non-null  float64       \n",
      " 30  n_blumenau_9      16463 non-null  float64       \n",
      " 31  numero_evento     16463 non-null  int64         \n",
      "dtypes: datetime64[ns](1), float64(30), int64(1)\n",
      "memory usage: 4.1 MB\n"
     ]
    }
   ],
   "source": [
    "df_weather_stations_events.info()"
   ]
  },
  {
   "cell_type": "code",
   "execution_count": 211,
   "metadata": {},
   "outputs": [
    {
     "data": {
      "text/plain": [
       "32"
      ]
     },
     "execution_count": 211,
     "metadata": {},
     "output_type": "execute_result"
    }
   ],
   "source": [
    "len(df_weather_stations_events.columns)"
   ]
  },
  {
   "cell_type": "code",
   "execution_count": 212,
   "metadata": {},
   "outputs": [
    {
     "data": {
      "text/plain": [
       "20"
      ]
     },
     "execution_count": 212,
     "metadata": {},
     "output_type": "execute_result"
    }
   ],
   "source": [
    "len(df_weather_stations_events.dropna(axis=1, thresh=13000).columns)"
   ]
  },
  {
   "cell_type": "code",
   "execution_count": 213,
   "metadata": {},
   "outputs": [],
   "source": [
    "df_weather_stations_events.dropna(axis=1, thresh=13000, inplace=True)"
   ]
  },
  {
   "cell_type": "markdown",
   "metadata": {},
   "source": [
    "### Preenche valores vazios de chuva com zero"
   ]
  },
  {
   "cell_type": "code",
   "execution_count": 214,
   "metadata": {},
   "outputs": [],
   "source": [
    "for rain_column in list(df_weather_stations_events.filter(regex='c_.*').columns):\n",
    "    df_weather_stations_events[rain_column].fillna(value=0, inplace=True)"
   ]
  },
  {
   "cell_type": "code",
   "execution_count": 215,
   "metadata": {},
   "outputs": [
    {
     "name": "stdout",
     "output_type": "stream",
     "text": [
      "<class 'pandas.core.frame.DataFrame'>\n",
      "Int64Index: 16463 entries, 235 to 294517\n",
      "Data columns (total 20 columns):\n",
      " #   Column           Non-Null Count  Dtype         \n",
      "---  ------           --------------  -----         \n",
      " 0   data_hora        16463 non-null  datetime64[ns]\n",
      " 1   n_blumenau       16463 non-null  float64       \n",
      " 2   c_blumenau       16463 non-null  float64       \n",
      " 3   n_apiuna         14656 non-null  float64       \n",
      " 4   c_apiuna         16463 non-null  float64       \n",
      " 5   n_ibirama        13187 non-null  float64       \n",
      " 6   c_ibirama        16463 non-null  float64       \n",
      " 7   c_indaial        16463 non-null  float64       \n",
      " 8   c_ituporanga     16463 non-null  float64       \n",
      " 9   c_pouso_redondo  16463 non-null  float64       \n",
      " 10  c_rio_do_oeste   16463 non-null  float64       \n",
      " 11  n_rio_do_sul     14397 non-null  float64       \n",
      " 12  c_rio_do_sul     16463 non-null  float64       \n",
      " 13  n_taio           14671 non-null  float64       \n",
      " 14  c_taio           16463 non-null  float64       \n",
      " 15  c_timbo          16463 non-null  float64       \n",
      " 16  n_blumenau_3     16463 non-null  float64       \n",
      " 17  n_blumenau_6     16463 non-null  float64       \n",
      " 18  n_blumenau_9     16463 non-null  float64       \n",
      " 19  numero_evento    16463 non-null  int64         \n",
      "dtypes: datetime64[ns](1), float64(18), int64(1)\n",
      "memory usage: 2.6 MB\n"
     ]
    }
   ],
   "source": [
    "df_weather_stations_events.info()"
   ]
  },
  {
   "cell_type": "markdown",
   "metadata": {},
   "source": [
    "### Preenche os valores vazios de nivel do rio pela mediana, considerando que nesse cenario ja foi feito uma interpolação linear para periodos de ate 5 horas sem registros"
   ]
  },
  {
   "cell_type": "code",
   "execution_count": 216,
   "metadata": {},
   "outputs": [],
   "source": [
    "for river_level_column in list(df_weather_stations_events.filter(regex='n_.*').columns):\n",
    "    df_weather_stations_events[river_level_column].fillna(df_weather_stations_events.groupby('numero_evento')[river_level_column].transform('median'), inplace=True)"
   ]
  },
  {
   "cell_type": "code",
   "execution_count": 217,
   "metadata": {},
   "outputs": [
    {
     "data": {
      "text/plain": [
       "n_ibirama       13448\n",
       "n_rio_do_sul    14451\n",
       "n_taio          15493\n",
       "dtype: int64"
      ]
     },
     "execution_count": 217,
     "metadata": {},
     "output_type": "execute_result"
    }
   ],
   "source": [
    "#Existem eventos em que determinadas estações não possuem nenhuma medição do nivel do rio e com isso não foi possivel preencher pela mediana das medições validas por não existir medição valida\n",
    "df_weather_stations_events.count()[df_weather_stations_events.count() != len(df_weather_stations_events)]"
   ]
  },
  {
   "cell_type": "markdown",
   "metadata": {},
   "source": [
    "### Preenche os valores vazios de estações sem medição do nivel do rio durante todo um evento com a media da estação durante todos os eventos"
   ]
  },
  {
   "cell_type": "code",
   "execution_count": 218,
   "metadata": {},
   "outputs": [],
   "source": [
    "for river_level_column in list(df_weather_stations_events.filter(regex='n_.*').columns):\n",
    "    df_weather_stations_events[river_level_column].fillna(df_weather_stations_events[river_level_column].median(), inplace=True)"
   ]
  },
  {
   "cell_type": "code",
   "execution_count": 219,
   "metadata": {},
   "outputs": [
    {
     "name": "stdout",
     "output_type": "stream",
     "text": [
      "<class 'pandas.core.frame.DataFrame'>\n",
      "Int64Index: 16463 entries, 235 to 294517\n",
      "Data columns (total 20 columns):\n",
      " #   Column           Non-Null Count  Dtype         \n",
      "---  ------           --------------  -----         \n",
      " 0   data_hora        16463 non-null  datetime64[ns]\n",
      " 1   n_blumenau       16463 non-null  float64       \n",
      " 2   c_blumenau       16463 non-null  float64       \n",
      " 3   n_apiuna         16463 non-null  float64       \n",
      " 4   c_apiuna         16463 non-null  float64       \n",
      " 5   n_ibirama        16463 non-null  float64       \n",
      " 6   c_ibirama        16463 non-null  float64       \n",
      " 7   c_indaial        16463 non-null  float64       \n",
      " 8   c_ituporanga     16463 non-null  float64       \n",
      " 9   c_pouso_redondo  16463 non-null  float64       \n",
      " 10  c_rio_do_oeste   16463 non-null  float64       \n",
      " 11  n_rio_do_sul     16463 non-null  float64       \n",
      " 12  c_rio_do_sul     16463 non-null  float64       \n",
      " 13  n_taio           16463 non-null  float64       \n",
      " 14  c_taio           16463 non-null  float64       \n",
      " 15  c_timbo          16463 non-null  float64       \n",
      " 16  n_blumenau_3     16463 non-null  float64       \n",
      " 17  n_blumenau_6     16463 non-null  float64       \n",
      " 18  n_blumenau_9     16463 non-null  float64       \n",
      " 19  numero_evento    16463 non-null  int64         \n",
      "dtypes: datetime64[ns](1), float64(18), int64(1)\n",
      "memory usage: 2.6 MB\n"
     ]
    }
   ],
   "source": [
    "df_weather_stations_events.info()"
   ]
  },
  {
   "cell_type": "markdown",
   "metadata": {},
   "source": [
    "### Remoção de outliears"
   ]
  },
  {
   "cell_type": "code",
   "execution_count": 220,
   "metadata": {},
   "outputs": [
    {
     "data": {
      "text/plain": [
       "data_hora          2009-01-19 04:15:00\n",
       "n_blumenau                       0.811\n",
       "c_blumenau                         0.0\n",
       "n_apiuna                         0.827\n",
       "c_apiuna                           0.0\n",
       "n_ibirama                        0.901\n",
       "c_ibirama                          0.0\n",
       "c_indaial                          0.0\n",
       "c_ituporanga                       0.0\n",
       "c_pouso_redondo                    0.0\n",
       "c_rio_do_oeste                     0.0\n",
       "n_rio_do_sul                     1.698\n",
       "c_rio_do_sul                       0.0\n",
       "n_taio                           0.397\n",
       "c_taio                         -7475.0\n",
       "c_timbo                            0.0\n",
       "n_blumenau_3                     0.811\n",
       "n_blumenau_6                     0.811\n",
       "n_blumenau_9                     0.811\n",
       "numero_evento                        1\n",
       "dtype: object"
      ]
     },
     "execution_count": 220,
     "metadata": {},
     "output_type": "execute_result"
    }
   ],
   "source": [
    "df_weather_stations_events.min()"
   ]
  },
  {
   "cell_type": "code",
   "execution_count": 221,
   "metadata": {},
   "outputs": [
    {
     "data": {
      "text/plain": [
       "data_hora          2017-06-11 14:45:00\n",
       "n_blumenau                       10.51\n",
       "c_blumenau                       18.54\n",
       "n_apiuna                          8.05\n",
       "c_apiuna                          16.2\n",
       "n_ibirama                        4.677\n",
       "c_ibirama                         15.4\n",
       "c_indaial                        17.53\n",
       "c_ituporanga                     10.92\n",
       "c_pouso_redondo                  24.38\n",
       "c_rio_do_oeste                   17.53\n",
       "n_rio_do_sul                     10.82\n",
       "c_rio_do_sul                     16.76\n",
       "n_taio                           10.95\n",
       "c_taio                           27.94\n",
       "c_timbo                          17.53\n",
       "n_blumenau_3                     10.51\n",
       "n_blumenau_6                     10.51\n",
       "n_blumenau_9                     10.51\n",
       "numero_evento                       32\n",
       "dtype: object"
      ]
     },
     "execution_count": 221,
     "metadata": {},
     "output_type": "execute_result"
    }
   ],
   "source": [
    "df_weather_stations_events.max()"
   ]
  },
  {
   "cell_type": "code",
   "execution_count": 222,
   "metadata": {},
   "outputs": [],
   "source": [
    "# Change negative rain by NaN to 0\n",
    "for rain_column in df_weather_stations_events.filter(regex='c_.*').columns:\n",
    "    df_weather_stations_events[rain_column] = df_weather_stations_events[rain_column].mask(df_weather_stations_events[rain_column] < 0, other=0)"
   ]
  },
  {
   "cell_type": "code",
   "execution_count": 223,
   "metadata": {},
   "outputs": [
    {
     "data": {
      "text/plain": [
       "data_hora          2009-01-19 04:15:00\n",
       "n_blumenau                       0.811\n",
       "c_blumenau                         0.0\n",
       "n_apiuna                         0.827\n",
       "c_apiuna                           0.0\n",
       "n_ibirama                        0.901\n",
       "c_ibirama                          0.0\n",
       "c_indaial                          0.0\n",
       "c_ituporanga                       0.0\n",
       "c_pouso_redondo                    0.0\n",
       "c_rio_do_oeste                     0.0\n",
       "n_rio_do_sul                     1.698\n",
       "c_rio_do_sul                       0.0\n",
       "n_taio                           0.397\n",
       "c_taio                             0.0\n",
       "c_timbo                            0.0\n",
       "n_blumenau_3                     0.811\n",
       "n_blumenau_6                     0.811\n",
       "n_blumenau_9                     0.811\n",
       "numero_evento                        1\n",
       "dtype: object"
      ]
     },
     "execution_count": 223,
     "metadata": {},
     "output_type": "execute_result"
    }
   ],
   "source": [
    "df_weather_stations_events.min()"
   ]
  },
  {
   "cell_type": "markdown",
   "metadata": {},
   "source": [
    "## Save final dataset"
   ]
  },
  {
   "cell_type": "code",
   "execution_count": 224,
   "metadata": {},
   "outputs": [],
   "source": [
    "df_weather_stations_events.to_csv('..\\data\\ceops_v1\\estacoes_eventos_nivel_rio.csv', float_format='%.3f', index=False)"
   ]
  },
  {
   "cell_type": "code",
   "execution_count": null,
   "metadata": {},
   "outputs": [],
   "source": []
  }
 ],
 "metadata": {
  "interpreter": {
   "hash": "3bb1454f3b7ddd18e64259a04247bedb4ad65fd2b43c0d2b35bf7495b143fbf6"
  },
  "kernelspec": {
   "display_name": "Python 3.8.10 64-bit",
   "language": "python",
   "name": "python3"
  },
  "language_info": {
   "codemirror_mode": {
    "name": "ipython",
    "version": 3
   },
   "file_extension": ".py",
   "mimetype": "text/x-python",
   "name": "python",
   "nbconvert_exporter": "python",
   "pygments_lexer": "ipython3",
   "version": "3.8.10"
  },
  "orig_nbformat": 4
 },
 "nbformat": 4,
 "nbformat_minor": 2
}
